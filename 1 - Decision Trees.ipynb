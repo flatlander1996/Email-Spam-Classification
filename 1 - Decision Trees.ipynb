{
 "cells": [
  {
   "cell_type": "markdown",
   "metadata": {},
   "source": [
    "# Use the ID3 algorithm for the following question. <a class=\"tocSkip\">"
   ]
  },
  {
   "cell_type": "markdown",
   "metadata": {},
   "source": [
    "# Build Decision Tree"
   ]
  },
  {
   "cell_type": "markdown",
   "metadata": {},
   "source": [
    "**Build a decision tree from the given tennis dataset. You should build a tree to predict PlayTennis, based on the\n",
    "other attributes (but, do not use the Day attribute in your tree.). Show all of your work, calculations, and\n",
    "decisions as you build the tree.\n",
    "What is the classification accuracy?**"
   ]
  },
  {
   "cell_type": "markdown",
   "metadata": {},
   "source": [
    "<img src=\"https://i.gyazo.com/d56d8220c80e3416177b9945203259e8.png\">"
   ]
  },
  {
   "cell_type": "markdown",
   "metadata": {},
   "source": [
    "We will fill the dataset manually since its small and its easter break."
   ]
  },
  {
   "cell_type": "code",
   "execution_count": 43,
   "metadata": {
    "ExecuteTime": {
     "end_time": "2019-04-27T13:38:27.954068Z",
     "start_time": "2019-04-27T13:38:27.941103Z"
    }
   },
   "outputs": [
    {
     "data": {
      "text/html": [
       "<div>\n",
       "<style scoped>\n",
       "    .dataframe tbody tr th:only-of-type {\n",
       "        vertical-align: middle;\n",
       "    }\n",
       "\n",
       "    .dataframe tbody tr th {\n",
       "        vertical-align: top;\n",
       "    }\n",
       "\n",
       "    .dataframe thead th {\n",
       "        text-align: right;\n",
       "    }\n",
       "</style>\n",
       "<table border=\"1\" class=\"dataframe\">\n",
       "  <thead>\n",
       "    <tr style=\"text-align: right;\">\n",
       "      <th></th>\n",
       "      <th>Day</th>\n",
       "      <th>Outlook</th>\n",
       "      <th>Temperature</th>\n",
       "      <th>Humidity</th>\n",
       "      <th>Wind</th>\n",
       "      <th>PlayTennis</th>\n",
       "    </tr>\n",
       "  </thead>\n",
       "  <tbody>\n",
       "    <tr>\n",
       "      <th>0</th>\n",
       "      <td>D1</td>\n",
       "      <td>Sunny</td>\n",
       "      <td>Hot</td>\n",
       "      <td>High</td>\n",
       "      <td>Weak</td>\n",
       "      <td>No</td>\n",
       "    </tr>\n",
       "    <tr>\n",
       "      <th>1</th>\n",
       "      <td>D2</td>\n",
       "      <td>Sunny</td>\n",
       "      <td>Hot</td>\n",
       "      <td>High</td>\n",
       "      <td>Strong</td>\n",
       "      <td>No</td>\n",
       "    </tr>\n",
       "    <tr>\n",
       "      <th>2</th>\n",
       "      <td>D3</td>\n",
       "      <td>Overcast</td>\n",
       "      <td>Hot</td>\n",
       "      <td>High</td>\n",
       "      <td>Weak</td>\n",
       "      <td>Yes</td>\n",
       "    </tr>\n",
       "    <tr>\n",
       "      <th>3</th>\n",
       "      <td>D4</td>\n",
       "      <td>Rain</td>\n",
       "      <td>Mild</td>\n",
       "      <td>High</td>\n",
       "      <td>Weak</td>\n",
       "      <td>Yes</td>\n",
       "    </tr>\n",
       "    <tr>\n",
       "      <th>4</th>\n",
       "      <td>D5</td>\n",
       "      <td>Rain</td>\n",
       "      <td>Cool</td>\n",
       "      <td>Normal</td>\n",
       "      <td>Weak</td>\n",
       "      <td>Yes</td>\n",
       "    </tr>\n",
       "    <tr>\n",
       "      <th>5</th>\n",
       "      <td>D6</td>\n",
       "      <td>Rain</td>\n",
       "      <td>Cool</td>\n",
       "      <td>Normal</td>\n",
       "      <td>Strong</td>\n",
       "      <td>No</td>\n",
       "    </tr>\n",
       "    <tr>\n",
       "      <th>6</th>\n",
       "      <td>D7</td>\n",
       "      <td>Overcast</td>\n",
       "      <td>Cool</td>\n",
       "      <td>Normal</td>\n",
       "      <td>Strong</td>\n",
       "      <td>Yes</td>\n",
       "    </tr>\n",
       "    <tr>\n",
       "      <th>7</th>\n",
       "      <td>D8</td>\n",
       "      <td>Sunny</td>\n",
       "      <td>Mild</td>\n",
       "      <td>High</td>\n",
       "      <td>Weak</td>\n",
       "      <td>No</td>\n",
       "    </tr>\n",
       "    <tr>\n",
       "      <th>8</th>\n",
       "      <td>D9</td>\n",
       "      <td>Sunny</td>\n",
       "      <td>Cool</td>\n",
       "      <td>Normal</td>\n",
       "      <td>Weak</td>\n",
       "      <td>Yes</td>\n",
       "    </tr>\n",
       "    <tr>\n",
       "      <th>9</th>\n",
       "      <td>D10</td>\n",
       "      <td>Rain</td>\n",
       "      <td>Mild</td>\n",
       "      <td>Normal</td>\n",
       "      <td>Weak</td>\n",
       "      <td>Yes</td>\n",
       "    </tr>\n",
       "    <tr>\n",
       "      <th>10</th>\n",
       "      <td>D11</td>\n",
       "      <td>Sunny</td>\n",
       "      <td>Mild</td>\n",
       "      <td>Normal</td>\n",
       "      <td>Strong</td>\n",
       "      <td>Yes</td>\n",
       "    </tr>\n",
       "    <tr>\n",
       "      <th>11</th>\n",
       "      <td>D12</td>\n",
       "      <td>Overcast</td>\n",
       "      <td>Mild</td>\n",
       "      <td>High</td>\n",
       "      <td>Strong</td>\n",
       "      <td>Yes</td>\n",
       "    </tr>\n",
       "    <tr>\n",
       "      <th>12</th>\n",
       "      <td>D13</td>\n",
       "      <td>Overcast</td>\n",
       "      <td>Hot</td>\n",
       "      <td>Normal</td>\n",
       "      <td>Weak</td>\n",
       "      <td>Yes</td>\n",
       "    </tr>\n",
       "    <tr>\n",
       "      <th>13</th>\n",
       "      <td>D14</td>\n",
       "      <td>Rain</td>\n",
       "      <td>Mild</td>\n",
       "      <td>High</td>\n",
       "      <td>Strong</td>\n",
       "      <td>No</td>\n",
       "    </tr>\n",
       "  </tbody>\n",
       "</table>\n",
       "</div>"
      ],
      "text/plain": [
       "    Day   Outlook Temperature Humidity    Wind PlayTennis\n",
       "0    D1     Sunny         Hot     High    Weak         No\n",
       "1    D2     Sunny         Hot     High  Strong         No\n",
       "2    D3  Overcast         Hot     High    Weak        Yes\n",
       "3    D4      Rain        Mild     High    Weak        Yes\n",
       "4    D5      Rain        Cool   Normal    Weak        Yes\n",
       "5    D6      Rain        Cool   Normal  Strong         No\n",
       "6    D7  Overcast        Cool   Normal  Strong        Yes\n",
       "7    D8     Sunny        Mild     High    Weak         No\n",
       "8    D9     Sunny        Cool   Normal    Weak        Yes\n",
       "9   D10      Rain        Mild   Normal    Weak        Yes\n",
       "10  D11     Sunny        Mild   Normal  Strong        Yes\n",
       "11  D12  Overcast        Mild     High  Strong        Yes\n",
       "12  D13  Overcast         Hot   Normal    Weak        Yes\n",
       "13  D14      Rain        Mild     High  Strong         No"
      ]
     },
     "execution_count": 43,
     "metadata": {},
     "output_type": "execute_result"
    }
   ],
   "source": [
    "import pandas as pd\n",
    "import numpy as np\n",
    "\n",
    "df = pd.DataFrame(columns=[\"Day\",\"Outlook\", \"Temperature\",\"Humidity\",\"Wind\",\"PlayTennis\"],\n",
    "                   data=[['D1','Sunny','Hot','High','Weak','No'],\n",
    "                         ['D2','Sunny','Hot','High','Strong','No'],\n",
    "                         ['D3','Overcast','Hot','High','Weak','Yes'],\n",
    "                         ['D4','Rain','Mild','High','Weak','Yes'],\n",
    "                         ['D5','Rain','Cool','Normal','Weak','Yes'],\n",
    "                         ['D6','Rain','Cool','Normal','Strong','No'],\n",
    "                         ['D7','Overcast','Cool','Normal','Strong','Yes'],\n",
    "                         ['D8','Sunny','Mild','High','Weak','No'],\n",
    "                         ['D9','Sunny','Cool','Normal','Weak','Yes'],\n",
    "                         ['D10','Rain','Mild','Normal','Weak','Yes'],\n",
    "                         ['D11','Sunny','Mild','Normal','Strong','Yes'],\n",
    "                         ['D12','Overcast','Mild','High','Strong','Yes'],\n",
    "                         ['D13','Overcast','Hot','Normal','Weak','Yes'],\n",
    "                         ['D14','Rain','Mild','High','Strong','No']])\n",
    "df"
   ]
  },
  {
   "cell_type": "code",
   "execution_count": 161,
   "metadata": {
    "ExecuteTime": {
     "end_time": "2019-04-27T15:43:36.414940Z",
     "start_time": "2019-04-27T15:43:36.410951Z"
    }
   },
   "outputs": [
    {
     "name": "stdout",
     "output_type": "stream",
     "text": [
      "9\n",
      "5\n",
      "14\n"
     ]
    }
   ],
   "source": [
    "#number of positive and negative examples in entire dataset\n",
    "p=np.sum(df['PlayTennis']=='Yes')\n",
    "n=np.sum(df['PlayTennis']=='No')\n",
    "total= n + p\n",
    "print(p)\n",
    "print(n)\n",
    "print(total)"
   ]
  },
  {
   "cell_type": "markdown",
   "metadata": {},
   "source": [
    "Entropy of entire dataset S"
   ]
  },
  {
   "cell_type": "code",
   "execution_count": 162,
   "metadata": {
    "ExecuteTime": {
     "end_time": "2019-04-27T15:43:38.020012Z",
     "start_time": "2019-04-27T15:43:38.016024Z"
    }
   },
   "outputs": [
    {
     "data": {
      "text/plain": [
       "0.9402859586706311"
      ]
     },
     "execution_count": 162,
     "metadata": {},
     "output_type": "execute_result"
    }
   ],
   "source": [
    "EntropyS= -p/(total)*np.log2(p/(total)) - n/(total)*np.log2(n/(total))\n",
    "EntropyS"
   ]
  },
  {
   "cell_type": "markdown",
   "metadata": {},
   "source": [
    "## Choose root node"
   ]
  },
  {
   "cell_type": "markdown",
   "metadata": {},
   "source": [
    "At first iteration, we need to know which is best attribute to be chosen as top root in our decision tree. To do that, ID3 will find the best attribute which is has **maximum information gain**."
   ]
  },
  {
   "cell_type": "markdown",
   "metadata": {},
   "source": [
    "For each Attribute (we will start with **Outlook**)   \n",
    "-Calculate Entropy for all possible values (here we have 'Sunny','Rainy','Overcast')"
   ]
  },
  {
   "cell_type": "markdown",
   "metadata": {},
   "source": [
    "### Outlook"
   ]
  },
  {
   "cell_type": "code",
   "execution_count": 163,
   "metadata": {
    "ExecuteTime": {
     "end_time": "2019-04-27T15:44:11.003923Z",
     "start_time": "2019-04-27T15:44:10.986949Z"
    }
   },
   "outputs": [
    {
     "data": {
      "text/html": [
       "<div>\n",
       "<style scoped>\n",
       "    .dataframe tbody tr th:only-of-type {\n",
       "        vertical-align: middle;\n",
       "    }\n",
       "\n",
       "    .dataframe tbody tr th {\n",
       "        vertical-align: top;\n",
       "    }\n",
       "\n",
       "    .dataframe thead th {\n",
       "        text-align: right;\n",
       "    }\n",
       "</style>\n",
       "<table border=\"1\" class=\"dataframe\">\n",
       "  <thead>\n",
       "    <tr style=\"text-align: right;\">\n",
       "      <th></th>\n",
       "      <th>Outlook</th>\n",
       "      <th>PlayTennis</th>\n",
       "    </tr>\n",
       "  </thead>\n",
       "  <tbody>\n",
       "    <tr>\n",
       "      <th>0</th>\n",
       "      <td>Sunny</td>\n",
       "      <td>No</td>\n",
       "    </tr>\n",
       "    <tr>\n",
       "      <th>1</th>\n",
       "      <td>Sunny</td>\n",
       "      <td>No</td>\n",
       "    </tr>\n",
       "    <tr>\n",
       "      <th>7</th>\n",
       "      <td>Sunny</td>\n",
       "      <td>No</td>\n",
       "    </tr>\n",
       "    <tr>\n",
       "      <th>8</th>\n",
       "      <td>Sunny</td>\n",
       "      <td>Yes</td>\n",
       "    </tr>\n",
       "    <tr>\n",
       "      <th>10</th>\n",
       "      <td>Sunny</td>\n",
       "      <td>Yes</td>\n",
       "    </tr>\n",
       "  </tbody>\n",
       "</table>\n",
       "</div>"
      ],
      "text/plain": [
       "   Outlook PlayTennis\n",
       "0    Sunny         No\n",
       "1    Sunny         No\n",
       "7    Sunny         No\n",
       "8    Sunny        Yes\n",
       "10   Sunny        Yes"
      ]
     },
     "metadata": {},
     "output_type": "display_data"
    },
    {
     "data": {
      "text/html": [
       "<div>\n",
       "<style scoped>\n",
       "    .dataframe tbody tr th:only-of-type {\n",
       "        vertical-align: middle;\n",
       "    }\n",
       "\n",
       "    .dataframe tbody tr th {\n",
       "        vertical-align: top;\n",
       "    }\n",
       "\n",
       "    .dataframe thead th {\n",
       "        text-align: right;\n",
       "    }\n",
       "</style>\n",
       "<table border=\"1\" class=\"dataframe\">\n",
       "  <thead>\n",
       "    <tr style=\"text-align: right;\">\n",
       "      <th></th>\n",
       "      <th>Outlook</th>\n",
       "      <th>PlayTennis</th>\n",
       "    </tr>\n",
       "  </thead>\n",
       "  <tbody>\n",
       "    <tr>\n",
       "      <th>3</th>\n",
       "      <td>Rain</td>\n",
       "      <td>Yes</td>\n",
       "    </tr>\n",
       "    <tr>\n",
       "      <th>4</th>\n",
       "      <td>Rain</td>\n",
       "      <td>Yes</td>\n",
       "    </tr>\n",
       "    <tr>\n",
       "      <th>5</th>\n",
       "      <td>Rain</td>\n",
       "      <td>No</td>\n",
       "    </tr>\n",
       "    <tr>\n",
       "      <th>9</th>\n",
       "      <td>Rain</td>\n",
       "      <td>Yes</td>\n",
       "    </tr>\n",
       "    <tr>\n",
       "      <th>13</th>\n",
       "      <td>Rain</td>\n",
       "      <td>No</td>\n",
       "    </tr>\n",
       "  </tbody>\n",
       "</table>\n",
       "</div>"
      ],
      "text/plain": [
       "   Outlook PlayTennis\n",
       "3     Rain        Yes\n",
       "4     Rain        Yes\n",
       "5     Rain         No\n",
       "9     Rain        Yes\n",
       "13    Rain         No"
      ]
     },
     "metadata": {},
     "output_type": "display_data"
    },
    {
     "data": {
      "text/html": [
       "<div>\n",
       "<style scoped>\n",
       "    .dataframe tbody tr th:only-of-type {\n",
       "        vertical-align: middle;\n",
       "    }\n",
       "\n",
       "    .dataframe tbody tr th {\n",
       "        vertical-align: top;\n",
       "    }\n",
       "\n",
       "    .dataframe thead th {\n",
       "        text-align: right;\n",
       "    }\n",
       "</style>\n",
       "<table border=\"1\" class=\"dataframe\">\n",
       "  <thead>\n",
       "    <tr style=\"text-align: right;\">\n",
       "      <th></th>\n",
       "      <th>Outlook</th>\n",
       "      <th>PlayTennis</th>\n",
       "    </tr>\n",
       "  </thead>\n",
       "  <tbody>\n",
       "    <tr>\n",
       "      <th>2</th>\n",
       "      <td>Overcast</td>\n",
       "      <td>Yes</td>\n",
       "    </tr>\n",
       "    <tr>\n",
       "      <th>6</th>\n",
       "      <td>Overcast</td>\n",
       "      <td>Yes</td>\n",
       "    </tr>\n",
       "    <tr>\n",
       "      <th>11</th>\n",
       "      <td>Overcast</td>\n",
       "      <td>Yes</td>\n",
       "    </tr>\n",
       "    <tr>\n",
       "      <th>12</th>\n",
       "      <td>Overcast</td>\n",
       "      <td>Yes</td>\n",
       "    </tr>\n",
       "  </tbody>\n",
       "</table>\n",
       "</div>"
      ],
      "text/plain": [
       "     Outlook PlayTennis\n",
       "2   Overcast        Yes\n",
       "6   Overcast        Yes\n",
       "11  Overcast        Yes\n",
       "12  Overcast        Yes"
      ]
     },
     "metadata": {},
     "output_type": "display_data"
    }
   ],
   "source": [
    "OutlookS=df[df['Outlook']=='Sunny']\n",
    "OutlookR=df[df['Outlook']=='Rain']\n",
    "OutlookO=df[df['Outlook']=='Overcast']\n",
    "\n",
    "display(OutlookS.loc[:,['Outlook','PlayTennis']])\n",
    "display(OutlookR.loc[:,['Outlook','PlayTennis']])\n",
    "display(OutlookO.loc[:,['Outlook','PlayTennis']])"
   ]
  },
  {
   "cell_type": "code",
   "execution_count": 164,
   "metadata": {
    "ExecuteTime": {
     "end_time": "2019-04-27T15:44:11.810523Z",
     "start_time": "2019-04-27T15:44:11.808530Z"
    }
   },
   "outputs": [],
   "source": [
    "#TO AVOID INFINITE LOG WE WILL ADD A VERY SMALL NUMBER TO IT \n",
    "eps=0.0000000001"
   ]
  },
  {
   "cell_type": "code",
   "execution_count": 165,
   "metadata": {
    "ExecuteTime": {
     "end_time": "2019-04-27T15:44:12.244740Z",
     "start_time": "2019-04-27T15:44:12.238779Z"
    }
   },
   "outputs": [
    {
     "data": {
      "text/plain": [
       "0.9709505941661296"
      ]
     },
     "execution_count": 165,
     "metadata": {},
     "output_type": "execute_result"
    }
   ],
   "source": [
    "#Entropy for sunny\n",
    "pS=np.sum(OutlookS['PlayTennis']=='Yes')\n",
    "nS=np.sum(OutlookS['PlayTennis']=='No')\n",
    "\n",
    "ESunny=-pS/(pS+nS)*np.log2(pS/(pS+nS) + eps) - nS/(pS+nS)*np.log2(nS/(pS+nS) + eps)\n",
    "ESunny"
   ]
  },
  {
   "cell_type": "code",
   "execution_count": 166,
   "metadata": {
    "ExecuteTime": {
     "end_time": "2019-04-27T15:44:12.416976Z",
     "start_time": "2019-04-27T15:44:12.411990Z"
    }
   },
   "outputs": [
    {
     "data": {
      "text/plain": [
       "0.9709505941661296"
      ]
     },
     "execution_count": 166,
     "metadata": {},
     "output_type": "execute_result"
    }
   ],
   "source": [
    "#Entropy for rain\n",
    "pR=np.sum(OutlookR['PlayTennis']=='Yes')\n",
    "nR=np.sum(OutlookR['PlayTennis']=='No')\n",
    "\n",
    "ERain=-pR/(pR+nR)*np.log2(pR/(pR+nR) + eps) - nR/(pR+nR)*np.log2(nR/(pR+nR) + eps)\n",
    "ERain"
   ]
  },
  {
   "cell_type": "code",
   "execution_count": 167,
   "metadata": {
    "ExecuteTime": {
     "end_time": "2019-04-27T15:44:12.568571Z",
     "start_time": "2019-04-27T15:44:12.563585Z"
    }
   },
   "outputs": [
    {
     "data": {
      "text/plain": [
       "-1.4426951601859516e-10"
      ]
     },
     "execution_count": 167,
     "metadata": {},
     "output_type": "execute_result"
    }
   ],
   "source": [
    "#Entropy for overcast\n",
    "pO=np.sum(OutlookO['PlayTennis']=='Yes')\n",
    "nO=np.sum(OutlookO['PlayTennis']=='No')\n",
    "\n",
    "EOvercast=-pO/(pO+nO)*np.log2(pO/(pO+nO) + eps) - nO/(pO+nO)*np.log2(nO/(pO+nO) + eps)\n",
    "EOvercast"
   ]
  },
  {
   "cell_type": "code",
   "execution_count": 168,
   "metadata": {
    "ExecuteTime": {
     "end_time": "2019-04-27T15:44:12.740112Z",
     "start_time": "2019-04-27T15:44:12.736123Z"
    }
   },
   "outputs": [
    {
     "data": {
      "text/plain": [
       "0.6935361386488726"
      ]
     },
     "execution_count": 168,
     "metadata": {},
     "output_type": "execute_result"
    }
   ],
   "source": [
    "# Calculate average information entropy\n",
    "\n",
    "IOutlook = (pS+nS)/total*ESunny + (pR+nR)/total*ERain + (pO+nO)/total*EOvercast\n",
    "IOutlook"
   ]
  },
  {
   "cell_type": "code",
   "execution_count": 116,
   "metadata": {
    "ExecuteTime": {
     "end_time": "2019-04-27T14:47:57.685514Z",
     "start_time": "2019-04-27T14:47:57.682522Z"
    }
   },
   "outputs": [
    {
     "data": {
      "text/plain": [
       "0.2467498200217585"
      ]
     },
     "execution_count": 116,
     "metadata": {},
     "output_type": "execute_result"
    }
   ],
   "source": [
    "# Calculate information gain\n",
    "IGOutlook=EntropyS-IOutlook\n",
    "IGOutlook"
   ]
  },
  {
   "cell_type": "markdown",
   "metadata": {},
   "source": [
    "### Temperature"
   ]
  },
  {
   "cell_type": "code",
   "execution_count": 117,
   "metadata": {
    "ExecuteTime": {
     "end_time": "2019-04-27T14:52:27.955751Z",
     "start_time": "2019-04-27T14:52:27.937820Z"
    }
   },
   "outputs": [
    {
     "data": {
      "text/html": [
       "<div>\n",
       "<style scoped>\n",
       "    .dataframe tbody tr th:only-of-type {\n",
       "        vertical-align: middle;\n",
       "    }\n",
       "\n",
       "    .dataframe tbody tr th {\n",
       "        vertical-align: top;\n",
       "    }\n",
       "\n",
       "    .dataframe thead th {\n",
       "        text-align: right;\n",
       "    }\n",
       "</style>\n",
       "<table border=\"1\" class=\"dataframe\">\n",
       "  <thead>\n",
       "    <tr style=\"text-align: right;\">\n",
       "      <th></th>\n",
       "      <th>Temperature</th>\n",
       "      <th>PlayTennis</th>\n",
       "    </tr>\n",
       "  </thead>\n",
       "  <tbody>\n",
       "    <tr>\n",
       "      <th>0</th>\n",
       "      <td>Hot</td>\n",
       "      <td>No</td>\n",
       "    </tr>\n",
       "    <tr>\n",
       "      <th>1</th>\n",
       "      <td>Hot</td>\n",
       "      <td>No</td>\n",
       "    </tr>\n",
       "    <tr>\n",
       "      <th>2</th>\n",
       "      <td>Hot</td>\n",
       "      <td>Yes</td>\n",
       "    </tr>\n",
       "    <tr>\n",
       "      <th>12</th>\n",
       "      <td>Hot</td>\n",
       "      <td>Yes</td>\n",
       "    </tr>\n",
       "  </tbody>\n",
       "</table>\n",
       "</div>"
      ],
      "text/plain": [
       "   Temperature PlayTennis\n",
       "0          Hot         No\n",
       "1          Hot         No\n",
       "2          Hot        Yes\n",
       "12         Hot        Yes"
      ]
     },
     "metadata": {},
     "output_type": "display_data"
    },
    {
     "data": {
      "text/html": [
       "<div>\n",
       "<style scoped>\n",
       "    .dataframe tbody tr th:only-of-type {\n",
       "        vertical-align: middle;\n",
       "    }\n",
       "\n",
       "    .dataframe tbody tr th {\n",
       "        vertical-align: top;\n",
       "    }\n",
       "\n",
       "    .dataframe thead th {\n",
       "        text-align: right;\n",
       "    }\n",
       "</style>\n",
       "<table border=\"1\" class=\"dataframe\">\n",
       "  <thead>\n",
       "    <tr style=\"text-align: right;\">\n",
       "      <th></th>\n",
       "      <th>Temperature</th>\n",
       "      <th>PlayTennis</th>\n",
       "    </tr>\n",
       "  </thead>\n",
       "  <tbody>\n",
       "    <tr>\n",
       "      <th>3</th>\n",
       "      <td>Mild</td>\n",
       "      <td>Yes</td>\n",
       "    </tr>\n",
       "    <tr>\n",
       "      <th>7</th>\n",
       "      <td>Mild</td>\n",
       "      <td>No</td>\n",
       "    </tr>\n",
       "    <tr>\n",
       "      <th>9</th>\n",
       "      <td>Mild</td>\n",
       "      <td>Yes</td>\n",
       "    </tr>\n",
       "    <tr>\n",
       "      <th>10</th>\n",
       "      <td>Mild</td>\n",
       "      <td>Yes</td>\n",
       "    </tr>\n",
       "    <tr>\n",
       "      <th>11</th>\n",
       "      <td>Mild</td>\n",
       "      <td>Yes</td>\n",
       "    </tr>\n",
       "    <tr>\n",
       "      <th>13</th>\n",
       "      <td>Mild</td>\n",
       "      <td>No</td>\n",
       "    </tr>\n",
       "  </tbody>\n",
       "</table>\n",
       "</div>"
      ],
      "text/plain": [
       "   Temperature PlayTennis\n",
       "3         Mild        Yes\n",
       "7         Mild         No\n",
       "9         Mild        Yes\n",
       "10        Mild        Yes\n",
       "11        Mild        Yes\n",
       "13        Mild         No"
      ]
     },
     "metadata": {},
     "output_type": "display_data"
    },
    {
     "data": {
      "text/html": [
       "<div>\n",
       "<style scoped>\n",
       "    .dataframe tbody tr th:only-of-type {\n",
       "        vertical-align: middle;\n",
       "    }\n",
       "\n",
       "    .dataframe tbody tr th {\n",
       "        vertical-align: top;\n",
       "    }\n",
       "\n",
       "    .dataframe thead th {\n",
       "        text-align: right;\n",
       "    }\n",
       "</style>\n",
       "<table border=\"1\" class=\"dataframe\">\n",
       "  <thead>\n",
       "    <tr style=\"text-align: right;\">\n",
       "      <th></th>\n",
       "      <th>Temperature</th>\n",
       "      <th>PlayTennis</th>\n",
       "    </tr>\n",
       "  </thead>\n",
       "  <tbody>\n",
       "    <tr>\n",
       "      <th>4</th>\n",
       "      <td>Cool</td>\n",
       "      <td>Yes</td>\n",
       "    </tr>\n",
       "    <tr>\n",
       "      <th>5</th>\n",
       "      <td>Cool</td>\n",
       "      <td>No</td>\n",
       "    </tr>\n",
       "    <tr>\n",
       "      <th>6</th>\n",
       "      <td>Cool</td>\n",
       "      <td>Yes</td>\n",
       "    </tr>\n",
       "    <tr>\n",
       "      <th>8</th>\n",
       "      <td>Cool</td>\n",
       "      <td>Yes</td>\n",
       "    </tr>\n",
       "  </tbody>\n",
       "</table>\n",
       "</div>"
      ],
      "text/plain": [
       "  Temperature PlayTennis\n",
       "4        Cool        Yes\n",
       "5        Cool         No\n",
       "6        Cool        Yes\n",
       "8        Cool        Yes"
      ]
     },
     "metadata": {},
     "output_type": "display_data"
    }
   ],
   "source": [
    "TempH=df[df['Temperature']=='Hot']\n",
    "TempM=df[df['Temperature']=='Mild']\n",
    "TempC=df[df['Temperature']=='Cool']\n",
    "\n",
    "display(TempH.loc[:,['Temperature','PlayTennis']])\n",
    "display(TempM.loc[:,['Temperature','PlayTennis']])\n",
    "display(TempC.loc[:,['Temperature','PlayTennis']])"
   ]
  },
  {
   "cell_type": "code",
   "execution_count": 118,
   "metadata": {
    "ExecuteTime": {
     "end_time": "2019-04-27T14:53:49.321887Z",
     "start_time": "2019-04-27T14:53:49.315922Z"
    }
   },
   "outputs": [
    {
     "data": {
      "text/plain": [
       "0.9999999997114609"
      ]
     },
     "execution_count": 118,
     "metadata": {},
     "output_type": "execute_result"
    }
   ],
   "source": [
    "#Entropy for hot\n",
    "pH=np.sum(TempH['PlayTennis']=='Yes')\n",
    "nH=np.sum(TempH['PlayTennis']=='No')\n",
    "\n",
    "EHot=-pH/(pH+nH)*np.log2(pH/(pH+nH) + eps) - nH/(pH+nH)*np.log2(nH/(pH+nH) + eps)\n",
    "EHot"
   ]
  },
  {
   "cell_type": "code",
   "execution_count": 119,
   "metadata": {
    "ExecuteTime": {
     "end_time": "2019-04-27T14:54:49.625238Z",
     "start_time": "2019-04-27T14:54:49.619253Z"
    }
   },
   "outputs": [
    {
     "data": {
      "text/plain": [
       "0.9182958337659504"
      ]
     },
     "execution_count": 119,
     "metadata": {},
     "output_type": "execute_result"
    }
   ],
   "source": [
    "#Entropy for mild\n",
    "pM=np.sum(TempM['PlayTennis']=='Yes')\n",
    "nM=np.sum(TempM['PlayTennis']=='No')\n",
    "\n",
    "EMild=-pM/(pM+nM)*np.log2(pM/(pM+nM) + eps) - nM/(pM+nM)*np.log2(nM/(pM+nM) + eps)\n",
    "EMild"
   ]
  },
  {
   "cell_type": "code",
   "execution_count": 120,
   "metadata": {
    "ExecuteTime": {
     "end_time": "2019-04-27T14:55:28.720637Z",
     "start_time": "2019-04-27T14:55:28.714654Z"
    }
   },
   "outputs": [
    {
     "data": {
      "text/plain": [
       "0.8112781241705938"
      ]
     },
     "execution_count": 120,
     "metadata": {},
     "output_type": "execute_result"
    }
   ],
   "source": [
    "#Entropy for cool\n",
    "pC=np.sum(TempC['PlayTennis']=='Yes')\n",
    "nC=np.sum(TempC['PlayTennis']=='No')\n",
    "\n",
    "ECool=-pC/(pC+nC)*np.log2(pC/(pC+nC) + eps) - nC/(pC+nC)*np.log2(nC/(pC+nC) + eps)\n",
    "ECool"
   ]
  },
  {
   "cell_type": "code",
   "execution_count": 121,
   "metadata": {
    "ExecuteTime": {
     "end_time": "2019-04-27T14:57:42.720109Z",
     "start_time": "2019-04-27T14:57:42.716099Z"
    }
   },
   "outputs": [
    {
     "data": {
      "text/plain": [
       "0.9110633927231372"
      ]
     },
     "execution_count": 121,
     "metadata": {},
     "output_type": "execute_result"
    }
   ],
   "source": [
    "# Calculate average information entropy\n",
    "\n",
    "ITemp= (pH+nH)/total*EHot + (pM+nM)/total*EMild + (pC+nC)/total*ECool\n",
    "ITemp"
   ]
  },
  {
   "cell_type": "code",
   "execution_count": 122,
   "metadata": {
    "ExecuteTime": {
     "end_time": "2019-04-27T14:57:49.116545Z",
     "start_time": "2019-04-27T14:57:49.112556Z"
    }
   },
   "outputs": [
    {
     "data": {
      "text/plain": [
       "0.02922256594749395"
      ]
     },
     "execution_count": 122,
     "metadata": {},
     "output_type": "execute_result"
    }
   ],
   "source": [
    "# Calculate information gain\n",
    "IGTemp=EntropyS-ITemp\n",
    "IGTemp"
   ]
  },
  {
   "cell_type": "markdown",
   "metadata": {},
   "source": [
    "### Humidity"
   ]
  },
  {
   "cell_type": "code",
   "execution_count": 123,
   "metadata": {
    "ExecuteTime": {
     "end_time": "2019-04-27T15:00:22.008674Z",
     "start_time": "2019-04-27T15:00:21.995706Z"
    }
   },
   "outputs": [
    {
     "data": {
      "text/html": [
       "<div>\n",
       "<style scoped>\n",
       "    .dataframe tbody tr th:only-of-type {\n",
       "        vertical-align: middle;\n",
       "    }\n",
       "\n",
       "    .dataframe tbody tr th {\n",
       "        vertical-align: top;\n",
       "    }\n",
       "\n",
       "    .dataframe thead th {\n",
       "        text-align: right;\n",
       "    }\n",
       "</style>\n",
       "<table border=\"1\" class=\"dataframe\">\n",
       "  <thead>\n",
       "    <tr style=\"text-align: right;\">\n",
       "      <th></th>\n",
       "      <th>Humidity</th>\n",
       "      <th>PlayTennis</th>\n",
       "    </tr>\n",
       "  </thead>\n",
       "  <tbody>\n",
       "    <tr>\n",
       "      <th>0</th>\n",
       "      <td>High</td>\n",
       "      <td>No</td>\n",
       "    </tr>\n",
       "    <tr>\n",
       "      <th>1</th>\n",
       "      <td>High</td>\n",
       "      <td>No</td>\n",
       "    </tr>\n",
       "    <tr>\n",
       "      <th>2</th>\n",
       "      <td>High</td>\n",
       "      <td>Yes</td>\n",
       "    </tr>\n",
       "    <tr>\n",
       "      <th>3</th>\n",
       "      <td>High</td>\n",
       "      <td>Yes</td>\n",
       "    </tr>\n",
       "    <tr>\n",
       "      <th>7</th>\n",
       "      <td>High</td>\n",
       "      <td>No</td>\n",
       "    </tr>\n",
       "    <tr>\n",
       "      <th>11</th>\n",
       "      <td>High</td>\n",
       "      <td>Yes</td>\n",
       "    </tr>\n",
       "    <tr>\n",
       "      <th>13</th>\n",
       "      <td>High</td>\n",
       "      <td>No</td>\n",
       "    </tr>\n",
       "  </tbody>\n",
       "</table>\n",
       "</div>"
      ],
      "text/plain": [
       "   Humidity PlayTennis\n",
       "0      High         No\n",
       "1      High         No\n",
       "2      High        Yes\n",
       "3      High        Yes\n",
       "7      High         No\n",
       "11     High        Yes\n",
       "13     High         No"
      ]
     },
     "metadata": {},
     "output_type": "display_data"
    },
    {
     "data": {
      "text/html": [
       "<div>\n",
       "<style scoped>\n",
       "    .dataframe tbody tr th:only-of-type {\n",
       "        vertical-align: middle;\n",
       "    }\n",
       "\n",
       "    .dataframe tbody tr th {\n",
       "        vertical-align: top;\n",
       "    }\n",
       "\n",
       "    .dataframe thead th {\n",
       "        text-align: right;\n",
       "    }\n",
       "</style>\n",
       "<table border=\"1\" class=\"dataframe\">\n",
       "  <thead>\n",
       "    <tr style=\"text-align: right;\">\n",
       "      <th></th>\n",
       "      <th>Humidity</th>\n",
       "      <th>PlayTennis</th>\n",
       "    </tr>\n",
       "  </thead>\n",
       "  <tbody>\n",
       "    <tr>\n",
       "      <th>4</th>\n",
       "      <td>Normal</td>\n",
       "      <td>Yes</td>\n",
       "    </tr>\n",
       "    <tr>\n",
       "      <th>5</th>\n",
       "      <td>Normal</td>\n",
       "      <td>No</td>\n",
       "    </tr>\n",
       "    <tr>\n",
       "      <th>6</th>\n",
       "      <td>Normal</td>\n",
       "      <td>Yes</td>\n",
       "    </tr>\n",
       "    <tr>\n",
       "      <th>8</th>\n",
       "      <td>Normal</td>\n",
       "      <td>Yes</td>\n",
       "    </tr>\n",
       "    <tr>\n",
       "      <th>9</th>\n",
       "      <td>Normal</td>\n",
       "      <td>Yes</td>\n",
       "    </tr>\n",
       "    <tr>\n",
       "      <th>10</th>\n",
       "      <td>Normal</td>\n",
       "      <td>Yes</td>\n",
       "    </tr>\n",
       "    <tr>\n",
       "      <th>12</th>\n",
       "      <td>Normal</td>\n",
       "      <td>Yes</td>\n",
       "    </tr>\n",
       "  </tbody>\n",
       "</table>\n",
       "</div>"
      ],
      "text/plain": [
       "   Humidity PlayTennis\n",
       "4    Normal        Yes\n",
       "5    Normal         No\n",
       "6    Normal        Yes\n",
       "8    Normal        Yes\n",
       "9    Normal        Yes\n",
       "10   Normal        Yes\n",
       "12   Normal        Yes"
      ]
     },
     "metadata": {},
     "output_type": "display_data"
    }
   ],
   "source": [
    "HumidH=df[df['Humidity']=='High']\n",
    "HumidN=df[df['Humidity']=='Normal']\n",
    "\n",
    "display(HumidH.loc[:,['Humidity','PlayTennis']])\n",
    "display(HumidN.loc[:,['Humidity','PlayTennis']])"
   ]
  },
  {
   "cell_type": "code",
   "execution_count": 127,
   "metadata": {
    "ExecuteTime": {
     "end_time": "2019-04-27T15:03:28.586527Z",
     "start_time": "2019-04-27T15:03:28.580543Z"
    }
   },
   "outputs": [
    {
     "data": {
      "text/plain": [
       "0.9852281357457124"
      ]
     },
     "execution_count": 127,
     "metadata": {},
     "output_type": "execute_result"
    }
   ],
   "source": [
    "#Entropy for high\n",
    "pH=np.sum(HumidH['PlayTennis']=='Yes')\n",
    "nH=np.sum(HumidH['PlayTennis']=='No')\n",
    "\n",
    "EHigh=-pH/(pH+nH)*np.log2(pH/(pH+nH) + eps) - nH/(pH+nH)*np.log2(nH/(pH+nH) + eps)\n",
    "EHigh"
   ]
  },
  {
   "cell_type": "code",
   "execution_count": 128,
   "metadata": {
    "ExecuteTime": {
     "end_time": "2019-04-27T15:03:29.207524Z",
     "start_time": "2019-04-27T15:03:29.202561Z"
    }
   },
   "outputs": [
    {
     "data": {
      "text/plain": [
       "0.5916727782937884"
      ]
     },
     "execution_count": 128,
     "metadata": {},
     "output_type": "execute_result"
    }
   ],
   "source": [
    "#Entropy for normal\n",
    "pN=np.sum(HumidN['PlayTennis']=='Yes')\n",
    "nN=np.sum(HumidN['PlayTennis']=='No')\n",
    "\n",
    "ENormal=-pN/(pN+nN)*np.log2(pN/(pN+nN) + eps) - nN/(pN+nN)*np.log2(nN/(pN+nN) + eps)\n",
    "ENormal"
   ]
  },
  {
   "cell_type": "code",
   "execution_count": 129,
   "metadata": {
    "ExecuteTime": {
     "end_time": "2019-04-27T15:03:29.667955Z",
     "start_time": "2019-04-27T15:03:29.663966Z"
    }
   },
   "outputs": [
    {
     "data": {
      "text/plain": [
       "0.7884504570197504"
      ]
     },
     "execution_count": 129,
     "metadata": {},
     "output_type": "execute_result"
    }
   ],
   "source": [
    "# Calculate average information entropy\n",
    "\n",
    "IHumid= (pH+nH)/total*EHigh + (pN+nN)/total*ENormal \n",
    "IHumid"
   ]
  },
  {
   "cell_type": "code",
   "execution_count": 130,
   "metadata": {
    "ExecuteTime": {
     "end_time": "2019-04-27T15:03:44.384673Z",
     "start_time": "2019-04-27T15:03:44.381682Z"
    }
   },
   "outputs": [
    {
     "data": {
      "text/plain": [
       "0.15183550165088078"
      ]
     },
     "execution_count": 130,
     "metadata": {},
     "output_type": "execute_result"
    }
   ],
   "source": [
    "# Calculate information gain\n",
    "IGHumid=EntropyS-IHumid\n",
    "IGHumid"
   ]
  },
  {
   "cell_type": "markdown",
   "metadata": {},
   "source": [
    "### Wind"
   ]
  },
  {
   "cell_type": "code",
   "execution_count": 133,
   "metadata": {
    "ExecuteTime": {
     "end_time": "2019-04-27T15:07:24.791165Z",
     "start_time": "2019-04-27T15:07:24.778201Z"
    }
   },
   "outputs": [
    {
     "data": {
      "text/html": [
       "<div>\n",
       "<style scoped>\n",
       "    .dataframe tbody tr th:only-of-type {\n",
       "        vertical-align: middle;\n",
       "    }\n",
       "\n",
       "    .dataframe tbody tr th {\n",
       "        vertical-align: top;\n",
       "    }\n",
       "\n",
       "    .dataframe thead th {\n",
       "        text-align: right;\n",
       "    }\n",
       "</style>\n",
       "<table border=\"1\" class=\"dataframe\">\n",
       "  <thead>\n",
       "    <tr style=\"text-align: right;\">\n",
       "      <th></th>\n",
       "      <th>Wind</th>\n",
       "      <th>PlayTennis</th>\n",
       "    </tr>\n",
       "  </thead>\n",
       "  <tbody>\n",
       "    <tr>\n",
       "      <th>1</th>\n",
       "      <td>Strong</td>\n",
       "      <td>No</td>\n",
       "    </tr>\n",
       "    <tr>\n",
       "      <th>5</th>\n",
       "      <td>Strong</td>\n",
       "      <td>No</td>\n",
       "    </tr>\n",
       "    <tr>\n",
       "      <th>6</th>\n",
       "      <td>Strong</td>\n",
       "      <td>Yes</td>\n",
       "    </tr>\n",
       "    <tr>\n",
       "      <th>10</th>\n",
       "      <td>Strong</td>\n",
       "      <td>Yes</td>\n",
       "    </tr>\n",
       "    <tr>\n",
       "      <th>11</th>\n",
       "      <td>Strong</td>\n",
       "      <td>Yes</td>\n",
       "    </tr>\n",
       "    <tr>\n",
       "      <th>13</th>\n",
       "      <td>Strong</td>\n",
       "      <td>No</td>\n",
       "    </tr>\n",
       "  </tbody>\n",
       "</table>\n",
       "</div>"
      ],
      "text/plain": [
       "      Wind PlayTennis\n",
       "1   Strong         No\n",
       "5   Strong         No\n",
       "6   Strong        Yes\n",
       "10  Strong        Yes\n",
       "11  Strong        Yes\n",
       "13  Strong         No"
      ]
     },
     "metadata": {},
     "output_type": "display_data"
    },
    {
     "data": {
      "text/html": [
       "<div>\n",
       "<style scoped>\n",
       "    .dataframe tbody tr th:only-of-type {\n",
       "        vertical-align: middle;\n",
       "    }\n",
       "\n",
       "    .dataframe tbody tr th {\n",
       "        vertical-align: top;\n",
       "    }\n",
       "\n",
       "    .dataframe thead th {\n",
       "        text-align: right;\n",
       "    }\n",
       "</style>\n",
       "<table border=\"1\" class=\"dataframe\">\n",
       "  <thead>\n",
       "    <tr style=\"text-align: right;\">\n",
       "      <th></th>\n",
       "      <th>Wind</th>\n",
       "      <th>PlayTennis</th>\n",
       "    </tr>\n",
       "  </thead>\n",
       "  <tbody>\n",
       "    <tr>\n",
       "      <th>0</th>\n",
       "      <td>Weak</td>\n",
       "      <td>No</td>\n",
       "    </tr>\n",
       "    <tr>\n",
       "      <th>2</th>\n",
       "      <td>Weak</td>\n",
       "      <td>Yes</td>\n",
       "    </tr>\n",
       "    <tr>\n",
       "      <th>3</th>\n",
       "      <td>Weak</td>\n",
       "      <td>Yes</td>\n",
       "    </tr>\n",
       "    <tr>\n",
       "      <th>4</th>\n",
       "      <td>Weak</td>\n",
       "      <td>Yes</td>\n",
       "    </tr>\n",
       "    <tr>\n",
       "      <th>7</th>\n",
       "      <td>Weak</td>\n",
       "      <td>No</td>\n",
       "    </tr>\n",
       "    <tr>\n",
       "      <th>8</th>\n",
       "      <td>Weak</td>\n",
       "      <td>Yes</td>\n",
       "    </tr>\n",
       "    <tr>\n",
       "      <th>9</th>\n",
       "      <td>Weak</td>\n",
       "      <td>Yes</td>\n",
       "    </tr>\n",
       "    <tr>\n",
       "      <th>12</th>\n",
       "      <td>Weak</td>\n",
       "      <td>Yes</td>\n",
       "    </tr>\n",
       "  </tbody>\n",
       "</table>\n",
       "</div>"
      ],
      "text/plain": [
       "    Wind PlayTennis\n",
       "0   Weak         No\n",
       "2   Weak        Yes\n",
       "3   Weak        Yes\n",
       "4   Weak        Yes\n",
       "7   Weak         No\n",
       "8   Weak        Yes\n",
       "9   Weak        Yes\n",
       "12  Weak        Yes"
      ]
     },
     "metadata": {},
     "output_type": "display_data"
    }
   ],
   "source": [
    "WindS=df[df['Wind']=='Strong']\n",
    "WindW=df[df['Wind']=='Weak']\n",
    "\n",
    "display(WindS.loc[:,['Wind','PlayTennis']])\n",
    "display(WindW.loc[:,['Wind','PlayTennis']])"
   ]
  },
  {
   "cell_type": "code",
   "execution_count": 134,
   "metadata": {
    "ExecuteTime": {
     "end_time": "2019-04-27T15:07:38.402077Z",
     "start_time": "2019-04-27T15:07:38.396093Z"
    }
   },
   "outputs": [
    {
     "data": {
      "text/plain": [
       "0.9999999997114609"
      ]
     },
     "execution_count": 134,
     "metadata": {},
     "output_type": "execute_result"
    }
   ],
   "source": [
    "#Entropy for strong\n",
    "pS=np.sum(WindS['PlayTennis']=='Yes')\n",
    "nS=np.sum(WindS['PlayTennis']=='No')\n",
    "\n",
    "EStrong=-pS/(pS+nS)*np.log2(pS/(pS+nS) + eps) - nS/(pS+nS)*np.log2(nS/(pS+nS) + eps)\n",
    "EStrong"
   ]
  },
  {
   "cell_type": "code",
   "execution_count": 135,
   "metadata": {
    "ExecuteTime": {
     "end_time": "2019-04-27T15:08:21.833901Z",
     "start_time": "2019-04-27T15:08:21.827924Z"
    }
   },
   "outputs": [
    {
     "data": {
      "text/plain": [
       "0.8112781241705938"
      ]
     },
     "execution_count": 135,
     "metadata": {},
     "output_type": "execute_result"
    }
   ],
   "source": [
    "#Entropy for weak\n",
    "pW=np.sum(WindW['PlayTennis']=='Yes')\n",
    "nW=np.sum(WindW['PlayTennis']=='No')\n",
    "\n",
    "EWeak=-pW/(pW+nW)*np.log2(pW/(pW+nW) + eps) - nW/(pW+nW)*np.log2(nW/(pW+nW) + eps)\n",
    "EWeak"
   ]
  },
  {
   "cell_type": "code",
   "execution_count": 136,
   "metadata": {
    "ExecuteTime": {
     "end_time": "2019-04-27T15:09:24.152735Z",
     "start_time": "2019-04-27T15:09:24.148745Z"
    }
   },
   "outputs": [
    {
     "data": {
      "text/plain": [
       "0.8921589279738225"
      ]
     },
     "execution_count": 136,
     "metadata": {},
     "output_type": "execute_result"
    }
   ],
   "source": [
    "# Calculate average information entropy\n",
    "\n",
    "IWind= (pW+nW)/total*EWeak + (pS+nS)/total*EStrong \n",
    "IWind"
   ]
  },
  {
   "cell_type": "code",
   "execution_count": 137,
   "metadata": {
    "ExecuteTime": {
     "end_time": "2019-04-27T15:09:40.135496Z",
     "start_time": "2019-04-27T15:09:40.132483Z"
    }
   },
   "outputs": [
    {
     "data": {
      "text/plain": [
       "0.04812703069680868"
      ]
     },
     "execution_count": 137,
     "metadata": {},
     "output_type": "execute_result"
    }
   ],
   "source": [
    "# Calculate information gain\n",
    "IGWind=EntropyS-IWind\n",
    "IGWind"
   ]
  },
  {
   "cell_type": "markdown",
   "metadata": {},
   "source": [
    "As we can see the attribute that gives us the maximum information gain is **Outlook** with a gain of 0.247  \n",
    "\n",
    "Therefore, it will be our root node"
   ]
  },
  {
   "cell_type": "code",
   "execution_count": 138,
   "metadata": {
    "ExecuteTime": {
     "end_time": "2019-04-27T15:13:33.578768Z",
     "start_time": "2019-04-27T15:13:33.564797Z"
    }
   },
   "outputs": [
    {
     "data": {
      "text/html": [
       "<div>\n",
       "<style scoped>\n",
       "    .dataframe tbody tr th:only-of-type {\n",
       "        vertical-align: middle;\n",
       "    }\n",
       "\n",
       "    .dataframe tbody tr th {\n",
       "        vertical-align: top;\n",
       "    }\n",
       "\n",
       "    .dataframe thead th {\n",
       "        text-align: right;\n",
       "    }\n",
       "</style>\n",
       "<table border=\"1\" class=\"dataframe\">\n",
       "  <thead>\n",
       "    <tr style=\"text-align: right;\">\n",
       "      <th></th>\n",
       "      <th>Outlook</th>\n",
       "      <th>PlayTennis</th>\n",
       "    </tr>\n",
       "  </thead>\n",
       "  <tbody>\n",
       "    <tr>\n",
       "      <th>0</th>\n",
       "      <td>Sunny</td>\n",
       "      <td>No</td>\n",
       "    </tr>\n",
       "    <tr>\n",
       "      <th>1</th>\n",
       "      <td>Sunny</td>\n",
       "      <td>No</td>\n",
       "    </tr>\n",
       "    <tr>\n",
       "      <th>7</th>\n",
       "      <td>Sunny</td>\n",
       "      <td>No</td>\n",
       "    </tr>\n",
       "    <tr>\n",
       "      <th>8</th>\n",
       "      <td>Sunny</td>\n",
       "      <td>Yes</td>\n",
       "    </tr>\n",
       "    <tr>\n",
       "      <th>10</th>\n",
       "      <td>Sunny</td>\n",
       "      <td>Yes</td>\n",
       "    </tr>\n",
       "  </tbody>\n",
       "</table>\n",
       "</div>"
      ],
      "text/plain": [
       "   Outlook PlayTennis\n",
       "0    Sunny         No\n",
       "1    Sunny         No\n",
       "7    Sunny         No\n",
       "8    Sunny        Yes\n",
       "10   Sunny        Yes"
      ]
     },
     "metadata": {},
     "output_type": "display_data"
    },
    {
     "data": {
      "text/html": [
       "<div>\n",
       "<style scoped>\n",
       "    .dataframe tbody tr th:only-of-type {\n",
       "        vertical-align: middle;\n",
       "    }\n",
       "\n",
       "    .dataframe tbody tr th {\n",
       "        vertical-align: top;\n",
       "    }\n",
       "\n",
       "    .dataframe thead th {\n",
       "        text-align: right;\n",
       "    }\n",
       "</style>\n",
       "<table border=\"1\" class=\"dataframe\">\n",
       "  <thead>\n",
       "    <tr style=\"text-align: right;\">\n",
       "      <th></th>\n",
       "      <th>Outlook</th>\n",
       "      <th>PlayTennis</th>\n",
       "    </tr>\n",
       "  </thead>\n",
       "  <tbody>\n",
       "    <tr>\n",
       "      <th>3</th>\n",
       "      <td>Rain</td>\n",
       "      <td>Yes</td>\n",
       "    </tr>\n",
       "    <tr>\n",
       "      <th>4</th>\n",
       "      <td>Rain</td>\n",
       "      <td>Yes</td>\n",
       "    </tr>\n",
       "    <tr>\n",
       "      <th>5</th>\n",
       "      <td>Rain</td>\n",
       "      <td>No</td>\n",
       "    </tr>\n",
       "    <tr>\n",
       "      <th>9</th>\n",
       "      <td>Rain</td>\n",
       "      <td>Yes</td>\n",
       "    </tr>\n",
       "    <tr>\n",
       "      <th>13</th>\n",
       "      <td>Rain</td>\n",
       "      <td>No</td>\n",
       "    </tr>\n",
       "  </tbody>\n",
       "</table>\n",
       "</div>"
      ],
      "text/plain": [
       "   Outlook PlayTennis\n",
       "3     Rain        Yes\n",
       "4     Rain        Yes\n",
       "5     Rain         No\n",
       "9     Rain        Yes\n",
       "13    Rain         No"
      ]
     },
     "metadata": {},
     "output_type": "display_data"
    },
    {
     "data": {
      "text/html": [
       "<div>\n",
       "<style scoped>\n",
       "    .dataframe tbody tr th:only-of-type {\n",
       "        vertical-align: middle;\n",
       "    }\n",
       "\n",
       "    .dataframe tbody tr th {\n",
       "        vertical-align: top;\n",
       "    }\n",
       "\n",
       "    .dataframe thead th {\n",
       "        text-align: right;\n",
       "    }\n",
       "</style>\n",
       "<table border=\"1\" class=\"dataframe\">\n",
       "  <thead>\n",
       "    <tr style=\"text-align: right;\">\n",
       "      <th></th>\n",
       "      <th>Outlook</th>\n",
       "      <th>PlayTennis</th>\n",
       "    </tr>\n",
       "  </thead>\n",
       "  <tbody>\n",
       "    <tr>\n",
       "      <th>2</th>\n",
       "      <td>Overcast</td>\n",
       "      <td>Yes</td>\n",
       "    </tr>\n",
       "    <tr>\n",
       "      <th>6</th>\n",
       "      <td>Overcast</td>\n",
       "      <td>Yes</td>\n",
       "    </tr>\n",
       "    <tr>\n",
       "      <th>11</th>\n",
       "      <td>Overcast</td>\n",
       "      <td>Yes</td>\n",
       "    </tr>\n",
       "    <tr>\n",
       "      <th>12</th>\n",
       "      <td>Overcast</td>\n",
       "      <td>Yes</td>\n",
       "    </tr>\n",
       "  </tbody>\n",
       "</table>\n",
       "</div>"
      ],
      "text/plain": [
       "     Outlook PlayTennis\n",
       "2   Overcast        Yes\n",
       "6   Overcast        Yes\n",
       "11  Overcast        Yes\n",
       "12  Overcast        Yes"
      ]
     },
     "metadata": {},
     "output_type": "display_data"
    }
   ],
   "source": [
    "display(OutlookS.loc[:,['Outlook','PlayTennis']])\n",
    "display(OutlookR.loc[:,['Outlook','PlayTennis']])\n",
    "display(OutlookO.loc[:,['Outlook','PlayTennis']])"
   ]
  },
  {
   "cell_type": "markdown",
   "metadata": {},
   "source": [
    "Since Outlook=Overcast has only positive examples, we don't need to split the tree anymore at this node.Therefore, it becomes a **leaf node**.  \n",
    "\n",
    "For the other two values we must keep splitting using the same procedure."
   ]
  },
  {
   "cell_type": "markdown",
   "metadata": {},
   "source": [
    "<img src=\"https://i.gyazo.com/e36a779b306204d5459dd46f28c0fe04.png\">"
   ]
  },
  {
   "cell_type": "markdown",
   "metadata": {},
   "source": [
    "## Outlook = Sunny sub-tree"
   ]
  },
  {
   "cell_type": "code",
   "execution_count": 169,
   "metadata": {
    "ExecuteTime": {
     "end_time": "2019-04-27T15:44:20.056123Z",
     "start_time": "2019-04-27T15:44:20.052134Z"
    }
   },
   "outputs": [
    {
     "data": {
      "text/plain": [
       "0.9709505941661296"
      ]
     },
     "execution_count": 169,
     "metadata": {},
     "output_type": "execute_result"
    }
   ],
   "source": [
    "#Entropy of sunny\n",
    "ESunny"
   ]
  },
  {
   "cell_type": "code",
   "execution_count": 170,
   "metadata": {
    "ExecuteTime": {
     "end_time": "2019-04-27T15:44:20.827070Z",
     "start_time": "2019-04-27T15:44:20.819114Z"
    }
   },
   "outputs": [
    {
     "data": {
      "text/html": [
       "<div>\n",
       "<style scoped>\n",
       "    .dataframe tbody tr th:only-of-type {\n",
       "        vertical-align: middle;\n",
       "    }\n",
       "\n",
       "    .dataframe tbody tr th {\n",
       "        vertical-align: top;\n",
       "    }\n",
       "\n",
       "    .dataframe thead th {\n",
       "        text-align: right;\n",
       "    }\n",
       "</style>\n",
       "<table border=\"1\" class=\"dataframe\">\n",
       "  <thead>\n",
       "    <tr style=\"text-align: right;\">\n",
       "      <th></th>\n",
       "      <th>Day</th>\n",
       "      <th>Outlook</th>\n",
       "      <th>Temperature</th>\n",
       "      <th>Humidity</th>\n",
       "      <th>Wind</th>\n",
       "      <th>PlayTennis</th>\n",
       "    </tr>\n",
       "  </thead>\n",
       "  <tbody>\n",
       "    <tr>\n",
       "      <th>0</th>\n",
       "      <td>D1</td>\n",
       "      <td>Sunny</td>\n",
       "      <td>Hot</td>\n",
       "      <td>High</td>\n",
       "      <td>Weak</td>\n",
       "      <td>No</td>\n",
       "    </tr>\n",
       "    <tr>\n",
       "      <th>1</th>\n",
       "      <td>D2</td>\n",
       "      <td>Sunny</td>\n",
       "      <td>Hot</td>\n",
       "      <td>High</td>\n",
       "      <td>Strong</td>\n",
       "      <td>No</td>\n",
       "    </tr>\n",
       "    <tr>\n",
       "      <th>7</th>\n",
       "      <td>D8</td>\n",
       "      <td>Sunny</td>\n",
       "      <td>Mild</td>\n",
       "      <td>High</td>\n",
       "      <td>Weak</td>\n",
       "      <td>No</td>\n",
       "    </tr>\n",
       "    <tr>\n",
       "      <th>8</th>\n",
       "      <td>D9</td>\n",
       "      <td>Sunny</td>\n",
       "      <td>Cool</td>\n",
       "      <td>Normal</td>\n",
       "      <td>Weak</td>\n",
       "      <td>Yes</td>\n",
       "    </tr>\n",
       "    <tr>\n",
       "      <th>10</th>\n",
       "      <td>D11</td>\n",
       "      <td>Sunny</td>\n",
       "      <td>Mild</td>\n",
       "      <td>Normal</td>\n",
       "      <td>Strong</td>\n",
       "      <td>Yes</td>\n",
       "    </tr>\n",
       "  </tbody>\n",
       "</table>\n",
       "</div>"
      ],
      "text/plain": [
       "    Day Outlook Temperature Humidity    Wind PlayTennis\n",
       "0    D1   Sunny         Hot     High    Weak         No\n",
       "1    D2   Sunny         Hot     High  Strong         No\n",
       "7    D8   Sunny        Mild     High    Weak         No\n",
       "8    D9   Sunny        Cool   Normal    Weak        Yes\n",
       "10  D11   Sunny        Mild   Normal  Strong        Yes"
      ]
     },
     "execution_count": 170,
     "metadata": {},
     "output_type": "execute_result"
    }
   ],
   "source": [
    "OutlookS"
   ]
  },
  {
   "cell_type": "markdown",
   "metadata": {},
   "source": [
    "### Humidity"
   ]
  },
  {
   "cell_type": "code",
   "execution_count": 171,
   "metadata": {
    "ExecuteTime": {
     "end_time": "2019-04-27T15:44:22.763541Z",
     "start_time": "2019-04-27T15:44:22.751553Z"
    }
   },
   "outputs": [
    {
     "data": {
      "text/html": [
       "<div>\n",
       "<style scoped>\n",
       "    .dataframe tbody tr th:only-of-type {\n",
       "        vertical-align: middle;\n",
       "    }\n",
       "\n",
       "    .dataframe tbody tr th {\n",
       "        vertical-align: top;\n",
       "    }\n",
       "\n",
       "    .dataframe thead th {\n",
       "        text-align: right;\n",
       "    }\n",
       "</style>\n",
       "<table border=\"1\" class=\"dataframe\">\n",
       "  <thead>\n",
       "    <tr style=\"text-align: right;\">\n",
       "      <th></th>\n",
       "      <th>Humidity</th>\n",
       "      <th>PlayTennis</th>\n",
       "    </tr>\n",
       "  </thead>\n",
       "  <tbody>\n",
       "    <tr>\n",
       "      <th>0</th>\n",
       "      <td>High</td>\n",
       "      <td>No</td>\n",
       "    </tr>\n",
       "    <tr>\n",
       "      <th>1</th>\n",
       "      <td>High</td>\n",
       "      <td>No</td>\n",
       "    </tr>\n",
       "    <tr>\n",
       "      <th>7</th>\n",
       "      <td>High</td>\n",
       "      <td>No</td>\n",
       "    </tr>\n",
       "  </tbody>\n",
       "</table>\n",
       "</div>"
      ],
      "text/plain": [
       "  Humidity PlayTennis\n",
       "0     High         No\n",
       "1     High         No\n",
       "7     High         No"
      ]
     },
     "metadata": {},
     "output_type": "display_data"
    },
    {
     "data": {
      "text/html": [
       "<div>\n",
       "<style scoped>\n",
       "    .dataframe tbody tr th:only-of-type {\n",
       "        vertical-align: middle;\n",
       "    }\n",
       "\n",
       "    .dataframe tbody tr th {\n",
       "        vertical-align: top;\n",
       "    }\n",
       "\n",
       "    .dataframe thead th {\n",
       "        text-align: right;\n",
       "    }\n",
       "</style>\n",
       "<table border=\"1\" class=\"dataframe\">\n",
       "  <thead>\n",
       "    <tr style=\"text-align: right;\">\n",
       "      <th></th>\n",
       "      <th>Humidity</th>\n",
       "      <th>PlayTennis</th>\n",
       "    </tr>\n",
       "  </thead>\n",
       "  <tbody>\n",
       "    <tr>\n",
       "      <th>8</th>\n",
       "      <td>Normal</td>\n",
       "      <td>Yes</td>\n",
       "    </tr>\n",
       "    <tr>\n",
       "      <th>10</th>\n",
       "      <td>Normal</td>\n",
       "      <td>Yes</td>\n",
       "    </tr>\n",
       "  </tbody>\n",
       "</table>\n",
       "</div>"
      ],
      "text/plain": [
       "   Humidity PlayTennis\n",
       "8    Normal        Yes\n",
       "10   Normal        Yes"
      ]
     },
     "metadata": {},
     "output_type": "display_data"
    }
   ],
   "source": [
    "HumidH=OutlookS[OutlookS['Humidity']=='High']\n",
    "HumidN=OutlookS[OutlookS['Humidity']=='Normal']\n",
    "\n",
    "display(HumidH.loc[:,['Humidity','PlayTennis']])\n",
    "display(HumidN.loc[:,['Humidity','PlayTennis']])"
   ]
  },
  {
   "cell_type": "code",
   "execution_count": 172,
   "metadata": {
    "ExecuteTime": {
     "end_time": "2019-04-27T15:44:23.677288Z",
     "start_time": "2019-04-27T15:44:23.672282Z"
    }
   },
   "outputs": [
    {
     "data": {
      "text/plain": [
       "-1.4426951601859516e-10"
      ]
     },
     "execution_count": 172,
     "metadata": {},
     "output_type": "execute_result"
    }
   ],
   "source": [
    "#Entropy for high\n",
    "pH=np.sum(HumidH['PlayTennis']=='Yes')\n",
    "nH=np.sum(HumidH['PlayTennis']=='No')\n",
    "\n",
    "EHigh=-pH/(pH+nH)*np.log2(pH/(pH+nH) + eps) - nH/(pH+nH)*np.log2(nH/(pH+nH) + eps)\n",
    "EHigh"
   ]
  },
  {
   "cell_type": "code",
   "execution_count": 173,
   "metadata": {
    "ExecuteTime": {
     "end_time": "2019-04-27T15:44:24.378006Z",
     "start_time": "2019-04-27T15:44:24.373020Z"
    }
   },
   "outputs": [
    {
     "data": {
      "text/plain": [
       "-1.4426951601859516e-10"
      ]
     },
     "execution_count": 173,
     "metadata": {},
     "output_type": "execute_result"
    }
   ],
   "source": [
    "#Entropy for normal\n",
    "pN=np.sum(HumidN['PlayTennis']=='Yes')\n",
    "nN=np.sum(HumidN['PlayTennis']=='No')\n",
    "\n",
    "ENormal=-pN/(pN+nN)*np.log2(pN/(pN+nN) + eps) - nN/(pN+nN)*np.log2(nN/(pN+nN) + eps)\n",
    "ENormal"
   ]
  },
  {
   "cell_type": "code",
   "execution_count": 174,
   "metadata": {
    "ExecuteTime": {
     "end_time": "2019-04-27T15:44:25.282015Z",
     "start_time": "2019-04-27T15:44:25.277029Z"
    }
   },
   "outputs": [
    {
     "data": {
      "text/plain": [
       "-1.4426951601859516e-10"
      ]
     },
     "execution_count": 174,
     "metadata": {},
     "output_type": "execute_result"
    }
   ],
   "source": [
    "total=pS+nS\n",
    "\n",
    "# Calculate average information entropy\n",
    "\n",
    "IHumid= (pH+nH)/total*EHigh + (pN+nN)/total*ENormal \n",
    "IHumid"
   ]
  },
  {
   "cell_type": "code",
   "execution_count": 175,
   "metadata": {
    "ExecuteTime": {
     "end_time": "2019-04-27T15:44:26.060152Z",
     "start_time": "2019-04-27T15:44:26.056163Z"
    }
   },
   "outputs": [
    {
     "data": {
      "text/plain": [
       "0.9709505943103991"
      ]
     },
     "execution_count": 175,
     "metadata": {},
     "output_type": "execute_result"
    }
   ],
   "source": [
    "# Calculate information gain\n",
    "IGHumid=ESunny-IHumid\n",
    "IGHumid"
   ]
  },
  {
   "cell_type": "markdown",
   "metadata": {},
   "source": [
    "### Wind"
   ]
  },
  {
   "cell_type": "code",
   "execution_count": 176,
   "metadata": {
    "ExecuteTime": {
     "end_time": "2019-04-27T15:44:33.630281Z",
     "start_time": "2019-04-27T15:44:33.619311Z"
    }
   },
   "outputs": [
    {
     "data": {
      "text/html": [
       "<div>\n",
       "<style scoped>\n",
       "    .dataframe tbody tr th:only-of-type {\n",
       "        vertical-align: middle;\n",
       "    }\n",
       "\n",
       "    .dataframe tbody tr th {\n",
       "        vertical-align: top;\n",
       "    }\n",
       "\n",
       "    .dataframe thead th {\n",
       "        text-align: right;\n",
       "    }\n",
       "</style>\n",
       "<table border=\"1\" class=\"dataframe\">\n",
       "  <thead>\n",
       "    <tr style=\"text-align: right;\">\n",
       "      <th></th>\n",
       "      <th>Wind</th>\n",
       "      <th>PlayTennis</th>\n",
       "    </tr>\n",
       "  </thead>\n",
       "  <tbody>\n",
       "    <tr>\n",
       "      <th>1</th>\n",
       "      <td>Strong</td>\n",
       "      <td>No</td>\n",
       "    </tr>\n",
       "    <tr>\n",
       "      <th>10</th>\n",
       "      <td>Strong</td>\n",
       "      <td>Yes</td>\n",
       "    </tr>\n",
       "  </tbody>\n",
       "</table>\n",
       "</div>"
      ],
      "text/plain": [
       "      Wind PlayTennis\n",
       "1   Strong         No\n",
       "10  Strong        Yes"
      ]
     },
     "metadata": {},
     "output_type": "display_data"
    },
    {
     "data": {
      "text/html": [
       "<div>\n",
       "<style scoped>\n",
       "    .dataframe tbody tr th:only-of-type {\n",
       "        vertical-align: middle;\n",
       "    }\n",
       "\n",
       "    .dataframe tbody tr th {\n",
       "        vertical-align: top;\n",
       "    }\n",
       "\n",
       "    .dataframe thead th {\n",
       "        text-align: right;\n",
       "    }\n",
       "</style>\n",
       "<table border=\"1\" class=\"dataframe\">\n",
       "  <thead>\n",
       "    <tr style=\"text-align: right;\">\n",
       "      <th></th>\n",
       "      <th>Wind</th>\n",
       "      <th>PlayTennis</th>\n",
       "    </tr>\n",
       "  </thead>\n",
       "  <tbody>\n",
       "    <tr>\n",
       "      <th>0</th>\n",
       "      <td>Weak</td>\n",
       "      <td>No</td>\n",
       "    </tr>\n",
       "    <tr>\n",
       "      <th>7</th>\n",
       "      <td>Weak</td>\n",
       "      <td>No</td>\n",
       "    </tr>\n",
       "    <tr>\n",
       "      <th>8</th>\n",
       "      <td>Weak</td>\n",
       "      <td>Yes</td>\n",
       "    </tr>\n",
       "  </tbody>\n",
       "</table>\n",
       "</div>"
      ],
      "text/plain": [
       "   Wind PlayTennis\n",
       "0  Weak         No\n",
       "7  Weak         No\n",
       "8  Weak        Yes"
      ]
     },
     "metadata": {},
     "output_type": "display_data"
    }
   ],
   "source": [
    "WindS=OutlookS[OutlookS['Wind']=='Strong']\n",
    "WindW=OutlookS[OutlookS['Wind']=='Weak']\n",
    "\n",
    "display(WindS.loc[:,['Wind','PlayTennis']])\n",
    "display(WindW.loc[:,['Wind','PlayTennis']])"
   ]
  },
  {
   "cell_type": "code",
   "execution_count": 177,
   "metadata": {
    "ExecuteTime": {
     "end_time": "2019-04-27T15:44:43.309723Z",
     "start_time": "2019-04-27T15:44:43.304758Z"
    }
   },
   "outputs": [
    {
     "data": {
      "text/plain": [
       "0.9999999997114609"
      ]
     },
     "execution_count": 177,
     "metadata": {},
     "output_type": "execute_result"
    }
   ],
   "source": [
    "#Entropy for strong\n",
    "pS=np.sum(WindS['PlayTennis']=='Yes')\n",
    "nS=np.sum(WindS['PlayTennis']=='No')\n",
    "\n",
    "EStrong=-pS/(pS+nS)*np.log2(pS/(pS+nS) + eps) - nS/(pS+nS)*np.log2(nS/(pS+nS) + eps)\n",
    "EStrong"
   ]
  },
  {
   "cell_type": "code",
   "execution_count": 178,
   "metadata": {
    "ExecuteTime": {
     "end_time": "2019-04-27T15:44:43.880035Z",
     "start_time": "2019-04-27T15:44:43.876047Z"
    }
   },
   "outputs": [
    {
     "data": {
      "text/plain": [
       "0.9182958337659504"
      ]
     },
     "execution_count": 178,
     "metadata": {},
     "output_type": "execute_result"
    }
   ],
   "source": [
    "#Entropy for weak\n",
    "pW=np.sum(WindW['PlayTennis']=='Yes')\n",
    "nW=np.sum(WindW['PlayTennis']=='No')\n",
    "\n",
    "EWeak=-pW/(pW+nW)*np.log2(pW/(pW+nW) + eps) - nW/(pW+nW)*np.log2(nW/(pW+nW) + eps)\n",
    "EWeak"
   ]
  },
  {
   "cell_type": "code",
   "execution_count": 179,
   "metadata": {
    "ExecuteTime": {
     "end_time": "2019-04-27T15:45:11.544089Z",
     "start_time": "2019-04-27T15:45:11.540100Z"
    }
   },
   "outputs": [
    {
     "data": {
      "text/plain": [
       "0.9509775001441545"
      ]
     },
     "execution_count": 179,
     "metadata": {},
     "output_type": "execute_result"
    }
   ],
   "source": [
    "# Calculate average information entropy\n",
    "\n",
    "IWind= (pW+nW)/total*EWeak + (pS+nS)/total*EStrong \n",
    "IWind"
   ]
  },
  {
   "cell_type": "code",
   "execution_count": 181,
   "metadata": {
    "ExecuteTime": {
     "end_time": "2019-04-27T15:46:13.499060Z",
     "start_time": "2019-04-27T15:46:13.496068Z"
    }
   },
   "outputs": [
    {
     "data": {
      "text/plain": [
       "0.019973094021975113"
      ]
     },
     "execution_count": 181,
     "metadata": {},
     "output_type": "execute_result"
    }
   ],
   "source": [
    "# Calculate information gain\n",
    "IGWind=ESunny-IWind\n",
    "IGWind"
   ]
  },
  {
   "cell_type": "markdown",
   "metadata": {},
   "source": [
    "### Temperature"
   ]
  },
  {
   "cell_type": "code",
   "execution_count": 182,
   "metadata": {
    "ExecuteTime": {
     "end_time": "2019-04-27T15:47:37.728124Z",
     "start_time": "2019-04-27T15:47:37.711148Z"
    }
   },
   "outputs": [
    {
     "data": {
      "text/html": [
       "<div>\n",
       "<style scoped>\n",
       "    .dataframe tbody tr th:only-of-type {\n",
       "        vertical-align: middle;\n",
       "    }\n",
       "\n",
       "    .dataframe tbody tr th {\n",
       "        vertical-align: top;\n",
       "    }\n",
       "\n",
       "    .dataframe thead th {\n",
       "        text-align: right;\n",
       "    }\n",
       "</style>\n",
       "<table border=\"1\" class=\"dataframe\">\n",
       "  <thead>\n",
       "    <tr style=\"text-align: right;\">\n",
       "      <th></th>\n",
       "      <th>Temperature</th>\n",
       "      <th>PlayTennis</th>\n",
       "    </tr>\n",
       "  </thead>\n",
       "  <tbody>\n",
       "    <tr>\n",
       "      <th>0</th>\n",
       "      <td>Hot</td>\n",
       "      <td>No</td>\n",
       "    </tr>\n",
       "    <tr>\n",
       "      <th>1</th>\n",
       "      <td>Hot</td>\n",
       "      <td>No</td>\n",
       "    </tr>\n",
       "  </tbody>\n",
       "</table>\n",
       "</div>"
      ],
      "text/plain": [
       "  Temperature PlayTennis\n",
       "0         Hot         No\n",
       "1         Hot         No"
      ]
     },
     "metadata": {},
     "output_type": "display_data"
    },
    {
     "data": {
      "text/html": [
       "<div>\n",
       "<style scoped>\n",
       "    .dataframe tbody tr th:only-of-type {\n",
       "        vertical-align: middle;\n",
       "    }\n",
       "\n",
       "    .dataframe tbody tr th {\n",
       "        vertical-align: top;\n",
       "    }\n",
       "\n",
       "    .dataframe thead th {\n",
       "        text-align: right;\n",
       "    }\n",
       "</style>\n",
       "<table border=\"1\" class=\"dataframe\">\n",
       "  <thead>\n",
       "    <tr style=\"text-align: right;\">\n",
       "      <th></th>\n",
       "      <th>Temperature</th>\n",
       "      <th>PlayTennis</th>\n",
       "    </tr>\n",
       "  </thead>\n",
       "  <tbody>\n",
       "    <tr>\n",
       "      <th>7</th>\n",
       "      <td>Mild</td>\n",
       "      <td>No</td>\n",
       "    </tr>\n",
       "    <tr>\n",
       "      <th>10</th>\n",
       "      <td>Mild</td>\n",
       "      <td>Yes</td>\n",
       "    </tr>\n",
       "  </tbody>\n",
       "</table>\n",
       "</div>"
      ],
      "text/plain": [
       "   Temperature PlayTennis\n",
       "7         Mild         No\n",
       "10        Mild        Yes"
      ]
     },
     "metadata": {},
     "output_type": "display_data"
    },
    {
     "data": {
      "text/html": [
       "<div>\n",
       "<style scoped>\n",
       "    .dataframe tbody tr th:only-of-type {\n",
       "        vertical-align: middle;\n",
       "    }\n",
       "\n",
       "    .dataframe tbody tr th {\n",
       "        vertical-align: top;\n",
       "    }\n",
       "\n",
       "    .dataframe thead th {\n",
       "        text-align: right;\n",
       "    }\n",
       "</style>\n",
       "<table border=\"1\" class=\"dataframe\">\n",
       "  <thead>\n",
       "    <tr style=\"text-align: right;\">\n",
       "      <th></th>\n",
       "      <th>Temperature</th>\n",
       "      <th>PlayTennis</th>\n",
       "    </tr>\n",
       "  </thead>\n",
       "  <tbody>\n",
       "    <tr>\n",
       "      <th>8</th>\n",
       "      <td>Cool</td>\n",
       "      <td>Yes</td>\n",
       "    </tr>\n",
       "  </tbody>\n",
       "</table>\n",
       "</div>"
      ],
      "text/plain": [
       "  Temperature PlayTennis\n",
       "8        Cool        Yes"
      ]
     },
     "metadata": {},
     "output_type": "display_data"
    }
   ],
   "source": [
    "TempH=OutlookS[OutlookS['Temperature']=='Hot']\n",
    "TempM=OutlookS[OutlookS['Temperature']=='Mild']\n",
    "TempC=OutlookS[OutlookS['Temperature']=='Cool']\n",
    "\n",
    "display(TempH.loc[:,['Temperature','PlayTennis']])\n",
    "display(TempM.loc[:,['Temperature','PlayTennis']])\n",
    "display(TempC.loc[:,['Temperature','PlayTennis']])"
   ]
  },
  {
   "cell_type": "code",
   "execution_count": 183,
   "metadata": {
    "ExecuteTime": {
     "end_time": "2019-04-27T15:47:53.196511Z",
     "start_time": "2019-04-27T15:47:53.190549Z"
    }
   },
   "outputs": [
    {
     "data": {
      "text/plain": [
       "-1.4426951601859516e-10"
      ]
     },
     "execution_count": 183,
     "metadata": {},
     "output_type": "execute_result"
    }
   ],
   "source": [
    "#Entropy for hot\n",
    "pH=np.sum(TempH['PlayTennis']=='Yes')\n",
    "nH=np.sum(TempH['PlayTennis']=='No')\n",
    "\n",
    "EHot=-pH/(pH+nH)*np.log2(pH/(pH+nH) + eps) - nH/(pH+nH)*np.log2(nH/(pH+nH) + eps)\n",
    "EHot"
   ]
  },
  {
   "cell_type": "code",
   "execution_count": 184,
   "metadata": {
    "ExecuteTime": {
     "end_time": "2019-04-27T15:48:05.733211Z",
     "start_time": "2019-04-27T15:48:05.727204Z"
    }
   },
   "outputs": [
    {
     "data": {
      "text/plain": [
       "0.9999999997114609"
      ]
     },
     "execution_count": 184,
     "metadata": {},
     "output_type": "execute_result"
    }
   ],
   "source": [
    "#Entropy for mild\n",
    "pM=np.sum(TempM['PlayTennis']=='Yes')\n",
    "nM=np.sum(TempM['PlayTennis']=='No')\n",
    "\n",
    "EMild=-pM/(pM+nM)*np.log2(pM/(pM+nM) + eps) - nM/(pM+nM)*np.log2(nM/(pM+nM) + eps)\n",
    "EMild"
   ]
  },
  {
   "cell_type": "code",
   "execution_count": 187,
   "metadata": {
    "ExecuteTime": {
     "end_time": "2019-04-27T15:49:29.853313Z",
     "start_time": "2019-04-27T15:49:29.848348Z"
    }
   },
   "outputs": [
    {
     "data": {
      "text/plain": [
       "-1.4426951601859516e-10"
      ]
     },
     "execution_count": 187,
     "metadata": {},
     "output_type": "execute_result"
    }
   ],
   "source": [
    "#Entropy for cool\n",
    "pC=np.sum(TempC['PlayTennis']=='Yes')\n",
    "nC=np.sum(TempC['PlayTennis']=='No')\n",
    "\n",
    "ECool=-pC/(pC+nC)*np.log2(pC/(pC+nC) + eps) - nC/(pC+nC)*np.log2(nC/(pC+nC) + eps)\n",
    "ECool"
   ]
  },
  {
   "cell_type": "code",
   "execution_count": 188,
   "metadata": {
    "ExecuteTime": {
     "end_time": "2019-04-27T15:49:31.154721Z",
     "start_time": "2019-04-27T15:49:31.150731Z"
    }
   },
   "outputs": [
    {
     "data": {
      "text/plain": [
       "0.3999999997980227"
      ]
     },
     "execution_count": 188,
     "metadata": {},
     "output_type": "execute_result"
    }
   ],
   "source": [
    "# Calculate average information entropy\n",
    "\n",
    "ITemp= (pH+nH)/total*EHot + (pM+nM)/total*EMild + (pC+nC)/total*ECool\n",
    "ITemp"
   ]
  },
  {
   "cell_type": "code",
   "execution_count": 189,
   "metadata": {
    "ExecuteTime": {
     "end_time": "2019-04-27T15:49:32.518635Z",
     "start_time": "2019-04-27T15:49:32.514625Z"
    }
   },
   "outputs": [
    {
     "data": {
      "text/plain": [
       "0.5709505943681069"
      ]
     },
     "execution_count": 189,
     "metadata": {},
     "output_type": "execute_result"
    }
   ],
   "source": [
    "# Calculate information gain\n",
    "IGTemp=ESunny-ITemp\n",
    "IGTemp"
   ]
  },
  {
   "cell_type": "markdown",
   "metadata": {},
   "source": [
    "Obviously, **Humidity** gives us the maximum gain so we split at this attribute.  \n",
    "\n",
    "<img src=\"https://i.gyazo.com/4d4ce12cfc13618b7952fae9356d8872.png\">"
   ]
  },
  {
   "cell_type": "markdown",
   "metadata": {},
   "source": [
    "## Outlook  = Rain sub-tree"
   ]
  },
  {
   "cell_type": "code",
   "execution_count": 190,
   "metadata": {
    "ExecuteTime": {
     "end_time": "2019-04-27T15:54:38.971804Z",
     "start_time": "2019-04-27T15:54:38.967792Z"
    }
   },
   "outputs": [
    {
     "data": {
      "text/plain": [
       "0.9709505941661296"
      ]
     },
     "execution_count": 190,
     "metadata": {},
     "output_type": "execute_result"
    }
   ],
   "source": [
    "#Entropy of rain\n",
    "ERain"
   ]
  },
  {
   "cell_type": "code",
   "execution_count": 191,
   "metadata": {
    "ExecuteTime": {
     "end_time": "2019-04-27T15:54:52.631492Z",
     "start_time": "2019-04-27T15:54:52.623534Z"
    }
   },
   "outputs": [
    {
     "data": {
      "text/html": [
       "<div>\n",
       "<style scoped>\n",
       "    .dataframe tbody tr th:only-of-type {\n",
       "        vertical-align: middle;\n",
       "    }\n",
       "\n",
       "    .dataframe tbody tr th {\n",
       "        vertical-align: top;\n",
       "    }\n",
       "\n",
       "    .dataframe thead th {\n",
       "        text-align: right;\n",
       "    }\n",
       "</style>\n",
       "<table border=\"1\" class=\"dataframe\">\n",
       "  <thead>\n",
       "    <tr style=\"text-align: right;\">\n",
       "      <th></th>\n",
       "      <th>Day</th>\n",
       "      <th>Outlook</th>\n",
       "      <th>Temperature</th>\n",
       "      <th>Humidity</th>\n",
       "      <th>Wind</th>\n",
       "      <th>PlayTennis</th>\n",
       "    </tr>\n",
       "  </thead>\n",
       "  <tbody>\n",
       "    <tr>\n",
       "      <th>3</th>\n",
       "      <td>D4</td>\n",
       "      <td>Rain</td>\n",
       "      <td>Mild</td>\n",
       "      <td>High</td>\n",
       "      <td>Weak</td>\n",
       "      <td>Yes</td>\n",
       "    </tr>\n",
       "    <tr>\n",
       "      <th>4</th>\n",
       "      <td>D5</td>\n",
       "      <td>Rain</td>\n",
       "      <td>Cool</td>\n",
       "      <td>Normal</td>\n",
       "      <td>Weak</td>\n",
       "      <td>Yes</td>\n",
       "    </tr>\n",
       "    <tr>\n",
       "      <th>5</th>\n",
       "      <td>D6</td>\n",
       "      <td>Rain</td>\n",
       "      <td>Cool</td>\n",
       "      <td>Normal</td>\n",
       "      <td>Strong</td>\n",
       "      <td>No</td>\n",
       "    </tr>\n",
       "    <tr>\n",
       "      <th>9</th>\n",
       "      <td>D10</td>\n",
       "      <td>Rain</td>\n",
       "      <td>Mild</td>\n",
       "      <td>Normal</td>\n",
       "      <td>Weak</td>\n",
       "      <td>Yes</td>\n",
       "    </tr>\n",
       "    <tr>\n",
       "      <th>13</th>\n",
       "      <td>D14</td>\n",
       "      <td>Rain</td>\n",
       "      <td>Mild</td>\n",
       "      <td>High</td>\n",
       "      <td>Strong</td>\n",
       "      <td>No</td>\n",
       "    </tr>\n",
       "  </tbody>\n",
       "</table>\n",
       "</div>"
      ],
      "text/plain": [
       "    Day Outlook Temperature Humidity    Wind PlayTennis\n",
       "3    D4    Rain        Mild     High    Weak        Yes\n",
       "4    D5    Rain        Cool   Normal    Weak        Yes\n",
       "5    D6    Rain        Cool   Normal  Strong         No\n",
       "9   D10    Rain        Mild   Normal    Weak        Yes\n",
       "13  D14    Rain        Mild     High  Strong         No"
      ]
     },
     "execution_count": 191,
     "metadata": {},
     "output_type": "execute_result"
    }
   ],
   "source": [
    "OutlookR"
   ]
  },
  {
   "cell_type": "code",
   "execution_count": 193,
   "metadata": {
    "ExecuteTime": {
     "end_time": "2019-04-27T15:55:47.458738Z",
     "start_time": "2019-04-27T15:55:47.455724Z"
    }
   },
   "outputs": [
    {
     "data": {
      "text/plain": [
       "5"
      ]
     },
     "execution_count": 193,
     "metadata": {},
     "output_type": "execute_result"
    }
   ],
   "source": [
    "total=pR+nR\n",
    "total"
   ]
  },
  {
   "cell_type": "markdown",
   "metadata": {},
   "source": [
    "### Humidity"
   ]
  },
  {
   "cell_type": "code",
   "execution_count": 194,
   "metadata": {
    "ExecuteTime": {
     "end_time": "2019-04-27T15:57:34.220389Z",
     "start_time": "2019-04-27T15:57:34.208401Z"
    }
   },
   "outputs": [
    {
     "data": {
      "text/html": [
       "<div>\n",
       "<style scoped>\n",
       "    .dataframe tbody tr th:only-of-type {\n",
       "        vertical-align: middle;\n",
       "    }\n",
       "\n",
       "    .dataframe tbody tr th {\n",
       "        vertical-align: top;\n",
       "    }\n",
       "\n",
       "    .dataframe thead th {\n",
       "        text-align: right;\n",
       "    }\n",
       "</style>\n",
       "<table border=\"1\" class=\"dataframe\">\n",
       "  <thead>\n",
       "    <tr style=\"text-align: right;\">\n",
       "      <th></th>\n",
       "      <th>Humidity</th>\n",
       "      <th>PlayTennis</th>\n",
       "    </tr>\n",
       "  </thead>\n",
       "  <tbody>\n",
       "    <tr>\n",
       "      <th>3</th>\n",
       "      <td>High</td>\n",
       "      <td>Yes</td>\n",
       "    </tr>\n",
       "    <tr>\n",
       "      <th>13</th>\n",
       "      <td>High</td>\n",
       "      <td>No</td>\n",
       "    </tr>\n",
       "  </tbody>\n",
       "</table>\n",
       "</div>"
      ],
      "text/plain": [
       "   Humidity PlayTennis\n",
       "3      High        Yes\n",
       "13     High         No"
      ]
     },
     "metadata": {},
     "output_type": "display_data"
    },
    {
     "data": {
      "text/html": [
       "<div>\n",
       "<style scoped>\n",
       "    .dataframe tbody tr th:only-of-type {\n",
       "        vertical-align: middle;\n",
       "    }\n",
       "\n",
       "    .dataframe tbody tr th {\n",
       "        vertical-align: top;\n",
       "    }\n",
       "\n",
       "    .dataframe thead th {\n",
       "        text-align: right;\n",
       "    }\n",
       "</style>\n",
       "<table border=\"1\" class=\"dataframe\">\n",
       "  <thead>\n",
       "    <tr style=\"text-align: right;\">\n",
       "      <th></th>\n",
       "      <th>Humidity</th>\n",
       "      <th>PlayTennis</th>\n",
       "    </tr>\n",
       "  </thead>\n",
       "  <tbody>\n",
       "    <tr>\n",
       "      <th>4</th>\n",
       "      <td>Normal</td>\n",
       "      <td>Yes</td>\n",
       "    </tr>\n",
       "    <tr>\n",
       "      <th>5</th>\n",
       "      <td>Normal</td>\n",
       "      <td>No</td>\n",
       "    </tr>\n",
       "    <tr>\n",
       "      <th>9</th>\n",
       "      <td>Normal</td>\n",
       "      <td>Yes</td>\n",
       "    </tr>\n",
       "  </tbody>\n",
       "</table>\n",
       "</div>"
      ],
      "text/plain": [
       "  Humidity PlayTennis\n",
       "4   Normal        Yes\n",
       "5   Normal         No\n",
       "9   Normal        Yes"
      ]
     },
     "metadata": {},
     "output_type": "display_data"
    }
   ],
   "source": [
    "HumidH=OutlookR[OutlookR['Humidity']=='High']\n",
    "HumidN=OutlookR[OutlookR['Humidity']=='Normal']\n",
    "\n",
    "display(HumidH.loc[:,['Humidity','PlayTennis']])\n",
    "display(HumidN.loc[:,['Humidity','PlayTennis']])"
   ]
  },
  {
   "cell_type": "code",
   "execution_count": 195,
   "metadata": {
    "ExecuteTime": {
     "end_time": "2019-04-27T15:57:51.935431Z",
     "start_time": "2019-04-27T15:57:51.930444Z"
    }
   },
   "outputs": [
    {
     "data": {
      "text/plain": [
       "0.9999999997114609"
      ]
     },
     "execution_count": 195,
     "metadata": {},
     "output_type": "execute_result"
    }
   ],
   "source": [
    "#Entropy for high\n",
    "pH=np.sum(HumidH['PlayTennis']=='Yes')\n",
    "nH=np.sum(HumidH['PlayTennis']=='No')\n",
    "\n",
    "EHigh=-pH/(pH+nH)*np.log2(pH/(pH+nH) + eps) - nH/(pH+nH)*np.log2(nH/(pH+nH) + eps)\n",
    "EHigh"
   ]
  },
  {
   "cell_type": "code",
   "execution_count": 196,
   "metadata": {
    "ExecuteTime": {
     "end_time": "2019-04-27T15:58:01.468959Z",
     "start_time": "2019-04-27T15:58:01.463994Z"
    }
   },
   "outputs": [
    {
     "data": {
      "text/plain": [
       "0.9182958337659504"
      ]
     },
     "execution_count": 196,
     "metadata": {},
     "output_type": "execute_result"
    }
   ],
   "source": [
    "#Entropy for normal\n",
    "pN=np.sum(HumidN['PlayTennis']=='Yes')\n",
    "nN=np.sum(HumidN['PlayTennis']=='No')\n",
    "\n",
    "ENormal=-pN/(pN+nN)*np.log2(pN/(pN+nN) + eps) - nN/(pN+nN)*np.log2(nN/(pN+nN) + eps)\n",
    "ENormal"
   ]
  },
  {
   "cell_type": "code",
   "execution_count": 197,
   "metadata": {
    "ExecuteTime": {
     "end_time": "2019-04-27T15:58:13.267967Z",
     "start_time": "2019-04-27T15:58:13.263978Z"
    }
   },
   "outputs": [
    {
     "data": {
      "text/plain": [
       "0.9509775001441545"
      ]
     },
     "execution_count": 197,
     "metadata": {},
     "output_type": "execute_result"
    }
   ],
   "source": [
    "# Calculate average information entropy\n",
    "\n",
    "IHumid= (pH+nH)/total*EHigh + (pN+nN)/total*ENormal \n",
    "IHumid"
   ]
  },
  {
   "cell_type": "code",
   "execution_count": 199,
   "metadata": {
    "ExecuteTime": {
     "end_time": "2019-04-27T15:58:38.107286Z",
     "start_time": "2019-04-27T15:58:38.104318Z"
    }
   },
   "outputs": [
    {
     "data": {
      "text/plain": [
       "0.019973094021975113"
      ]
     },
     "execution_count": 199,
     "metadata": {},
     "output_type": "execute_result"
    }
   ],
   "source": [
    "# Calculate information gain\n",
    "IGHumid=ERain-IHumid\n",
    "IGHumid"
   ]
  },
  {
   "cell_type": "markdown",
   "metadata": {},
   "source": [
    "### Wind"
   ]
  },
  {
   "cell_type": "code",
   "execution_count": 200,
   "metadata": {
    "ExecuteTime": {
     "end_time": "2019-04-27T15:59:17.792264Z",
     "start_time": "2019-04-27T15:59:17.780296Z"
    }
   },
   "outputs": [
    {
     "data": {
      "text/html": [
       "<div>\n",
       "<style scoped>\n",
       "    .dataframe tbody tr th:only-of-type {\n",
       "        vertical-align: middle;\n",
       "    }\n",
       "\n",
       "    .dataframe tbody tr th {\n",
       "        vertical-align: top;\n",
       "    }\n",
       "\n",
       "    .dataframe thead th {\n",
       "        text-align: right;\n",
       "    }\n",
       "</style>\n",
       "<table border=\"1\" class=\"dataframe\">\n",
       "  <thead>\n",
       "    <tr style=\"text-align: right;\">\n",
       "      <th></th>\n",
       "      <th>Wind</th>\n",
       "      <th>PlayTennis</th>\n",
       "    </tr>\n",
       "  </thead>\n",
       "  <tbody>\n",
       "    <tr>\n",
       "      <th>5</th>\n",
       "      <td>Strong</td>\n",
       "      <td>No</td>\n",
       "    </tr>\n",
       "    <tr>\n",
       "      <th>13</th>\n",
       "      <td>Strong</td>\n",
       "      <td>No</td>\n",
       "    </tr>\n",
       "  </tbody>\n",
       "</table>\n",
       "</div>"
      ],
      "text/plain": [
       "      Wind PlayTennis\n",
       "5   Strong         No\n",
       "13  Strong         No"
      ]
     },
     "metadata": {},
     "output_type": "display_data"
    },
    {
     "data": {
      "text/html": [
       "<div>\n",
       "<style scoped>\n",
       "    .dataframe tbody tr th:only-of-type {\n",
       "        vertical-align: middle;\n",
       "    }\n",
       "\n",
       "    .dataframe tbody tr th {\n",
       "        vertical-align: top;\n",
       "    }\n",
       "\n",
       "    .dataframe thead th {\n",
       "        text-align: right;\n",
       "    }\n",
       "</style>\n",
       "<table border=\"1\" class=\"dataframe\">\n",
       "  <thead>\n",
       "    <tr style=\"text-align: right;\">\n",
       "      <th></th>\n",
       "      <th>Wind</th>\n",
       "      <th>PlayTennis</th>\n",
       "    </tr>\n",
       "  </thead>\n",
       "  <tbody>\n",
       "    <tr>\n",
       "      <th>3</th>\n",
       "      <td>Weak</td>\n",
       "      <td>Yes</td>\n",
       "    </tr>\n",
       "    <tr>\n",
       "      <th>4</th>\n",
       "      <td>Weak</td>\n",
       "      <td>Yes</td>\n",
       "    </tr>\n",
       "    <tr>\n",
       "      <th>9</th>\n",
       "      <td>Weak</td>\n",
       "      <td>Yes</td>\n",
       "    </tr>\n",
       "  </tbody>\n",
       "</table>\n",
       "</div>"
      ],
      "text/plain": [
       "   Wind PlayTennis\n",
       "3  Weak        Yes\n",
       "4  Weak        Yes\n",
       "9  Weak        Yes"
      ]
     },
     "metadata": {},
     "output_type": "display_data"
    }
   ],
   "source": [
    "WindS=OutlookR[OutlookR['Wind']=='Strong']\n",
    "WindW=OutlookR[OutlookR['Wind']=='Weak']\n",
    "\n",
    "display(WindS.loc[:,['Wind','PlayTennis']])\n",
    "display(WindW.loc[:,['Wind','PlayTennis']])"
   ]
  },
  {
   "cell_type": "code",
   "execution_count": 201,
   "metadata": {
    "ExecuteTime": {
     "end_time": "2019-04-27T16:00:07.233429Z",
     "start_time": "2019-04-27T16:00:07.227444Z"
    }
   },
   "outputs": [
    {
     "data": {
      "text/plain": [
       "-1.4426951601859516e-10"
      ]
     },
     "execution_count": 201,
     "metadata": {},
     "output_type": "execute_result"
    }
   ],
   "source": [
    "#Entropy for strong\n",
    "pS=np.sum(WindS['PlayTennis']=='Yes')\n",
    "nS=np.sum(WindS['PlayTennis']=='No')\n",
    "\n",
    "EStrong=-pS/(pS+nS)*np.log2(pS/(pS+nS) + eps) - nS/(pS+nS)*np.log2(nS/(pS+nS) + eps)\n",
    "EStrong"
   ]
  },
  {
   "cell_type": "code",
   "execution_count": 202,
   "metadata": {
    "ExecuteTime": {
     "end_time": "2019-04-27T16:00:08.404231Z",
     "start_time": "2019-04-27T16:00:08.399224Z"
    }
   },
   "outputs": [
    {
     "data": {
      "text/plain": [
       "-1.4426951601859516e-10"
      ]
     },
     "execution_count": 202,
     "metadata": {},
     "output_type": "execute_result"
    }
   ],
   "source": [
    "#Entropy for weak\n",
    "pW=np.sum(WindW['PlayTennis']=='Yes')\n",
    "nW=np.sum(WindW['PlayTennis']=='No')\n",
    "\n",
    "EWeak=-pW/(pW+nW)*np.log2(pW/(pW+nW) + eps) - nW/(pW+nW)*np.log2(nW/(pW+nW) + eps)\n",
    "EWeak"
   ]
  },
  {
   "cell_type": "code",
   "execution_count": 203,
   "metadata": {
    "ExecuteTime": {
     "end_time": "2019-04-27T16:00:10.436032Z",
     "start_time": "2019-04-27T16:00:10.433064Z"
    }
   },
   "outputs": [
    {
     "data": {
      "text/plain": [
       "-1.4426951601859516e-10"
      ]
     },
     "execution_count": 203,
     "metadata": {},
     "output_type": "execute_result"
    }
   ],
   "source": [
    "# Calculate average information entropy\n",
    "\n",
    "IWind= (pW+nW)/total*EWeak + (pS+nS)/total*EStrong \n",
    "IWind"
   ]
  },
  {
   "cell_type": "code",
   "execution_count": 204,
   "metadata": {
    "ExecuteTime": {
     "end_time": "2019-04-27T16:00:12.235117Z",
     "start_time": "2019-04-27T16:00:12.231149Z"
    }
   },
   "outputs": [
    {
     "data": {
      "text/plain": [
       "0.9709505943103991"
      ]
     },
     "execution_count": 204,
     "metadata": {},
     "output_type": "execute_result"
    }
   ],
   "source": [
    "# Calculate information gain\n",
    "IGWind=ERain-IWind\n",
    "IGWind"
   ]
  },
  {
   "cell_type": "markdown",
   "metadata": {},
   "source": [
    "### Temperature"
   ]
  },
  {
   "cell_type": "code",
   "execution_count": 205,
   "metadata": {
    "ExecuteTime": {
     "end_time": "2019-04-27T16:00:55.440418Z",
     "start_time": "2019-04-27T16:00:55.424463Z"
    }
   },
   "outputs": [
    {
     "data": {
      "text/html": [
       "<div>\n",
       "<style scoped>\n",
       "    .dataframe tbody tr th:only-of-type {\n",
       "        vertical-align: middle;\n",
       "    }\n",
       "\n",
       "    .dataframe tbody tr th {\n",
       "        vertical-align: top;\n",
       "    }\n",
       "\n",
       "    .dataframe thead th {\n",
       "        text-align: right;\n",
       "    }\n",
       "</style>\n",
       "<table border=\"1\" class=\"dataframe\">\n",
       "  <thead>\n",
       "    <tr style=\"text-align: right;\">\n",
       "      <th></th>\n",
       "      <th>Temperature</th>\n",
       "      <th>PlayTennis</th>\n",
       "    </tr>\n",
       "  </thead>\n",
       "  <tbody>\n",
       "  </tbody>\n",
       "</table>\n",
       "</div>"
      ],
      "text/plain": [
       "Empty DataFrame\n",
       "Columns: [Temperature, PlayTennis]\n",
       "Index: []"
      ]
     },
     "metadata": {},
     "output_type": "display_data"
    },
    {
     "data": {
      "text/html": [
       "<div>\n",
       "<style scoped>\n",
       "    .dataframe tbody tr th:only-of-type {\n",
       "        vertical-align: middle;\n",
       "    }\n",
       "\n",
       "    .dataframe tbody tr th {\n",
       "        vertical-align: top;\n",
       "    }\n",
       "\n",
       "    .dataframe thead th {\n",
       "        text-align: right;\n",
       "    }\n",
       "</style>\n",
       "<table border=\"1\" class=\"dataframe\">\n",
       "  <thead>\n",
       "    <tr style=\"text-align: right;\">\n",
       "      <th></th>\n",
       "      <th>Temperature</th>\n",
       "      <th>PlayTennis</th>\n",
       "    </tr>\n",
       "  </thead>\n",
       "  <tbody>\n",
       "    <tr>\n",
       "      <th>3</th>\n",
       "      <td>Mild</td>\n",
       "      <td>Yes</td>\n",
       "    </tr>\n",
       "    <tr>\n",
       "      <th>9</th>\n",
       "      <td>Mild</td>\n",
       "      <td>Yes</td>\n",
       "    </tr>\n",
       "    <tr>\n",
       "      <th>13</th>\n",
       "      <td>Mild</td>\n",
       "      <td>No</td>\n",
       "    </tr>\n",
       "  </tbody>\n",
       "</table>\n",
       "</div>"
      ],
      "text/plain": [
       "   Temperature PlayTennis\n",
       "3         Mild        Yes\n",
       "9         Mild        Yes\n",
       "13        Mild         No"
      ]
     },
     "metadata": {},
     "output_type": "display_data"
    },
    {
     "data": {
      "text/html": [
       "<div>\n",
       "<style scoped>\n",
       "    .dataframe tbody tr th:only-of-type {\n",
       "        vertical-align: middle;\n",
       "    }\n",
       "\n",
       "    .dataframe tbody tr th {\n",
       "        vertical-align: top;\n",
       "    }\n",
       "\n",
       "    .dataframe thead th {\n",
       "        text-align: right;\n",
       "    }\n",
       "</style>\n",
       "<table border=\"1\" class=\"dataframe\">\n",
       "  <thead>\n",
       "    <tr style=\"text-align: right;\">\n",
       "      <th></th>\n",
       "      <th>Temperature</th>\n",
       "      <th>PlayTennis</th>\n",
       "    </tr>\n",
       "  </thead>\n",
       "  <tbody>\n",
       "    <tr>\n",
       "      <th>4</th>\n",
       "      <td>Cool</td>\n",
       "      <td>Yes</td>\n",
       "    </tr>\n",
       "    <tr>\n",
       "      <th>5</th>\n",
       "      <td>Cool</td>\n",
       "      <td>No</td>\n",
       "    </tr>\n",
       "  </tbody>\n",
       "</table>\n",
       "</div>"
      ],
      "text/plain": [
       "  Temperature PlayTennis\n",
       "4        Cool        Yes\n",
       "5        Cool         No"
      ]
     },
     "metadata": {},
     "output_type": "display_data"
    }
   ],
   "source": [
    "TempH=OutlookR[OutlookR['Temperature']=='Hot']\n",
    "TempM=OutlookR[OutlookR['Temperature']=='Mild']\n",
    "TempC=OutlookR[OutlookR['Temperature']=='Cool']\n",
    "\n",
    "display(TempH.loc[:,['Temperature','PlayTennis']])\n",
    "display(TempM.loc[:,['Temperature','PlayTennis']])\n",
    "display(TempC.loc[:,['Temperature','PlayTennis']])"
   ]
  },
  {
   "cell_type": "code",
   "execution_count": 206,
   "metadata": {
    "ExecuteTime": {
     "end_time": "2019-04-27T16:01:23.222335Z",
     "start_time": "2019-04-27T16:01:23.216351Z"
    }
   },
   "outputs": [
    {
     "name": "stderr",
     "output_type": "stream",
     "text": [
      "C:\\Users\\Paul\\.conda\\envs\\ml\\lib\\site-packages\\ipykernel_launcher.py:5: RuntimeWarning: invalid value encountered in longlong_scalars\n",
      "  \"\"\"\n"
     ]
    },
    {
     "data": {
      "text/plain": [
       "nan"
      ]
     },
     "execution_count": 206,
     "metadata": {},
     "output_type": "execute_result"
    }
   ],
   "source": [
    "#Entropy for hot\n",
    "pH=np.sum(TempH['PlayTennis']=='Yes')\n",
    "nH=np.sum(TempH['PlayTennis']=='No')\n",
    "\n",
    "EHot=-pH/(pH+nH)*np.log2(pH/(pH+nH) + eps) - nH/(pH+nH)*np.log2(nH/(pH+nH) + eps)\n",
    "EHot"
   ]
  },
  {
   "cell_type": "code",
   "execution_count": 207,
   "metadata": {
    "ExecuteTime": {
     "end_time": "2019-04-27T16:01:44.655414Z",
     "start_time": "2019-04-27T16:01:44.650449Z"
    }
   },
   "outputs": [
    {
     "data": {
      "text/plain": [
       "0.9182958337659504"
      ]
     },
     "execution_count": 207,
     "metadata": {},
     "output_type": "execute_result"
    }
   ],
   "source": [
    "#Entropy for mild\n",
    "pM=np.sum(TempM['PlayTennis']=='Yes')\n",
    "nM=np.sum(TempM['PlayTennis']=='No')\n",
    "\n",
    "EMild=-pM/(pM+nM)*np.log2(pM/(pM+nM) + eps) - nM/(pM+nM)*np.log2(nM/(pM+nM) + eps)\n",
    "EMild"
   ]
  },
  {
   "cell_type": "code",
   "execution_count": 208,
   "metadata": {
    "ExecuteTime": {
     "end_time": "2019-04-27T16:01:54.677842Z",
     "start_time": "2019-04-27T16:01:54.671858Z"
    }
   },
   "outputs": [
    {
     "data": {
      "text/plain": [
       "0.9999999997114609"
      ]
     },
     "execution_count": 208,
     "metadata": {},
     "output_type": "execute_result"
    }
   ],
   "source": [
    "#Entropy for cool\n",
    "pC=np.sum(TempC['PlayTennis']=='Yes')\n",
    "nC=np.sum(TempC['PlayTennis']=='No')\n",
    "\n",
    "ECool=-pC/(pC+nC)*np.log2(pC/(pC+nC) + eps) - nC/(pC+nC)*np.log2(nC/(pC+nC) + eps)\n",
    "ECool"
   ]
  },
  {
   "cell_type": "code",
   "execution_count": 209,
   "metadata": {
    "ExecuteTime": {
     "end_time": "2019-04-27T16:02:09.644155Z",
     "start_time": "2019-04-27T16:02:09.641163Z"
    }
   },
   "outputs": [
    {
     "data": {
      "text/plain": [
       "0.9509775001441545"
      ]
     },
     "execution_count": 209,
     "metadata": {},
     "output_type": "execute_result"
    }
   ],
   "source": [
    "# Calculate average information entropy\n",
    "\n",
    "ITemp=  (pM+nM)/total*EMild + (pC+nC)/total*ECool\n",
    "ITemp"
   ]
  },
  {
   "cell_type": "code",
   "execution_count": 210,
   "metadata": {
    "ExecuteTime": {
     "end_time": "2019-04-27T16:02:25.371432Z",
     "start_time": "2019-04-27T16:02:25.367442Z"
    }
   },
   "outputs": [
    {
     "data": {
      "text/plain": [
       "0.019973094021975113"
      ]
     },
     "execution_count": 210,
     "metadata": {},
     "output_type": "execute_result"
    }
   ],
   "source": [
    "# Calculate information gain\n",
    "IGTemp=ERain-ITemp\n",
    "IGTemp"
   ]
  },
  {
   "cell_type": "markdown",
   "metadata": {},
   "source": [
    "The attribute with the maximum gain is **Wind** so the final decision tree will look like this.  \n",
    "\n",
    "<img src=\"https://i.gyazo.com/bfb3d95e9e18f8f0d6ecd8a69ed84572.png\">"
   ]
  },
  {
   "cell_type": "markdown",
   "metadata": {},
   "source": [
    "For the given data set the classification accuracy is 100% since all leaf nodes are pure."
   ]
  },
  {
   "cell_type": "markdown",
   "metadata": {},
   "source": [
    "# Include Temperature?"
   ]
  },
  {
   "cell_type": "markdown",
   "metadata": {},
   "source": [
    "**Is it possible to produce some set of correct training examples that will get the algorihtm to include the\n",
    "attribute Temperature in the learned tree, even though the true target concept is independent of\n",
    "Temperature? if no, explain. If yes, give such a set.**"
   ]
  },
  {
   "cell_type": "markdown",
   "metadata": {},
   "source": [
    "For attribute Temperature to be selected as a split attribute, it must have the highest information gain (or lowest entropy ).  \n",
    "We can select a subset of our training examples that actually achieves 0 entropy for temperature,making it the only node in the tree.  \n",
    "\n",
    "Such a subset is D1,D2,D4,D10,D11,D12"
   ]
  },
  {
   "cell_type": "code",
   "execution_count": 211,
   "metadata": {
    "ExecuteTime": {
     "end_time": "2019-04-27T18:24:55.783624Z",
     "start_time": "2019-04-27T18:24:55.771656Z"
    }
   },
   "outputs": [
    {
     "data": {
      "text/html": [
       "<div>\n",
       "<style scoped>\n",
       "    .dataframe tbody tr th:only-of-type {\n",
       "        vertical-align: middle;\n",
       "    }\n",
       "\n",
       "    .dataframe tbody tr th {\n",
       "        vertical-align: top;\n",
       "    }\n",
       "\n",
       "    .dataframe thead th {\n",
       "        text-align: right;\n",
       "    }\n",
       "</style>\n",
       "<table border=\"1\" class=\"dataframe\">\n",
       "  <thead>\n",
       "    <tr style=\"text-align: right;\">\n",
       "      <th></th>\n",
       "      <th>Day</th>\n",
       "      <th>Outlook</th>\n",
       "      <th>Temperature</th>\n",
       "      <th>Humidity</th>\n",
       "      <th>Wind</th>\n",
       "      <th>PlayTennis</th>\n",
       "    </tr>\n",
       "  </thead>\n",
       "  <tbody>\n",
       "    <tr>\n",
       "      <th>0</th>\n",
       "      <td>D1</td>\n",
       "      <td>Sunny</td>\n",
       "      <td>Hot</td>\n",
       "      <td>High</td>\n",
       "      <td>Weak</td>\n",
       "      <td>No</td>\n",
       "    </tr>\n",
       "    <tr>\n",
       "      <th>1</th>\n",
       "      <td>D2</td>\n",
       "      <td>Sunny</td>\n",
       "      <td>Hot</td>\n",
       "      <td>High</td>\n",
       "      <td>Strong</td>\n",
       "      <td>No</td>\n",
       "    </tr>\n",
       "    <tr>\n",
       "      <th>2</th>\n",
       "      <td>D4</td>\n",
       "      <td>Rain</td>\n",
       "      <td>Mild</td>\n",
       "      <td>High</td>\n",
       "      <td>Weak</td>\n",
       "      <td>Yes</td>\n",
       "    </tr>\n",
       "    <tr>\n",
       "      <th>3</th>\n",
       "      <td>D10</td>\n",
       "      <td>Rain</td>\n",
       "      <td>Mild</td>\n",
       "      <td>Normal</td>\n",
       "      <td>Weak</td>\n",
       "      <td>Yes</td>\n",
       "    </tr>\n",
       "    <tr>\n",
       "      <th>4</th>\n",
       "      <td>D11</td>\n",
       "      <td>Sunny</td>\n",
       "      <td>Mild</td>\n",
       "      <td>Normal</td>\n",
       "      <td>Strong</td>\n",
       "      <td>Yes</td>\n",
       "    </tr>\n",
       "    <tr>\n",
       "      <th>5</th>\n",
       "      <td>D12</td>\n",
       "      <td>Overcast</td>\n",
       "      <td>Mild</td>\n",
       "      <td>High</td>\n",
       "      <td>Strong</td>\n",
       "      <td>Yes</td>\n",
       "    </tr>\n",
       "  </tbody>\n",
       "</table>\n",
       "</div>"
      ],
      "text/plain": [
       "   Day   Outlook Temperature Humidity    Wind PlayTennis\n",
       "0   D1     Sunny         Hot     High    Weak         No\n",
       "1   D2     Sunny         Hot     High  Strong         No\n",
       "2   D4      Rain        Mild     High    Weak        Yes\n",
       "3  D10      Rain        Mild   Normal    Weak        Yes\n",
       "4  D11     Sunny        Mild   Normal  Strong        Yes\n",
       "5  D12  Overcast        Mild     High  Strong        Yes"
      ]
     },
     "execution_count": 211,
     "metadata": {},
     "output_type": "execute_result"
    }
   ],
   "source": [
    "df = pd.DataFrame(columns=[\"Day\",\"Outlook\", \"Temperature\",\"Humidity\",\"Wind\",\"PlayTennis\"],\n",
    "                   data=[['D1','Sunny','Hot','High','Weak','No'],\n",
    "                         ['D2','Sunny','Hot','High','Strong','No'],\n",
    "                         ['D4','Rain','Mild','High','Weak','Yes'],\n",
    "                         ['D10','Rain','Mild','Normal','Weak','Yes'],\n",
    "                         ['D11','Sunny','Mild','Normal','Strong','Yes'],\n",
    "                         ['D12','Overcast','Mild','High','Strong','Yes']])\n",
    "df"
   ]
  },
  {
   "cell_type": "code",
   "execution_count": 212,
   "metadata": {
    "ExecuteTime": {
     "end_time": "2019-04-27T18:25:49.968700Z",
     "start_time": "2019-04-27T18:25:49.963735Z"
    }
   },
   "outputs": [
    {
     "name": "stdout",
     "output_type": "stream",
     "text": [
      "4\n",
      "2\n",
      "6\n"
     ]
    }
   ],
   "source": [
    "#number of positive and negative examples in entire dataset\n",
    "p=np.sum(df['PlayTennis']=='Yes')\n",
    "n=np.sum(df['PlayTennis']=='No')\n",
    "total= n + p\n",
    "print(p)\n",
    "print(n)\n",
    "print(total)"
   ]
  },
  {
   "cell_type": "code",
   "execution_count": 213,
   "metadata": {
    "ExecuteTime": {
     "end_time": "2019-04-27T18:26:01.776514Z",
     "start_time": "2019-04-27T18:26:01.772526Z"
    }
   },
   "outputs": [
    {
     "data": {
      "text/plain": [
       "0.9182958340544896"
      ]
     },
     "execution_count": 213,
     "metadata": {},
     "output_type": "execute_result"
    }
   ],
   "source": [
    "EntropyS= -p/(total)*np.log2(p/(total)) - n/(total)*np.log2(n/(total))\n",
    "EntropyS"
   ]
  },
  {
   "cell_type": "code",
   "execution_count": 214,
   "metadata": {
    "ExecuteTime": {
     "end_time": "2019-04-27T18:26:16.379727Z",
     "start_time": "2019-04-27T18:26:16.363771Z"
    }
   },
   "outputs": [
    {
     "data": {
      "text/html": [
       "<div>\n",
       "<style scoped>\n",
       "    .dataframe tbody tr th:only-of-type {\n",
       "        vertical-align: middle;\n",
       "    }\n",
       "\n",
       "    .dataframe tbody tr th {\n",
       "        vertical-align: top;\n",
       "    }\n",
       "\n",
       "    .dataframe thead th {\n",
       "        text-align: right;\n",
       "    }\n",
       "</style>\n",
       "<table border=\"1\" class=\"dataframe\">\n",
       "  <thead>\n",
       "    <tr style=\"text-align: right;\">\n",
       "      <th></th>\n",
       "      <th>Temperature</th>\n",
       "      <th>PlayTennis</th>\n",
       "    </tr>\n",
       "  </thead>\n",
       "  <tbody>\n",
       "    <tr>\n",
       "      <th>0</th>\n",
       "      <td>Hot</td>\n",
       "      <td>No</td>\n",
       "    </tr>\n",
       "    <tr>\n",
       "      <th>1</th>\n",
       "      <td>Hot</td>\n",
       "      <td>No</td>\n",
       "    </tr>\n",
       "  </tbody>\n",
       "</table>\n",
       "</div>"
      ],
      "text/plain": [
       "  Temperature PlayTennis\n",
       "0         Hot         No\n",
       "1         Hot         No"
      ]
     },
     "metadata": {},
     "output_type": "display_data"
    },
    {
     "data": {
      "text/html": [
       "<div>\n",
       "<style scoped>\n",
       "    .dataframe tbody tr th:only-of-type {\n",
       "        vertical-align: middle;\n",
       "    }\n",
       "\n",
       "    .dataframe tbody tr th {\n",
       "        vertical-align: top;\n",
       "    }\n",
       "\n",
       "    .dataframe thead th {\n",
       "        text-align: right;\n",
       "    }\n",
       "</style>\n",
       "<table border=\"1\" class=\"dataframe\">\n",
       "  <thead>\n",
       "    <tr style=\"text-align: right;\">\n",
       "      <th></th>\n",
       "      <th>Temperature</th>\n",
       "      <th>PlayTennis</th>\n",
       "    </tr>\n",
       "  </thead>\n",
       "  <tbody>\n",
       "    <tr>\n",
       "      <th>2</th>\n",
       "      <td>Mild</td>\n",
       "      <td>Yes</td>\n",
       "    </tr>\n",
       "    <tr>\n",
       "      <th>3</th>\n",
       "      <td>Mild</td>\n",
       "      <td>Yes</td>\n",
       "    </tr>\n",
       "    <tr>\n",
       "      <th>4</th>\n",
       "      <td>Mild</td>\n",
       "      <td>Yes</td>\n",
       "    </tr>\n",
       "    <tr>\n",
       "      <th>5</th>\n",
       "      <td>Mild</td>\n",
       "      <td>Yes</td>\n",
       "    </tr>\n",
       "  </tbody>\n",
       "</table>\n",
       "</div>"
      ],
      "text/plain": [
       "  Temperature PlayTennis\n",
       "2        Mild        Yes\n",
       "3        Mild        Yes\n",
       "4        Mild        Yes\n",
       "5        Mild        Yes"
      ]
     },
     "metadata": {},
     "output_type": "display_data"
    },
    {
     "data": {
      "text/html": [
       "<div>\n",
       "<style scoped>\n",
       "    .dataframe tbody tr th:only-of-type {\n",
       "        vertical-align: middle;\n",
       "    }\n",
       "\n",
       "    .dataframe tbody tr th {\n",
       "        vertical-align: top;\n",
       "    }\n",
       "\n",
       "    .dataframe thead th {\n",
       "        text-align: right;\n",
       "    }\n",
       "</style>\n",
       "<table border=\"1\" class=\"dataframe\">\n",
       "  <thead>\n",
       "    <tr style=\"text-align: right;\">\n",
       "      <th></th>\n",
       "      <th>Temperature</th>\n",
       "      <th>PlayTennis</th>\n",
       "    </tr>\n",
       "  </thead>\n",
       "  <tbody>\n",
       "  </tbody>\n",
       "</table>\n",
       "</div>"
      ],
      "text/plain": [
       "Empty DataFrame\n",
       "Columns: [Temperature, PlayTennis]\n",
       "Index: []"
      ]
     },
     "metadata": {},
     "output_type": "display_data"
    }
   ],
   "source": [
    "TempH=df[df['Temperature']=='Hot']\n",
    "TempM=df[df['Temperature']=='Mild']\n",
    "TempC=df[df['Temperature']=='Cool']\n",
    "\n",
    "display(TempH.loc[:,['Temperature','PlayTennis']])\n",
    "display(TempM.loc[:,['Temperature','PlayTennis']])\n",
    "display(TempC.loc[:,['Temperature','PlayTennis']])"
   ]
  },
  {
   "cell_type": "code",
   "execution_count": 215,
   "metadata": {
    "ExecuteTime": {
     "end_time": "2019-04-27T18:26:30.440390Z",
     "start_time": "2019-04-27T18:26:30.436403Z"
    }
   },
   "outputs": [
    {
     "data": {
      "text/plain": [
       "-1.4426951601859516e-10"
      ]
     },
     "execution_count": 215,
     "metadata": {},
     "output_type": "execute_result"
    }
   ],
   "source": [
    "#Entropy for hot\n",
    "pH=np.sum(TempH['PlayTennis']=='Yes')\n",
    "nH=np.sum(TempH['PlayTennis']=='No')\n",
    "\n",
    "EHot=-pH/(pH+nH)*np.log2(pH/(pH+nH) + eps) - nH/(pH+nH)*np.log2(nH/(pH+nH) + eps)\n",
    "EHot"
   ]
  },
  {
   "cell_type": "code",
   "execution_count": 216,
   "metadata": {
    "ExecuteTime": {
     "end_time": "2019-04-27T18:26:44.546051Z",
     "start_time": "2019-04-27T18:26:44.540067Z"
    }
   },
   "outputs": [
    {
     "data": {
      "text/plain": [
       "-1.4426951601859516e-10"
      ]
     },
     "execution_count": 216,
     "metadata": {},
     "output_type": "execute_result"
    }
   ],
   "source": [
    "#Entropy for mild\n",
    "pM=np.sum(TempM['PlayTennis']=='Yes')\n",
    "nM=np.sum(TempM['PlayTennis']=='No')\n",
    "\n",
    "EMild=-pM/(pM+nM)*np.log2(pM/(pM+nM) + eps) - nM/(pM+nM)*np.log2(nM/(pM+nM) + eps)\n",
    "EMild"
   ]
  },
  {
   "cell_type": "code",
   "execution_count": 218,
   "metadata": {
    "ExecuteTime": {
     "end_time": "2019-04-27T18:27:11.543962Z",
     "start_time": "2019-04-27T18:27:11.540950Z"
    }
   },
   "outputs": [
    {
     "data": {
      "text/plain": [
       "-1.4426951601859514e-10"
      ]
     },
     "execution_count": 218,
     "metadata": {},
     "output_type": "execute_result"
    }
   ],
   "source": [
    "# Calculate average information entropy\n",
    "\n",
    "ITemp= (pH+nH)/total*EHot + (pM+nM)/total*EMild \n",
    "ITemp"
   ]
  },
  {
   "cell_type": "markdown",
   "metadata": {},
   "source": [
    "All other attributes have greater total entropy,making Temperature our root node and since its children nodes are pure ,they become leaf nodes. \n",
    "\n",
    "Our tree consists of only one node (Temperature) and consequently ,the decision to play tennis is made is the Temperature is Mild. "
   ]
  },
  {
   "cell_type": "markdown",
   "metadata": {},
   "source": [
    "# Train-Test split"
   ]
  },
  {
   "cell_type": "markdown",
   "metadata": {},
   "source": [
    "**Now, build a tree using only examples D1–D7. What is the classification accuracy for the training set? what is\n",
    "the accuracy for the test set (examples D8–D14)? explain why you think these are the results.**"
   ]
  },
  {
   "cell_type": "code",
   "execution_count": 219,
   "metadata": {
    "ExecuteTime": {
     "end_time": "2019-04-27T18:37:13.950055Z",
     "start_time": "2019-04-27T18:37:13.939084Z"
    }
   },
   "outputs": [
    {
     "data": {
      "text/html": [
       "<div>\n",
       "<style scoped>\n",
       "    .dataframe tbody tr th:only-of-type {\n",
       "        vertical-align: middle;\n",
       "    }\n",
       "\n",
       "    .dataframe tbody tr th {\n",
       "        vertical-align: top;\n",
       "    }\n",
       "\n",
       "    .dataframe thead th {\n",
       "        text-align: right;\n",
       "    }\n",
       "</style>\n",
       "<table border=\"1\" class=\"dataframe\">\n",
       "  <thead>\n",
       "    <tr style=\"text-align: right;\">\n",
       "      <th></th>\n",
       "      <th>Day</th>\n",
       "      <th>Outlook</th>\n",
       "      <th>Temperature</th>\n",
       "      <th>Humidity</th>\n",
       "      <th>Wind</th>\n",
       "      <th>PlayTennis</th>\n",
       "    </tr>\n",
       "  </thead>\n",
       "  <tbody>\n",
       "    <tr>\n",
       "      <th>0</th>\n",
       "      <td>D1</td>\n",
       "      <td>Sunny</td>\n",
       "      <td>Hot</td>\n",
       "      <td>High</td>\n",
       "      <td>Weak</td>\n",
       "      <td>No</td>\n",
       "    </tr>\n",
       "    <tr>\n",
       "      <th>1</th>\n",
       "      <td>D2</td>\n",
       "      <td>Sunny</td>\n",
       "      <td>Hot</td>\n",
       "      <td>High</td>\n",
       "      <td>Strong</td>\n",
       "      <td>No</td>\n",
       "    </tr>\n",
       "    <tr>\n",
       "      <th>2</th>\n",
       "      <td>D3</td>\n",
       "      <td>Overcast</td>\n",
       "      <td>Hot</td>\n",
       "      <td>High</td>\n",
       "      <td>Weak</td>\n",
       "      <td>Yes</td>\n",
       "    </tr>\n",
       "    <tr>\n",
       "      <th>3</th>\n",
       "      <td>D4</td>\n",
       "      <td>Rain</td>\n",
       "      <td>Mild</td>\n",
       "      <td>High</td>\n",
       "      <td>Weak</td>\n",
       "      <td>Yes</td>\n",
       "    </tr>\n",
       "    <tr>\n",
       "      <th>4</th>\n",
       "      <td>D5</td>\n",
       "      <td>Rain</td>\n",
       "      <td>Cool</td>\n",
       "      <td>Normal</td>\n",
       "      <td>Weak</td>\n",
       "      <td>Yes</td>\n",
       "    </tr>\n",
       "    <tr>\n",
       "      <th>5</th>\n",
       "      <td>D6</td>\n",
       "      <td>Rain</td>\n",
       "      <td>Cool</td>\n",
       "      <td>Normal</td>\n",
       "      <td>Strong</td>\n",
       "      <td>No</td>\n",
       "    </tr>\n",
       "    <tr>\n",
       "      <th>6</th>\n",
       "      <td>D7</td>\n",
       "      <td>Overcast</td>\n",
       "      <td>Cool</td>\n",
       "      <td>Normal</td>\n",
       "      <td>Strong</td>\n",
       "      <td>Yes</td>\n",
       "    </tr>\n",
       "  </tbody>\n",
       "</table>\n",
       "</div>"
      ],
      "text/plain": [
       "  Day   Outlook Temperature Humidity    Wind PlayTennis\n",
       "0  D1     Sunny         Hot     High    Weak         No\n",
       "1  D2     Sunny         Hot     High  Strong         No\n",
       "2  D3  Overcast         Hot     High    Weak        Yes\n",
       "3  D4      Rain        Mild     High    Weak        Yes\n",
       "4  D5      Rain        Cool   Normal    Weak        Yes\n",
       "5  D6      Rain        Cool   Normal  Strong         No\n",
       "6  D7  Overcast        Cool   Normal  Strong        Yes"
      ]
     },
     "execution_count": 219,
     "metadata": {},
     "output_type": "execute_result"
    }
   ],
   "source": [
    "df = pd.DataFrame(columns=[\"Day\",\"Outlook\", \"Temperature\",\"Humidity\",\"Wind\",\"PlayTennis\"],\n",
    "                   data=[['D1','Sunny','Hot','High','Weak','No'],\n",
    "                         ['D2','Sunny','Hot','High','Strong','No'],\n",
    "                         ['D3','Overcast','Hot','High','Weak','Yes'],\n",
    "                         ['D4','Rain','Mild','High','Weak','Yes'],\n",
    "                         ['D5','Rain','Cool','Normal','Weak','Yes'],\n",
    "                         ['D6','Rain','Cool','Normal','Strong','No'],\n",
    "                         ['D7','Overcast','Cool','Normal','Strong','Yes']])\n",
    "df"
   ]
  },
  {
   "cell_type": "code",
   "execution_count": 220,
   "metadata": {
    "ExecuteTime": {
     "end_time": "2019-04-27T18:37:28.111594Z",
     "start_time": "2019-04-27T18:37:28.106608Z"
    }
   },
   "outputs": [
    {
     "name": "stdout",
     "output_type": "stream",
     "text": [
      "4\n",
      "3\n",
      "7\n"
     ]
    }
   ],
   "source": [
    "#number of positive and negative examples in entire dataset\n",
    "p=np.sum(df['PlayTennis']=='Yes')\n",
    "n=np.sum(df['PlayTennis']=='No')\n",
    "total= n + p\n",
    "print(p)\n",
    "print(n)\n",
    "print(total)"
   ]
  },
  {
   "cell_type": "code",
   "execution_count": 221,
   "metadata": {
    "ExecuteTime": {
     "end_time": "2019-04-27T18:37:47.047937Z",
     "start_time": "2019-04-27T18:37:47.043948Z"
    }
   },
   "outputs": [
    {
     "data": {
      "text/plain": [
       "0.9852281360342515"
      ]
     },
     "execution_count": 221,
     "metadata": {},
     "output_type": "execute_result"
    }
   ],
   "source": [
    "EntropyS= -p/(total)*np.log2(p/(total)) - n/(total)*np.log2(n/(total))\n",
    "EntropyS"
   ]
  },
  {
   "cell_type": "markdown",
   "metadata": {},
   "source": [
    "## Choose root node"
   ]
  },
  {
   "cell_type": "markdown",
   "metadata": {},
   "source": [
    "### Outlook"
   ]
  },
  {
   "cell_type": "code",
   "execution_count": 222,
   "metadata": {
    "ExecuteTime": {
     "end_time": "2019-04-27T18:40:17.558472Z",
     "start_time": "2019-04-27T18:40:17.541497Z"
    }
   },
   "outputs": [
    {
     "data": {
      "text/html": [
       "<div>\n",
       "<style scoped>\n",
       "    .dataframe tbody tr th:only-of-type {\n",
       "        vertical-align: middle;\n",
       "    }\n",
       "\n",
       "    .dataframe tbody tr th {\n",
       "        vertical-align: top;\n",
       "    }\n",
       "\n",
       "    .dataframe thead th {\n",
       "        text-align: right;\n",
       "    }\n",
       "</style>\n",
       "<table border=\"1\" class=\"dataframe\">\n",
       "  <thead>\n",
       "    <tr style=\"text-align: right;\">\n",
       "      <th></th>\n",
       "      <th>Outlook</th>\n",
       "      <th>PlayTennis</th>\n",
       "    </tr>\n",
       "  </thead>\n",
       "  <tbody>\n",
       "    <tr>\n",
       "      <th>0</th>\n",
       "      <td>Sunny</td>\n",
       "      <td>No</td>\n",
       "    </tr>\n",
       "    <tr>\n",
       "      <th>1</th>\n",
       "      <td>Sunny</td>\n",
       "      <td>No</td>\n",
       "    </tr>\n",
       "  </tbody>\n",
       "</table>\n",
       "</div>"
      ],
      "text/plain": [
       "  Outlook PlayTennis\n",
       "0   Sunny         No\n",
       "1   Sunny         No"
      ]
     },
     "metadata": {},
     "output_type": "display_data"
    },
    {
     "data": {
      "text/html": [
       "<div>\n",
       "<style scoped>\n",
       "    .dataframe tbody tr th:only-of-type {\n",
       "        vertical-align: middle;\n",
       "    }\n",
       "\n",
       "    .dataframe tbody tr th {\n",
       "        vertical-align: top;\n",
       "    }\n",
       "\n",
       "    .dataframe thead th {\n",
       "        text-align: right;\n",
       "    }\n",
       "</style>\n",
       "<table border=\"1\" class=\"dataframe\">\n",
       "  <thead>\n",
       "    <tr style=\"text-align: right;\">\n",
       "      <th></th>\n",
       "      <th>Outlook</th>\n",
       "      <th>PlayTennis</th>\n",
       "    </tr>\n",
       "  </thead>\n",
       "  <tbody>\n",
       "    <tr>\n",
       "      <th>3</th>\n",
       "      <td>Rain</td>\n",
       "      <td>Yes</td>\n",
       "    </tr>\n",
       "    <tr>\n",
       "      <th>4</th>\n",
       "      <td>Rain</td>\n",
       "      <td>Yes</td>\n",
       "    </tr>\n",
       "    <tr>\n",
       "      <th>5</th>\n",
       "      <td>Rain</td>\n",
       "      <td>No</td>\n",
       "    </tr>\n",
       "  </tbody>\n",
       "</table>\n",
       "</div>"
      ],
      "text/plain": [
       "  Outlook PlayTennis\n",
       "3    Rain        Yes\n",
       "4    Rain        Yes\n",
       "5    Rain         No"
      ]
     },
     "metadata": {},
     "output_type": "display_data"
    },
    {
     "data": {
      "text/html": [
       "<div>\n",
       "<style scoped>\n",
       "    .dataframe tbody tr th:only-of-type {\n",
       "        vertical-align: middle;\n",
       "    }\n",
       "\n",
       "    .dataframe tbody tr th {\n",
       "        vertical-align: top;\n",
       "    }\n",
       "\n",
       "    .dataframe thead th {\n",
       "        text-align: right;\n",
       "    }\n",
       "</style>\n",
       "<table border=\"1\" class=\"dataframe\">\n",
       "  <thead>\n",
       "    <tr style=\"text-align: right;\">\n",
       "      <th></th>\n",
       "      <th>Outlook</th>\n",
       "      <th>PlayTennis</th>\n",
       "    </tr>\n",
       "  </thead>\n",
       "  <tbody>\n",
       "    <tr>\n",
       "      <th>2</th>\n",
       "      <td>Overcast</td>\n",
       "      <td>Yes</td>\n",
       "    </tr>\n",
       "    <tr>\n",
       "      <th>6</th>\n",
       "      <td>Overcast</td>\n",
       "      <td>Yes</td>\n",
       "    </tr>\n",
       "  </tbody>\n",
       "</table>\n",
       "</div>"
      ],
      "text/plain": [
       "    Outlook PlayTennis\n",
       "2  Overcast        Yes\n",
       "6  Overcast        Yes"
      ]
     },
     "metadata": {},
     "output_type": "display_data"
    }
   ],
   "source": [
    "OutlookS=df[df['Outlook']=='Sunny']\n",
    "OutlookR=df[df['Outlook']=='Rain']\n",
    "OutlookO=df[df['Outlook']=='Overcast']\n",
    "\n",
    "display(OutlookS.loc[:,['Outlook','PlayTennis']])\n",
    "display(OutlookR.loc[:,['Outlook','PlayTennis']])\n",
    "display(OutlookO.loc[:,['Outlook','PlayTennis']])"
   ]
  },
  {
   "cell_type": "code",
   "execution_count": 223,
   "metadata": {
    "ExecuteTime": {
     "end_time": "2019-04-27T18:40:20.341516Z",
     "start_time": "2019-04-27T18:40:20.339522Z"
    }
   },
   "outputs": [],
   "source": [
    "#TO AVOID INFINITE LOG WE WILL ADD A VERY SMALL NUMBER TO IT \n",
    "eps=0.0000000001"
   ]
  },
  {
   "cell_type": "code",
   "execution_count": 224,
   "metadata": {
    "ExecuteTime": {
     "end_time": "2019-04-27T18:40:21.211681Z",
     "start_time": "2019-04-27T18:40:21.205697Z"
    }
   },
   "outputs": [
    {
     "data": {
      "text/plain": [
       "-1.4426951601859516e-10"
      ]
     },
     "execution_count": 224,
     "metadata": {},
     "output_type": "execute_result"
    }
   ],
   "source": [
    "#Entropy for sunny\n",
    "pS=np.sum(OutlookS['PlayTennis']=='Yes')\n",
    "nS=np.sum(OutlookS['PlayTennis']=='No')\n",
    "\n",
    "ESunny=-pS/(pS+nS)*np.log2(pS/(pS+nS) + eps) - nS/(pS+nS)*np.log2(nS/(pS+nS) + eps)\n",
    "ESunny"
   ]
  },
  {
   "cell_type": "code",
   "execution_count": 225,
   "metadata": {
    "ExecuteTime": {
     "end_time": "2019-04-27T18:41:17.318108Z",
     "start_time": "2019-04-27T18:41:17.312124Z"
    }
   },
   "outputs": [
    {
     "data": {
      "text/plain": [
       "0.9182958337659504"
      ]
     },
     "execution_count": 225,
     "metadata": {},
     "output_type": "execute_result"
    }
   ],
   "source": [
    "#Entropy for rain\n",
    "pR=np.sum(OutlookR['PlayTennis']=='Yes')\n",
    "nR=np.sum(OutlookR['PlayTennis']=='No')\n",
    "\n",
    "ERain=-pR/(pR+nR)*np.log2(pR/(pR+nR) + eps) - nR/(pR+nR)*np.log2(nR/(pR+nR) + eps)\n",
    "ERain"
   ]
  },
  {
   "cell_type": "code",
   "execution_count": 226,
   "metadata": {
    "ExecuteTime": {
     "end_time": "2019-04-27T18:41:18.008634Z",
     "start_time": "2019-04-27T18:41:18.002651Z"
    }
   },
   "outputs": [
    {
     "data": {
      "text/plain": [
       "-1.4426951601859516e-10"
      ]
     },
     "execution_count": 226,
     "metadata": {},
     "output_type": "execute_result"
    }
   ],
   "source": [
    "#Entropy for overcast\n",
    "pO=np.sum(OutlookO['PlayTennis']=='Yes')\n",
    "nO=np.sum(OutlookO['PlayTennis']=='No')\n",
    "\n",
    "EOvercast=-pO/(pO+nO)*np.log2(pO/(pO+nO) + eps) - nO/(pO+nO)*np.log2(nO/(pO+nO) + eps)\n",
    "EOvercast"
   ]
  },
  {
   "cell_type": "code",
   "execution_count": 227,
   "metadata": {
    "ExecuteTime": {
     "end_time": "2019-04-27T18:41:21.720040Z",
     "start_time": "2019-04-27T18:41:21.716050Z"
    }
   },
   "outputs": [
    {
     "data": {
      "text/plain": [
       "0.3935553572458247"
      ]
     },
     "execution_count": 227,
     "metadata": {},
     "output_type": "execute_result"
    }
   ],
   "source": [
    "# Calculate average information entropy\n",
    "\n",
    "IOutlook = (pS+nS)/total*ESunny + (pR+nR)/total*ERain + (pO+nO)/total*EOvercast\n",
    "IOutlook"
   ]
  },
  {
   "cell_type": "code",
   "execution_count": 228,
   "metadata": {
    "ExecuteTime": {
     "end_time": "2019-04-27T18:41:22.611080Z",
     "start_time": "2019-04-27T18:41:22.607091Z"
    }
   },
   "outputs": [
    {
     "data": {
      "text/plain": [
       "0.5916727787884268"
      ]
     },
     "execution_count": 228,
     "metadata": {},
     "output_type": "execute_result"
    }
   ],
   "source": [
    "# Calculate information gain\n",
    "IGOutlook=EntropyS-IOutlook\n",
    "IGOutlook"
   ]
  },
  {
   "cell_type": "markdown",
   "metadata": {},
   "source": [
    "### Temperature"
   ]
  },
  {
   "cell_type": "code",
   "execution_count": 229,
   "metadata": {
    "ExecuteTime": {
     "end_time": "2019-04-27T18:41:57.693437Z",
     "start_time": "2019-04-27T18:41:57.677459Z"
    }
   },
   "outputs": [
    {
     "data": {
      "text/html": [
       "<div>\n",
       "<style scoped>\n",
       "    .dataframe tbody tr th:only-of-type {\n",
       "        vertical-align: middle;\n",
       "    }\n",
       "\n",
       "    .dataframe tbody tr th {\n",
       "        vertical-align: top;\n",
       "    }\n",
       "\n",
       "    .dataframe thead th {\n",
       "        text-align: right;\n",
       "    }\n",
       "</style>\n",
       "<table border=\"1\" class=\"dataframe\">\n",
       "  <thead>\n",
       "    <tr style=\"text-align: right;\">\n",
       "      <th></th>\n",
       "      <th>Temperature</th>\n",
       "      <th>PlayTennis</th>\n",
       "    </tr>\n",
       "  </thead>\n",
       "  <tbody>\n",
       "    <tr>\n",
       "      <th>0</th>\n",
       "      <td>Hot</td>\n",
       "      <td>No</td>\n",
       "    </tr>\n",
       "    <tr>\n",
       "      <th>1</th>\n",
       "      <td>Hot</td>\n",
       "      <td>No</td>\n",
       "    </tr>\n",
       "    <tr>\n",
       "      <th>2</th>\n",
       "      <td>Hot</td>\n",
       "      <td>Yes</td>\n",
       "    </tr>\n",
       "  </tbody>\n",
       "</table>\n",
       "</div>"
      ],
      "text/plain": [
       "  Temperature PlayTennis\n",
       "0         Hot         No\n",
       "1         Hot         No\n",
       "2         Hot        Yes"
      ]
     },
     "metadata": {},
     "output_type": "display_data"
    },
    {
     "data": {
      "text/html": [
       "<div>\n",
       "<style scoped>\n",
       "    .dataframe tbody tr th:only-of-type {\n",
       "        vertical-align: middle;\n",
       "    }\n",
       "\n",
       "    .dataframe tbody tr th {\n",
       "        vertical-align: top;\n",
       "    }\n",
       "\n",
       "    .dataframe thead th {\n",
       "        text-align: right;\n",
       "    }\n",
       "</style>\n",
       "<table border=\"1\" class=\"dataframe\">\n",
       "  <thead>\n",
       "    <tr style=\"text-align: right;\">\n",
       "      <th></th>\n",
       "      <th>Temperature</th>\n",
       "      <th>PlayTennis</th>\n",
       "    </tr>\n",
       "  </thead>\n",
       "  <tbody>\n",
       "    <tr>\n",
       "      <th>3</th>\n",
       "      <td>Mild</td>\n",
       "      <td>Yes</td>\n",
       "    </tr>\n",
       "  </tbody>\n",
       "</table>\n",
       "</div>"
      ],
      "text/plain": [
       "  Temperature PlayTennis\n",
       "3        Mild        Yes"
      ]
     },
     "metadata": {},
     "output_type": "display_data"
    },
    {
     "data": {
      "text/html": [
       "<div>\n",
       "<style scoped>\n",
       "    .dataframe tbody tr th:only-of-type {\n",
       "        vertical-align: middle;\n",
       "    }\n",
       "\n",
       "    .dataframe tbody tr th {\n",
       "        vertical-align: top;\n",
       "    }\n",
       "\n",
       "    .dataframe thead th {\n",
       "        text-align: right;\n",
       "    }\n",
       "</style>\n",
       "<table border=\"1\" class=\"dataframe\">\n",
       "  <thead>\n",
       "    <tr style=\"text-align: right;\">\n",
       "      <th></th>\n",
       "      <th>Temperature</th>\n",
       "      <th>PlayTennis</th>\n",
       "    </tr>\n",
       "  </thead>\n",
       "  <tbody>\n",
       "    <tr>\n",
       "      <th>4</th>\n",
       "      <td>Cool</td>\n",
       "      <td>Yes</td>\n",
       "    </tr>\n",
       "    <tr>\n",
       "      <th>5</th>\n",
       "      <td>Cool</td>\n",
       "      <td>No</td>\n",
       "    </tr>\n",
       "    <tr>\n",
       "      <th>6</th>\n",
       "      <td>Cool</td>\n",
       "      <td>Yes</td>\n",
       "    </tr>\n",
       "  </tbody>\n",
       "</table>\n",
       "</div>"
      ],
      "text/plain": [
       "  Temperature PlayTennis\n",
       "4        Cool        Yes\n",
       "5        Cool         No\n",
       "6        Cool        Yes"
      ]
     },
     "metadata": {},
     "output_type": "display_data"
    }
   ],
   "source": [
    "TempH=df[df['Temperature']=='Hot']\n",
    "TempM=df[df['Temperature']=='Mild']\n",
    "TempC=df[df['Temperature']=='Cool']\n",
    "\n",
    "display(TempH.loc[:,['Temperature','PlayTennis']])\n",
    "display(TempM.loc[:,['Temperature','PlayTennis']])\n",
    "display(TempC.loc[:,['Temperature','PlayTennis']])"
   ]
  },
  {
   "cell_type": "code",
   "execution_count": 230,
   "metadata": {
    "ExecuteTime": {
     "end_time": "2019-04-27T18:41:58.166233Z",
     "start_time": "2019-04-27T18:41:58.160247Z"
    }
   },
   "outputs": [
    {
     "data": {
      "text/plain": [
       "0.9182958337659504"
      ]
     },
     "execution_count": 230,
     "metadata": {},
     "output_type": "execute_result"
    }
   ],
   "source": [
    "#Entropy for hot\n",
    "pH=np.sum(TempH['PlayTennis']=='Yes')\n",
    "nH=np.sum(TempH['PlayTennis']=='No')\n",
    "\n",
    "EHot=-pH/(pH+nH)*np.log2(pH/(pH+nH) + eps) - nH/(pH+nH)*np.log2(nH/(pH+nH) + eps)\n",
    "EHot"
   ]
  },
  {
   "cell_type": "code",
   "execution_count": 231,
   "metadata": {
    "ExecuteTime": {
     "end_time": "2019-04-27T18:41:58.800079Z",
     "start_time": "2019-04-27T18:41:58.794095Z"
    }
   },
   "outputs": [
    {
     "data": {
      "text/plain": [
       "-1.4426951601859516e-10"
      ]
     },
     "execution_count": 231,
     "metadata": {},
     "output_type": "execute_result"
    }
   ],
   "source": [
    "#Entropy for mild\n",
    "pM=np.sum(TempM['PlayTennis']=='Yes')\n",
    "nM=np.sum(TempM['PlayTennis']=='No')\n",
    "\n",
    "EMild=-pM/(pM+nM)*np.log2(pM/(pM+nM) + eps) - nM/(pM+nM)*np.log2(nM/(pM+nM) + eps)\n",
    "EMild"
   ]
  },
  {
   "cell_type": "code",
   "execution_count": 232,
   "metadata": {
    "ExecuteTime": {
     "end_time": "2019-04-27T18:41:59.344665Z",
     "start_time": "2019-04-27T18:41:59.340654Z"
    }
   },
   "outputs": [
    {
     "data": {
      "text/plain": [
       "0.9182958337659504"
      ]
     },
     "execution_count": 232,
     "metadata": {},
     "output_type": "execute_result"
    }
   ],
   "source": [
    "#Entropy for cool\n",
    "pC=np.sum(TempC['PlayTennis']=='Yes')\n",
    "nC=np.sum(TempC['PlayTennis']=='No')\n",
    "\n",
    "ECool=-pC/(pC+nC)*np.log2(pC/(pC+nC) + eps) - nC/(pC+nC)*np.log2(nC/(pC+nC) + eps)\n",
    "ECool"
   ]
  },
  {
   "cell_type": "code",
   "execution_count": 233,
   "metadata": {
    "ExecuteTime": {
     "end_time": "2019-04-27T18:41:59.885605Z",
     "start_time": "2019-04-27T18:41:59.881640Z"
    }
   },
   "outputs": [
    {
     "data": {
      "text/plain": [
       "0.7871107146359189"
      ]
     },
     "execution_count": 233,
     "metadata": {},
     "output_type": "execute_result"
    }
   ],
   "source": [
    "# Calculate average information entropy\n",
    "\n",
    "ITemp= (pH+nH)/total*EHot + (pM+nM)/total*EMild + (pC+nC)/total*ECool\n",
    "ITemp"
   ]
  },
  {
   "cell_type": "code",
   "execution_count": 234,
   "metadata": {
    "ExecuteTime": {
     "end_time": "2019-04-27T18:42:01.181067Z",
     "start_time": "2019-04-27T18:42:01.177078Z"
    }
   },
   "outputs": [
    {
     "data": {
      "text/plain": [
       "0.19811742139833266"
      ]
     },
     "execution_count": 234,
     "metadata": {},
     "output_type": "execute_result"
    }
   ],
   "source": [
    "# Calculate information gain\n",
    "IGTemp=EntropyS-ITemp\n",
    "IGTemp"
   ]
  },
  {
   "cell_type": "markdown",
   "metadata": {},
   "source": [
    "### Humidity"
   ]
  },
  {
   "cell_type": "code",
   "execution_count": 235,
   "metadata": {
    "ExecuteTime": {
     "end_time": "2019-04-27T18:42:23.360271Z",
     "start_time": "2019-04-27T18:42:23.348326Z"
    }
   },
   "outputs": [
    {
     "data": {
      "text/html": [
       "<div>\n",
       "<style scoped>\n",
       "    .dataframe tbody tr th:only-of-type {\n",
       "        vertical-align: middle;\n",
       "    }\n",
       "\n",
       "    .dataframe tbody tr th {\n",
       "        vertical-align: top;\n",
       "    }\n",
       "\n",
       "    .dataframe thead th {\n",
       "        text-align: right;\n",
       "    }\n",
       "</style>\n",
       "<table border=\"1\" class=\"dataframe\">\n",
       "  <thead>\n",
       "    <tr style=\"text-align: right;\">\n",
       "      <th></th>\n",
       "      <th>Humidity</th>\n",
       "      <th>PlayTennis</th>\n",
       "    </tr>\n",
       "  </thead>\n",
       "  <tbody>\n",
       "    <tr>\n",
       "      <th>0</th>\n",
       "      <td>High</td>\n",
       "      <td>No</td>\n",
       "    </tr>\n",
       "    <tr>\n",
       "      <th>1</th>\n",
       "      <td>High</td>\n",
       "      <td>No</td>\n",
       "    </tr>\n",
       "    <tr>\n",
       "      <th>2</th>\n",
       "      <td>High</td>\n",
       "      <td>Yes</td>\n",
       "    </tr>\n",
       "    <tr>\n",
       "      <th>3</th>\n",
       "      <td>High</td>\n",
       "      <td>Yes</td>\n",
       "    </tr>\n",
       "  </tbody>\n",
       "</table>\n",
       "</div>"
      ],
      "text/plain": [
       "  Humidity PlayTennis\n",
       "0     High         No\n",
       "1     High         No\n",
       "2     High        Yes\n",
       "3     High        Yes"
      ]
     },
     "metadata": {},
     "output_type": "display_data"
    },
    {
     "data": {
      "text/html": [
       "<div>\n",
       "<style scoped>\n",
       "    .dataframe tbody tr th:only-of-type {\n",
       "        vertical-align: middle;\n",
       "    }\n",
       "\n",
       "    .dataframe tbody tr th {\n",
       "        vertical-align: top;\n",
       "    }\n",
       "\n",
       "    .dataframe thead th {\n",
       "        text-align: right;\n",
       "    }\n",
       "</style>\n",
       "<table border=\"1\" class=\"dataframe\">\n",
       "  <thead>\n",
       "    <tr style=\"text-align: right;\">\n",
       "      <th></th>\n",
       "      <th>Humidity</th>\n",
       "      <th>PlayTennis</th>\n",
       "    </tr>\n",
       "  </thead>\n",
       "  <tbody>\n",
       "    <tr>\n",
       "      <th>4</th>\n",
       "      <td>Normal</td>\n",
       "      <td>Yes</td>\n",
       "    </tr>\n",
       "    <tr>\n",
       "      <th>5</th>\n",
       "      <td>Normal</td>\n",
       "      <td>No</td>\n",
       "    </tr>\n",
       "    <tr>\n",
       "      <th>6</th>\n",
       "      <td>Normal</td>\n",
       "      <td>Yes</td>\n",
       "    </tr>\n",
       "  </tbody>\n",
       "</table>\n",
       "</div>"
      ],
      "text/plain": [
       "  Humidity PlayTennis\n",
       "4   Normal        Yes\n",
       "5   Normal         No\n",
       "6   Normal        Yes"
      ]
     },
     "metadata": {},
     "output_type": "display_data"
    }
   ],
   "source": [
    "HumidH=df[df['Humidity']=='High']\n",
    "HumidN=df[df['Humidity']=='Normal']\n",
    "\n",
    "display(HumidH.loc[:,['Humidity','PlayTennis']])\n",
    "display(HumidN.loc[:,['Humidity','PlayTennis']])"
   ]
  },
  {
   "cell_type": "code",
   "execution_count": 236,
   "metadata": {
    "ExecuteTime": {
     "end_time": "2019-04-27T18:42:29.705688Z",
     "start_time": "2019-04-27T18:42:29.699704Z"
    }
   },
   "outputs": [
    {
     "data": {
      "text/plain": [
       "0.9999999997114609"
      ]
     },
     "execution_count": 236,
     "metadata": {},
     "output_type": "execute_result"
    }
   ],
   "source": [
    "#Entropy for high\n",
    "pH=np.sum(HumidH['PlayTennis']=='Yes')\n",
    "nH=np.sum(HumidH['PlayTennis']=='No')\n",
    "\n",
    "EHigh=-pH/(pH+nH)*np.log2(pH/(pH+nH) + eps) - nH/(pH+nH)*np.log2(nH/(pH+nH) + eps)\n",
    "EHigh"
   ]
  },
  {
   "cell_type": "code",
   "execution_count": 237,
   "metadata": {
    "ExecuteTime": {
     "end_time": "2019-04-27T18:42:34.713413Z",
     "start_time": "2019-04-27T18:42:34.707452Z"
    }
   },
   "outputs": [
    {
     "data": {
      "text/plain": [
       "0.9182958337659504"
      ]
     },
     "execution_count": 237,
     "metadata": {},
     "output_type": "execute_result"
    }
   ],
   "source": [
    "#Entropy for normal\n",
    "pN=np.sum(HumidN['PlayTennis']=='Yes')\n",
    "nN=np.sum(HumidN['PlayTennis']=='No')\n",
    "\n",
    "ENormal=-pN/(pN+nN)*np.log2(pN/(pN+nN) + eps) - nN/(pN+nN)*np.log2(nN/(pN+nN) + eps)\n",
    "ENormal"
   ]
  },
  {
   "cell_type": "code",
   "execution_count": 238,
   "metadata": {
    "ExecuteTime": {
     "end_time": "2019-04-27T18:42:40.584186Z",
     "start_time": "2019-04-27T18:42:40.580215Z"
    }
   },
   "outputs": [
    {
     "data": {
      "text/plain": [
       "0.9649839285919564"
      ]
     },
     "execution_count": 238,
     "metadata": {},
     "output_type": "execute_result"
    }
   ],
   "source": [
    "# Calculate average information entropy\n",
    "\n",
    "IHumid= (pH+nH)/total*EHigh + (pN+nN)/total*ENormal \n",
    "IHumid"
   ]
  },
  {
   "cell_type": "code",
   "execution_count": 239,
   "metadata": {
    "ExecuteTime": {
     "end_time": "2019-04-27T18:42:45.072100Z",
     "start_time": "2019-04-27T18:42:45.068111Z"
    }
   },
   "outputs": [
    {
     "data": {
      "text/plain": [
       "0.02024420744229516"
      ]
     },
     "execution_count": 239,
     "metadata": {},
     "output_type": "execute_result"
    }
   ],
   "source": [
    "# Calculate information gain\n",
    "IGHumid=EntropyS-IHumid\n",
    "IGHumid"
   ]
  },
  {
   "cell_type": "markdown",
   "metadata": {},
   "source": [
    "### Wind"
   ]
  },
  {
   "cell_type": "code",
   "execution_count": 240,
   "metadata": {
    "ExecuteTime": {
     "end_time": "2019-04-27T18:43:01.160948Z",
     "start_time": "2019-04-27T18:43:01.147962Z"
    }
   },
   "outputs": [
    {
     "data": {
      "text/html": [
       "<div>\n",
       "<style scoped>\n",
       "    .dataframe tbody tr th:only-of-type {\n",
       "        vertical-align: middle;\n",
       "    }\n",
       "\n",
       "    .dataframe tbody tr th {\n",
       "        vertical-align: top;\n",
       "    }\n",
       "\n",
       "    .dataframe thead th {\n",
       "        text-align: right;\n",
       "    }\n",
       "</style>\n",
       "<table border=\"1\" class=\"dataframe\">\n",
       "  <thead>\n",
       "    <tr style=\"text-align: right;\">\n",
       "      <th></th>\n",
       "      <th>Wind</th>\n",
       "      <th>PlayTennis</th>\n",
       "    </tr>\n",
       "  </thead>\n",
       "  <tbody>\n",
       "    <tr>\n",
       "      <th>1</th>\n",
       "      <td>Strong</td>\n",
       "      <td>No</td>\n",
       "    </tr>\n",
       "    <tr>\n",
       "      <th>5</th>\n",
       "      <td>Strong</td>\n",
       "      <td>No</td>\n",
       "    </tr>\n",
       "    <tr>\n",
       "      <th>6</th>\n",
       "      <td>Strong</td>\n",
       "      <td>Yes</td>\n",
       "    </tr>\n",
       "  </tbody>\n",
       "</table>\n",
       "</div>"
      ],
      "text/plain": [
       "     Wind PlayTennis\n",
       "1  Strong         No\n",
       "5  Strong         No\n",
       "6  Strong        Yes"
      ]
     },
     "metadata": {},
     "output_type": "display_data"
    },
    {
     "data": {
      "text/html": [
       "<div>\n",
       "<style scoped>\n",
       "    .dataframe tbody tr th:only-of-type {\n",
       "        vertical-align: middle;\n",
       "    }\n",
       "\n",
       "    .dataframe tbody tr th {\n",
       "        vertical-align: top;\n",
       "    }\n",
       "\n",
       "    .dataframe thead th {\n",
       "        text-align: right;\n",
       "    }\n",
       "</style>\n",
       "<table border=\"1\" class=\"dataframe\">\n",
       "  <thead>\n",
       "    <tr style=\"text-align: right;\">\n",
       "      <th></th>\n",
       "      <th>Wind</th>\n",
       "      <th>PlayTennis</th>\n",
       "    </tr>\n",
       "  </thead>\n",
       "  <tbody>\n",
       "    <tr>\n",
       "      <th>0</th>\n",
       "      <td>Weak</td>\n",
       "      <td>No</td>\n",
       "    </tr>\n",
       "    <tr>\n",
       "      <th>2</th>\n",
       "      <td>Weak</td>\n",
       "      <td>Yes</td>\n",
       "    </tr>\n",
       "    <tr>\n",
       "      <th>3</th>\n",
       "      <td>Weak</td>\n",
       "      <td>Yes</td>\n",
       "    </tr>\n",
       "    <tr>\n",
       "      <th>4</th>\n",
       "      <td>Weak</td>\n",
       "      <td>Yes</td>\n",
       "    </tr>\n",
       "  </tbody>\n",
       "</table>\n",
       "</div>"
      ],
      "text/plain": [
       "   Wind PlayTennis\n",
       "0  Weak         No\n",
       "2  Weak        Yes\n",
       "3  Weak        Yes\n",
       "4  Weak        Yes"
      ]
     },
     "metadata": {},
     "output_type": "display_data"
    }
   ],
   "source": [
    "WindS=df[df['Wind']=='Strong']\n",
    "WindW=df[df['Wind']=='Weak']\n",
    "\n",
    "display(WindS.loc[:,['Wind','PlayTennis']])\n",
    "display(WindW.loc[:,['Wind','PlayTennis']])"
   ]
  },
  {
   "cell_type": "code",
   "execution_count": 241,
   "metadata": {
    "ExecuteTime": {
     "end_time": "2019-04-27T18:43:07.281245Z",
     "start_time": "2019-04-27T18:43:07.275261Z"
    }
   },
   "outputs": [
    {
     "data": {
      "text/plain": [
       "0.9182958337659504"
      ]
     },
     "execution_count": 241,
     "metadata": {},
     "output_type": "execute_result"
    }
   ],
   "source": [
    "#Entropy for strong\n",
    "pS=np.sum(WindS['PlayTennis']=='Yes')\n",
    "nS=np.sum(WindS['PlayTennis']=='No')\n",
    "\n",
    "EStrong=-pS/(pS+nS)*np.log2(pS/(pS+nS) + eps) - nS/(pS+nS)*np.log2(nS/(pS+nS) + eps)\n",
    "EStrong"
   ]
  },
  {
   "cell_type": "code",
   "execution_count": 242,
   "metadata": {
    "ExecuteTime": {
     "end_time": "2019-04-27T18:43:11.792895Z",
     "start_time": "2019-04-27T18:43:11.787931Z"
    }
   },
   "outputs": [
    {
     "data": {
      "text/plain": [
       "0.8112781241705938"
      ]
     },
     "execution_count": 242,
     "metadata": {},
     "output_type": "execute_result"
    }
   ],
   "source": [
    "#Entropy for weak\n",
    "pW=np.sum(WindW['PlayTennis']=='Yes')\n",
    "nW=np.sum(WindW['PlayTennis']=='No')\n",
    "\n",
    "EWeak=-pW/(pW+nW)*np.log2(pW/(pW+nW) + eps) - nW/(pW+nW)*np.log2(nW/(pW+nW) + eps)\n",
    "EWeak"
   ]
  },
  {
   "cell_type": "code",
   "execution_count": 243,
   "metadata": {
    "ExecuteTime": {
     "end_time": "2019-04-27T18:43:19.631436Z",
     "start_time": "2019-04-27T18:43:19.627447Z"
    }
   },
   "outputs": [
    {
     "data": {
      "text/plain": [
       "0.857142856854318"
      ]
     },
     "execution_count": 243,
     "metadata": {},
     "output_type": "execute_result"
    }
   ],
   "source": [
    "# Calculate average information entropy\n",
    "\n",
    "IWind= (pW+nW)/total*EWeak + (pS+nS)/total*EStrong \n",
    "IWind"
   ]
  },
  {
   "cell_type": "code",
   "execution_count": 244,
   "metadata": {
    "ExecuteTime": {
     "end_time": "2019-04-27T18:43:23.814931Z",
     "start_time": "2019-04-27T18:43:23.811961Z"
    }
   },
   "outputs": [
    {
     "data": {
      "text/plain": [
       "0.1280852791799335"
      ]
     },
     "execution_count": 244,
     "metadata": {},
     "output_type": "execute_result"
    }
   ],
   "source": [
    "# Calculate information gain\n",
    "IGWind=EntropyS-IWind\n",
    "IGWind"
   ]
  },
  {
   "cell_type": "markdown",
   "metadata": {},
   "source": [
    "As we can see the attribute that gives us the maximum information gain is **Outlook** with a gain of 0.59\n",
    "\n",
    "Therefore, it will be our root node"
   ]
  },
  {
   "cell_type": "code",
   "execution_count": 245,
   "metadata": {
    "ExecuteTime": {
     "end_time": "2019-04-27T18:44:02.682299Z",
     "start_time": "2019-04-27T18:44:02.667318Z"
    }
   },
   "outputs": [
    {
     "data": {
      "text/html": [
       "<div>\n",
       "<style scoped>\n",
       "    .dataframe tbody tr th:only-of-type {\n",
       "        vertical-align: middle;\n",
       "    }\n",
       "\n",
       "    .dataframe tbody tr th {\n",
       "        vertical-align: top;\n",
       "    }\n",
       "\n",
       "    .dataframe thead th {\n",
       "        text-align: right;\n",
       "    }\n",
       "</style>\n",
       "<table border=\"1\" class=\"dataframe\">\n",
       "  <thead>\n",
       "    <tr style=\"text-align: right;\">\n",
       "      <th></th>\n",
       "      <th>Outlook</th>\n",
       "      <th>PlayTennis</th>\n",
       "    </tr>\n",
       "  </thead>\n",
       "  <tbody>\n",
       "    <tr>\n",
       "      <th>0</th>\n",
       "      <td>Sunny</td>\n",
       "      <td>No</td>\n",
       "    </tr>\n",
       "    <tr>\n",
       "      <th>1</th>\n",
       "      <td>Sunny</td>\n",
       "      <td>No</td>\n",
       "    </tr>\n",
       "  </tbody>\n",
       "</table>\n",
       "</div>"
      ],
      "text/plain": [
       "  Outlook PlayTennis\n",
       "0   Sunny         No\n",
       "1   Sunny         No"
      ]
     },
     "metadata": {},
     "output_type": "display_data"
    },
    {
     "data": {
      "text/html": [
       "<div>\n",
       "<style scoped>\n",
       "    .dataframe tbody tr th:only-of-type {\n",
       "        vertical-align: middle;\n",
       "    }\n",
       "\n",
       "    .dataframe tbody tr th {\n",
       "        vertical-align: top;\n",
       "    }\n",
       "\n",
       "    .dataframe thead th {\n",
       "        text-align: right;\n",
       "    }\n",
       "</style>\n",
       "<table border=\"1\" class=\"dataframe\">\n",
       "  <thead>\n",
       "    <tr style=\"text-align: right;\">\n",
       "      <th></th>\n",
       "      <th>Outlook</th>\n",
       "      <th>PlayTennis</th>\n",
       "    </tr>\n",
       "  </thead>\n",
       "  <tbody>\n",
       "    <tr>\n",
       "      <th>3</th>\n",
       "      <td>Rain</td>\n",
       "      <td>Yes</td>\n",
       "    </tr>\n",
       "    <tr>\n",
       "      <th>4</th>\n",
       "      <td>Rain</td>\n",
       "      <td>Yes</td>\n",
       "    </tr>\n",
       "    <tr>\n",
       "      <th>5</th>\n",
       "      <td>Rain</td>\n",
       "      <td>No</td>\n",
       "    </tr>\n",
       "  </tbody>\n",
       "</table>\n",
       "</div>"
      ],
      "text/plain": [
       "  Outlook PlayTennis\n",
       "3    Rain        Yes\n",
       "4    Rain        Yes\n",
       "5    Rain         No"
      ]
     },
     "metadata": {},
     "output_type": "display_data"
    },
    {
     "data": {
      "text/html": [
       "<div>\n",
       "<style scoped>\n",
       "    .dataframe tbody tr th:only-of-type {\n",
       "        vertical-align: middle;\n",
       "    }\n",
       "\n",
       "    .dataframe tbody tr th {\n",
       "        vertical-align: top;\n",
       "    }\n",
       "\n",
       "    .dataframe thead th {\n",
       "        text-align: right;\n",
       "    }\n",
       "</style>\n",
       "<table border=\"1\" class=\"dataframe\">\n",
       "  <thead>\n",
       "    <tr style=\"text-align: right;\">\n",
       "      <th></th>\n",
       "      <th>Outlook</th>\n",
       "      <th>PlayTennis</th>\n",
       "    </tr>\n",
       "  </thead>\n",
       "  <tbody>\n",
       "    <tr>\n",
       "      <th>2</th>\n",
       "      <td>Overcast</td>\n",
       "      <td>Yes</td>\n",
       "    </tr>\n",
       "    <tr>\n",
       "      <th>6</th>\n",
       "      <td>Overcast</td>\n",
       "      <td>Yes</td>\n",
       "    </tr>\n",
       "  </tbody>\n",
       "</table>\n",
       "</div>"
      ],
      "text/plain": [
       "    Outlook PlayTennis\n",
       "2  Overcast        Yes\n",
       "6  Overcast        Yes"
      ]
     },
     "metadata": {},
     "output_type": "display_data"
    }
   ],
   "source": [
    "display(OutlookS.loc[:,['Outlook','PlayTennis']])\n",
    "display(OutlookR.loc[:,['Outlook','PlayTennis']])\n",
    "display(OutlookO.loc[:,['Outlook','PlayTennis']])"
   ]
  },
  {
   "cell_type": "markdown",
   "metadata": {},
   "source": [
    "Since Outlook=Overcast and Outlook= Sunny have only positive and negative examples respectively, we don't need to split the tree anymore at these nodes.Therefore, they become **lead nodes**.  \n",
    "\n",
    "For Outlook=Rain we must keep splitting using the same procedure."
   ]
  },
  {
   "cell_type": "markdown",
   "metadata": {},
   "source": [
    "## Outlook = Rain sub-tree"
   ]
  },
  {
   "cell_type": "code",
   "execution_count": 246,
   "metadata": {
    "ExecuteTime": {
     "end_time": "2019-04-27T18:46:31.024516Z",
     "start_time": "2019-04-27T18:46:31.020546Z"
    }
   },
   "outputs": [
    {
     "data": {
      "text/plain": [
       "0.9182958337659504"
      ]
     },
     "execution_count": 246,
     "metadata": {},
     "output_type": "execute_result"
    }
   ],
   "source": [
    "#Entropy of rain\n",
    "ERain"
   ]
  },
  {
   "cell_type": "code",
   "execution_count": 247,
   "metadata": {
    "ExecuteTime": {
     "end_time": "2019-04-27T18:46:36.731359Z",
     "start_time": "2019-04-27T18:46:36.724379Z"
    }
   },
   "outputs": [
    {
     "data": {
      "text/html": [
       "<div>\n",
       "<style scoped>\n",
       "    .dataframe tbody tr th:only-of-type {\n",
       "        vertical-align: middle;\n",
       "    }\n",
       "\n",
       "    .dataframe tbody tr th {\n",
       "        vertical-align: top;\n",
       "    }\n",
       "\n",
       "    .dataframe thead th {\n",
       "        text-align: right;\n",
       "    }\n",
       "</style>\n",
       "<table border=\"1\" class=\"dataframe\">\n",
       "  <thead>\n",
       "    <tr style=\"text-align: right;\">\n",
       "      <th></th>\n",
       "      <th>Day</th>\n",
       "      <th>Outlook</th>\n",
       "      <th>Temperature</th>\n",
       "      <th>Humidity</th>\n",
       "      <th>Wind</th>\n",
       "      <th>PlayTennis</th>\n",
       "    </tr>\n",
       "  </thead>\n",
       "  <tbody>\n",
       "    <tr>\n",
       "      <th>3</th>\n",
       "      <td>D4</td>\n",
       "      <td>Rain</td>\n",
       "      <td>Mild</td>\n",
       "      <td>High</td>\n",
       "      <td>Weak</td>\n",
       "      <td>Yes</td>\n",
       "    </tr>\n",
       "    <tr>\n",
       "      <th>4</th>\n",
       "      <td>D5</td>\n",
       "      <td>Rain</td>\n",
       "      <td>Cool</td>\n",
       "      <td>Normal</td>\n",
       "      <td>Weak</td>\n",
       "      <td>Yes</td>\n",
       "    </tr>\n",
       "    <tr>\n",
       "      <th>5</th>\n",
       "      <td>D6</td>\n",
       "      <td>Rain</td>\n",
       "      <td>Cool</td>\n",
       "      <td>Normal</td>\n",
       "      <td>Strong</td>\n",
       "      <td>No</td>\n",
       "    </tr>\n",
       "  </tbody>\n",
       "</table>\n",
       "</div>"
      ],
      "text/plain": [
       "  Day Outlook Temperature Humidity    Wind PlayTennis\n",
       "3  D4    Rain        Mild     High    Weak        Yes\n",
       "4  D5    Rain        Cool   Normal    Weak        Yes\n",
       "5  D6    Rain        Cool   Normal  Strong         No"
      ]
     },
     "execution_count": 247,
     "metadata": {},
     "output_type": "execute_result"
    }
   ],
   "source": [
    "OutlookR"
   ]
  },
  {
   "cell_type": "code",
   "execution_count": 248,
   "metadata": {
    "ExecuteTime": {
     "end_time": "2019-04-27T18:46:46.480344Z",
     "start_time": "2019-04-27T18:46:46.476356Z"
    }
   },
   "outputs": [
    {
     "data": {
      "text/plain": [
       "3"
      ]
     },
     "execution_count": 248,
     "metadata": {},
     "output_type": "execute_result"
    }
   ],
   "source": [
    "total=pR+nR\n",
    "total"
   ]
  },
  {
   "cell_type": "markdown",
   "metadata": {},
   "source": [
    "### Humidity"
   ]
  },
  {
   "cell_type": "code",
   "execution_count": 249,
   "metadata": {
    "ExecuteTime": {
     "end_time": "2019-04-27T18:47:05.591797Z",
     "start_time": "2019-04-27T18:47:05.579829Z"
    }
   },
   "outputs": [
    {
     "data": {
      "text/html": [
       "<div>\n",
       "<style scoped>\n",
       "    .dataframe tbody tr th:only-of-type {\n",
       "        vertical-align: middle;\n",
       "    }\n",
       "\n",
       "    .dataframe tbody tr th {\n",
       "        vertical-align: top;\n",
       "    }\n",
       "\n",
       "    .dataframe thead th {\n",
       "        text-align: right;\n",
       "    }\n",
       "</style>\n",
       "<table border=\"1\" class=\"dataframe\">\n",
       "  <thead>\n",
       "    <tr style=\"text-align: right;\">\n",
       "      <th></th>\n",
       "      <th>Humidity</th>\n",
       "      <th>PlayTennis</th>\n",
       "    </tr>\n",
       "  </thead>\n",
       "  <tbody>\n",
       "    <tr>\n",
       "      <th>3</th>\n",
       "      <td>High</td>\n",
       "      <td>Yes</td>\n",
       "    </tr>\n",
       "  </tbody>\n",
       "</table>\n",
       "</div>"
      ],
      "text/plain": [
       "  Humidity PlayTennis\n",
       "3     High        Yes"
      ]
     },
     "metadata": {},
     "output_type": "display_data"
    },
    {
     "data": {
      "text/html": [
       "<div>\n",
       "<style scoped>\n",
       "    .dataframe tbody tr th:only-of-type {\n",
       "        vertical-align: middle;\n",
       "    }\n",
       "\n",
       "    .dataframe tbody tr th {\n",
       "        vertical-align: top;\n",
       "    }\n",
       "\n",
       "    .dataframe thead th {\n",
       "        text-align: right;\n",
       "    }\n",
       "</style>\n",
       "<table border=\"1\" class=\"dataframe\">\n",
       "  <thead>\n",
       "    <tr style=\"text-align: right;\">\n",
       "      <th></th>\n",
       "      <th>Humidity</th>\n",
       "      <th>PlayTennis</th>\n",
       "    </tr>\n",
       "  </thead>\n",
       "  <tbody>\n",
       "    <tr>\n",
       "      <th>4</th>\n",
       "      <td>Normal</td>\n",
       "      <td>Yes</td>\n",
       "    </tr>\n",
       "    <tr>\n",
       "      <th>5</th>\n",
       "      <td>Normal</td>\n",
       "      <td>No</td>\n",
       "    </tr>\n",
       "  </tbody>\n",
       "</table>\n",
       "</div>"
      ],
      "text/plain": [
       "  Humidity PlayTennis\n",
       "4   Normal        Yes\n",
       "5   Normal         No"
      ]
     },
     "metadata": {},
     "output_type": "display_data"
    }
   ],
   "source": [
    "HumidH=OutlookR[OutlookR['Humidity']=='High']\n",
    "HumidN=OutlookR[OutlookR['Humidity']=='Normal']\n",
    "\n",
    "display(HumidH.loc[:,['Humidity','PlayTennis']])\n",
    "display(HumidN.loc[:,['Humidity','PlayTennis']])"
   ]
  },
  {
   "cell_type": "code",
   "execution_count": 250,
   "metadata": {
    "ExecuteTime": {
     "end_time": "2019-04-27T18:47:22.554060Z",
     "start_time": "2019-04-27T18:47:22.548098Z"
    }
   },
   "outputs": [
    {
     "data": {
      "text/plain": [
       "-1.4426951601859516e-10"
      ]
     },
     "execution_count": 250,
     "metadata": {},
     "output_type": "execute_result"
    }
   ],
   "source": [
    "#Entropy for high\n",
    "pH=np.sum(HumidH['PlayTennis']=='Yes')\n",
    "nH=np.sum(HumidH['PlayTennis']=='No')\n",
    "\n",
    "EHigh=-pH/(pH+nH)*np.log2(pH/(pH+nH) + eps) - nH/(pH+nH)*np.log2(nH/(pH+nH) + eps)\n",
    "EHigh"
   ]
  },
  {
   "cell_type": "code",
   "execution_count": 251,
   "metadata": {
    "ExecuteTime": {
     "end_time": "2019-04-27T18:47:28.081270Z",
     "start_time": "2019-04-27T18:47:28.076305Z"
    }
   },
   "outputs": [
    {
     "data": {
      "text/plain": [
       "0.9999999997114609"
      ]
     },
     "execution_count": 251,
     "metadata": {},
     "output_type": "execute_result"
    }
   ],
   "source": [
    "#Entropy for normal\n",
    "pN=np.sum(HumidN['PlayTennis']=='Yes')\n",
    "nN=np.sum(HumidN['PlayTennis']=='No')\n",
    "\n",
    "ENormal=-pN/(pN+nN)*np.log2(pN/(pN+nN) + eps) - nN/(pN+nN)*np.log2(nN/(pN+nN) + eps)\n",
    "ENormal"
   ]
  },
  {
   "cell_type": "code",
   "execution_count": 252,
   "metadata": {
    "ExecuteTime": {
     "end_time": "2019-04-27T18:47:34.656590Z",
     "start_time": "2019-04-27T18:47:34.652620Z"
    }
   },
   "outputs": [
    {
     "data": {
      "text/plain": [
       "0.6666666664262174"
      ]
     },
     "execution_count": 252,
     "metadata": {},
     "output_type": "execute_result"
    }
   ],
   "source": [
    "# Calculate average information entropy\n",
    "\n",
    "IHumid= (pH+nH)/total*EHigh + (pN+nN)/total*ENormal \n",
    "IHumid"
   ]
  },
  {
   "cell_type": "code",
   "execution_count": 253,
   "metadata": {
    "ExecuteTime": {
     "end_time": "2019-04-27T18:47:38.912831Z",
     "start_time": "2019-04-27T18:47:38.908842Z"
    }
   },
   "outputs": [
    {
     "data": {
      "text/plain": [
       "0.25162916733973295"
      ]
     },
     "execution_count": 253,
     "metadata": {},
     "output_type": "execute_result"
    }
   ],
   "source": [
    "# Calculate information gain\n",
    "IGHumid=ERain-IHumid\n",
    "IGHumid"
   ]
  },
  {
   "cell_type": "markdown",
   "metadata": {},
   "source": [
    "### Wind"
   ]
  },
  {
   "cell_type": "code",
   "execution_count": 254,
   "metadata": {
    "ExecuteTime": {
     "end_time": "2019-04-27T18:48:04.896898Z",
     "start_time": "2019-04-27T18:48:04.884908Z"
    }
   },
   "outputs": [
    {
     "data": {
      "text/html": [
       "<div>\n",
       "<style scoped>\n",
       "    .dataframe tbody tr th:only-of-type {\n",
       "        vertical-align: middle;\n",
       "    }\n",
       "\n",
       "    .dataframe tbody tr th {\n",
       "        vertical-align: top;\n",
       "    }\n",
       "\n",
       "    .dataframe thead th {\n",
       "        text-align: right;\n",
       "    }\n",
       "</style>\n",
       "<table border=\"1\" class=\"dataframe\">\n",
       "  <thead>\n",
       "    <tr style=\"text-align: right;\">\n",
       "      <th></th>\n",
       "      <th>Wind</th>\n",
       "      <th>PlayTennis</th>\n",
       "    </tr>\n",
       "  </thead>\n",
       "  <tbody>\n",
       "    <tr>\n",
       "      <th>5</th>\n",
       "      <td>Strong</td>\n",
       "      <td>No</td>\n",
       "    </tr>\n",
       "  </tbody>\n",
       "</table>\n",
       "</div>"
      ],
      "text/plain": [
       "     Wind PlayTennis\n",
       "5  Strong         No"
      ]
     },
     "metadata": {},
     "output_type": "display_data"
    },
    {
     "data": {
      "text/html": [
       "<div>\n",
       "<style scoped>\n",
       "    .dataframe tbody tr th:only-of-type {\n",
       "        vertical-align: middle;\n",
       "    }\n",
       "\n",
       "    .dataframe tbody tr th {\n",
       "        vertical-align: top;\n",
       "    }\n",
       "\n",
       "    .dataframe thead th {\n",
       "        text-align: right;\n",
       "    }\n",
       "</style>\n",
       "<table border=\"1\" class=\"dataframe\">\n",
       "  <thead>\n",
       "    <tr style=\"text-align: right;\">\n",
       "      <th></th>\n",
       "      <th>Wind</th>\n",
       "      <th>PlayTennis</th>\n",
       "    </tr>\n",
       "  </thead>\n",
       "  <tbody>\n",
       "    <tr>\n",
       "      <th>3</th>\n",
       "      <td>Weak</td>\n",
       "      <td>Yes</td>\n",
       "    </tr>\n",
       "    <tr>\n",
       "      <th>4</th>\n",
       "      <td>Weak</td>\n",
       "      <td>Yes</td>\n",
       "    </tr>\n",
       "  </tbody>\n",
       "</table>\n",
       "</div>"
      ],
      "text/plain": [
       "   Wind PlayTennis\n",
       "3  Weak        Yes\n",
       "4  Weak        Yes"
      ]
     },
     "metadata": {},
     "output_type": "display_data"
    }
   ],
   "source": [
    "WindS=OutlookR[OutlookR['Wind']=='Strong']\n",
    "WindW=OutlookR[OutlookR['Wind']=='Weak']\n",
    "\n",
    "display(WindS.loc[:,['Wind','PlayTennis']])\n",
    "display(WindW.loc[:,['Wind','PlayTennis']])"
   ]
  },
  {
   "cell_type": "code",
   "execution_count": 255,
   "metadata": {
    "ExecuteTime": {
     "end_time": "2019-04-27T18:48:10.074951Z",
     "start_time": "2019-04-27T18:48:10.068968Z"
    }
   },
   "outputs": [
    {
     "data": {
      "text/plain": [
       "-1.4426951601859516e-10"
      ]
     },
     "execution_count": 255,
     "metadata": {},
     "output_type": "execute_result"
    }
   ],
   "source": [
    "#Entropy for strong\n",
    "pS=np.sum(WindS['PlayTennis']=='Yes')\n",
    "nS=np.sum(WindS['PlayTennis']=='No')\n",
    "\n",
    "EStrong=-pS/(pS+nS)*np.log2(pS/(pS+nS) + eps) - nS/(pS+nS)*np.log2(nS/(pS+nS) + eps)\n",
    "EStrong"
   ]
  },
  {
   "cell_type": "code",
   "execution_count": 256,
   "metadata": {
    "ExecuteTime": {
     "end_time": "2019-04-27T18:48:16.065345Z",
     "start_time": "2019-04-27T18:48:16.060359Z"
    }
   },
   "outputs": [
    {
     "data": {
      "text/plain": [
       "-1.4426951601859516e-10"
      ]
     },
     "execution_count": 256,
     "metadata": {},
     "output_type": "execute_result"
    }
   ],
   "source": [
    "#Entropy for weak\n",
    "pW=np.sum(WindW['PlayTennis']=='Yes')\n",
    "nW=np.sum(WindW['PlayTennis']=='No')\n",
    "\n",
    "EWeak=-pW/(pW+nW)*np.log2(pW/(pW+nW) + eps) - nW/(pW+nW)*np.log2(nW/(pW+nW) + eps)\n",
    "EWeak"
   ]
  },
  {
   "cell_type": "code",
   "execution_count": 257,
   "metadata": {
    "ExecuteTime": {
     "end_time": "2019-04-27T18:48:21.761066Z",
     "start_time": "2019-04-27T18:48:21.757078Z"
    }
   },
   "outputs": [
    {
     "data": {
      "text/plain": [
       "-1.4426951601859514e-10"
      ]
     },
     "execution_count": 257,
     "metadata": {},
     "output_type": "execute_result"
    }
   ],
   "source": [
    "# Calculate average information entropy\n",
    "\n",
    "IWind= (pW+nW)/total*EWeak + (pS+nS)/total*EStrong \n",
    "IWind"
   ]
  },
  {
   "cell_type": "code",
   "execution_count": 258,
   "metadata": {
    "ExecuteTime": {
     "end_time": "2019-04-27T18:48:33.095541Z",
     "start_time": "2019-04-27T18:48:33.092538Z"
    }
   },
   "outputs": [
    {
     "data": {
      "text/plain": [
       "0.9182958339102198"
      ]
     },
     "execution_count": 258,
     "metadata": {},
     "output_type": "execute_result"
    }
   ],
   "source": [
    "# Calculate information gain\n",
    "IGWind=ERain-IWind\n",
    "IGWind"
   ]
  },
  {
   "cell_type": "markdown",
   "metadata": {},
   "source": [
    "### Temperature"
   ]
  },
  {
   "cell_type": "code",
   "execution_count": 259,
   "metadata": {
    "ExecuteTime": {
     "end_time": "2019-04-27T18:48:47.516299Z",
     "start_time": "2019-04-27T18:48:47.500321Z"
    }
   },
   "outputs": [
    {
     "data": {
      "text/html": [
       "<div>\n",
       "<style scoped>\n",
       "    .dataframe tbody tr th:only-of-type {\n",
       "        vertical-align: middle;\n",
       "    }\n",
       "\n",
       "    .dataframe tbody tr th {\n",
       "        vertical-align: top;\n",
       "    }\n",
       "\n",
       "    .dataframe thead th {\n",
       "        text-align: right;\n",
       "    }\n",
       "</style>\n",
       "<table border=\"1\" class=\"dataframe\">\n",
       "  <thead>\n",
       "    <tr style=\"text-align: right;\">\n",
       "      <th></th>\n",
       "      <th>Temperature</th>\n",
       "      <th>PlayTennis</th>\n",
       "    </tr>\n",
       "  </thead>\n",
       "  <tbody>\n",
       "  </tbody>\n",
       "</table>\n",
       "</div>"
      ],
      "text/plain": [
       "Empty DataFrame\n",
       "Columns: [Temperature, PlayTennis]\n",
       "Index: []"
      ]
     },
     "metadata": {},
     "output_type": "display_data"
    },
    {
     "data": {
      "text/html": [
       "<div>\n",
       "<style scoped>\n",
       "    .dataframe tbody tr th:only-of-type {\n",
       "        vertical-align: middle;\n",
       "    }\n",
       "\n",
       "    .dataframe tbody tr th {\n",
       "        vertical-align: top;\n",
       "    }\n",
       "\n",
       "    .dataframe thead th {\n",
       "        text-align: right;\n",
       "    }\n",
       "</style>\n",
       "<table border=\"1\" class=\"dataframe\">\n",
       "  <thead>\n",
       "    <tr style=\"text-align: right;\">\n",
       "      <th></th>\n",
       "      <th>Temperature</th>\n",
       "      <th>PlayTennis</th>\n",
       "    </tr>\n",
       "  </thead>\n",
       "  <tbody>\n",
       "    <tr>\n",
       "      <th>3</th>\n",
       "      <td>Mild</td>\n",
       "      <td>Yes</td>\n",
       "    </tr>\n",
       "  </tbody>\n",
       "</table>\n",
       "</div>"
      ],
      "text/plain": [
       "  Temperature PlayTennis\n",
       "3        Mild        Yes"
      ]
     },
     "metadata": {},
     "output_type": "display_data"
    },
    {
     "data": {
      "text/html": [
       "<div>\n",
       "<style scoped>\n",
       "    .dataframe tbody tr th:only-of-type {\n",
       "        vertical-align: middle;\n",
       "    }\n",
       "\n",
       "    .dataframe tbody tr th {\n",
       "        vertical-align: top;\n",
       "    }\n",
       "\n",
       "    .dataframe thead th {\n",
       "        text-align: right;\n",
       "    }\n",
       "</style>\n",
       "<table border=\"1\" class=\"dataframe\">\n",
       "  <thead>\n",
       "    <tr style=\"text-align: right;\">\n",
       "      <th></th>\n",
       "      <th>Temperature</th>\n",
       "      <th>PlayTennis</th>\n",
       "    </tr>\n",
       "  </thead>\n",
       "  <tbody>\n",
       "    <tr>\n",
       "      <th>4</th>\n",
       "      <td>Cool</td>\n",
       "      <td>Yes</td>\n",
       "    </tr>\n",
       "    <tr>\n",
       "      <th>5</th>\n",
       "      <td>Cool</td>\n",
       "      <td>No</td>\n",
       "    </tr>\n",
       "  </tbody>\n",
       "</table>\n",
       "</div>"
      ],
      "text/plain": [
       "  Temperature PlayTennis\n",
       "4        Cool        Yes\n",
       "5        Cool         No"
      ]
     },
     "metadata": {},
     "output_type": "display_data"
    }
   ],
   "source": [
    "TempH=OutlookR[OutlookR['Temperature']=='Hot']\n",
    "TempM=OutlookR[OutlookR['Temperature']=='Mild']\n",
    "TempC=OutlookR[OutlookR['Temperature']=='Cool']\n",
    "\n",
    "display(TempH.loc[:,['Temperature','PlayTennis']])\n",
    "display(TempM.loc[:,['Temperature','PlayTennis']])\n",
    "display(TempC.loc[:,['Temperature','PlayTennis']])"
   ]
  },
  {
   "cell_type": "code",
   "execution_count": 260,
   "metadata": {
    "ExecuteTime": {
     "end_time": "2019-04-27T18:48:53.897863Z",
     "start_time": "2019-04-27T18:48:53.891901Z"
    }
   },
   "outputs": [
    {
     "name": "stderr",
     "output_type": "stream",
     "text": [
      "C:\\Users\\Paul\\.conda\\envs\\ml\\lib\\site-packages\\ipykernel_launcher.py:5: RuntimeWarning: invalid value encountered in longlong_scalars\n",
      "  \"\"\"\n"
     ]
    },
    {
     "data": {
      "text/plain": [
       "nan"
      ]
     },
     "execution_count": 260,
     "metadata": {},
     "output_type": "execute_result"
    }
   ],
   "source": [
    "#Entropy for hot\n",
    "pH=np.sum(TempH['PlayTennis']=='Yes')\n",
    "nH=np.sum(TempH['PlayTennis']=='No')\n",
    "\n",
    "EHot=-pH/(pH+nH)*np.log2(pH/(pH+nH) + eps) - nH/(pH+nH)*np.log2(nH/(pH+nH) + eps)\n",
    "EHot"
   ]
  },
  {
   "cell_type": "code",
   "execution_count": 261,
   "metadata": {
    "ExecuteTime": {
     "end_time": "2019-04-27T18:48:58.978059Z",
     "start_time": "2019-04-27T18:48:58.973073Z"
    }
   },
   "outputs": [
    {
     "data": {
      "text/plain": [
       "-1.4426951601859516e-10"
      ]
     },
     "execution_count": 261,
     "metadata": {},
     "output_type": "execute_result"
    }
   ],
   "source": [
    "#Entropy for mild\n",
    "pM=np.sum(TempM['PlayTennis']=='Yes')\n",
    "nM=np.sum(TempM['PlayTennis']=='No')\n",
    "\n",
    "EMild=-pM/(pM+nM)*np.log2(pM/(pM+nM) + eps) - nM/(pM+nM)*np.log2(nM/(pM+nM) + eps)\n",
    "EMild"
   ]
  },
  {
   "cell_type": "code",
   "execution_count": 262,
   "metadata": {
    "ExecuteTime": {
     "end_time": "2019-04-27T18:49:02.952505Z",
     "start_time": "2019-04-27T18:49:02.948511Z"
    }
   },
   "outputs": [
    {
     "data": {
      "text/plain": [
       "0.9999999997114609"
      ]
     },
     "execution_count": 262,
     "metadata": {},
     "output_type": "execute_result"
    }
   ],
   "source": [
    "#Entropy for cool\n",
    "pC=np.sum(TempC['PlayTennis']=='Yes')\n",
    "nC=np.sum(TempC['PlayTennis']=='No')\n",
    "\n",
    "ECool=-pC/(pC+nC)*np.log2(pC/(pC+nC) + eps) - nC/(pC+nC)*np.log2(nC/(pC+nC) + eps)\n",
    "ECool"
   ]
  },
  {
   "cell_type": "code",
   "execution_count": 263,
   "metadata": {
    "ExecuteTime": {
     "end_time": "2019-04-27T18:49:07.976791Z",
     "start_time": "2019-04-27T18:49:07.972802Z"
    }
   },
   "outputs": [
    {
     "data": {
      "text/plain": [
       "0.6666666664262174"
      ]
     },
     "execution_count": 263,
     "metadata": {},
     "output_type": "execute_result"
    }
   ],
   "source": [
    "# Calculate average information entropy\n",
    "\n",
    "ITemp=  (pM+nM)/total*EMild + (pC+nC)/total*ECool\n",
    "ITemp"
   ]
  },
  {
   "cell_type": "code",
   "execution_count": 264,
   "metadata": {
    "ExecuteTime": {
     "end_time": "2019-04-27T18:49:17.902527Z",
     "start_time": "2019-04-27T18:49:17.898538Z"
    }
   },
   "outputs": [
    {
     "data": {
      "text/plain": [
       "0.25162916733973295"
      ]
     },
     "execution_count": 264,
     "metadata": {},
     "output_type": "execute_result"
    }
   ],
   "source": [
    "# Calculate information gain\n",
    "IGTemp=ERain-ITemp\n",
    "IGTemp"
   ]
  },
  {
   "cell_type": "markdown",
   "metadata": {},
   "source": [
    "The attribute with the maximum gain is **Wind** so the final decision tree will look like this.  \n",
    "\n",
    "<img src=\"https://i.gyazo.com/cdf2844673cd7b1238c400de56777585.png\">"
   ]
  },
  {
   "cell_type": "code",
   "execution_count": 265,
   "metadata": {
    "ExecuteTime": {
     "end_time": "2019-04-27T19:10:39.412083Z",
     "start_time": "2019-04-27T19:10:39.400136Z"
    }
   },
   "outputs": [
    {
     "data": {
      "text/html": [
       "<div>\n",
       "<style scoped>\n",
       "    .dataframe tbody tr th:only-of-type {\n",
       "        vertical-align: middle;\n",
       "    }\n",
       "\n",
       "    .dataframe tbody tr th {\n",
       "        vertical-align: top;\n",
       "    }\n",
       "\n",
       "    .dataframe thead th {\n",
       "        text-align: right;\n",
       "    }\n",
       "</style>\n",
       "<table border=\"1\" class=\"dataframe\">\n",
       "  <thead>\n",
       "    <tr style=\"text-align: right;\">\n",
       "      <th></th>\n",
       "      <th>Day</th>\n",
       "      <th>Outlook</th>\n",
       "      <th>Temperature</th>\n",
       "      <th>Humidity</th>\n",
       "      <th>Wind</th>\n",
       "      <th>PlayTennis</th>\n",
       "    </tr>\n",
       "  </thead>\n",
       "  <tbody>\n",
       "    <tr>\n",
       "      <th>0</th>\n",
       "      <td>D8</td>\n",
       "      <td>Sunny</td>\n",
       "      <td>Mild</td>\n",
       "      <td>High</td>\n",
       "      <td>Weak</td>\n",
       "      <td>No</td>\n",
       "    </tr>\n",
       "    <tr>\n",
       "      <th>1</th>\n",
       "      <td>D9</td>\n",
       "      <td>Sunny</td>\n",
       "      <td>Cool</td>\n",
       "      <td>Normal</td>\n",
       "      <td>Weak</td>\n",
       "      <td>Yes</td>\n",
       "    </tr>\n",
       "    <tr>\n",
       "      <th>2</th>\n",
       "      <td>D10</td>\n",
       "      <td>Rain</td>\n",
       "      <td>Mild</td>\n",
       "      <td>Normal</td>\n",
       "      <td>Weak</td>\n",
       "      <td>Yes</td>\n",
       "    </tr>\n",
       "    <tr>\n",
       "      <th>3</th>\n",
       "      <td>D11</td>\n",
       "      <td>Sunny</td>\n",
       "      <td>Mild</td>\n",
       "      <td>Normal</td>\n",
       "      <td>Strong</td>\n",
       "      <td>Yes</td>\n",
       "    </tr>\n",
       "    <tr>\n",
       "      <th>4</th>\n",
       "      <td>D12</td>\n",
       "      <td>Overcast</td>\n",
       "      <td>Mild</td>\n",
       "      <td>High</td>\n",
       "      <td>Strong</td>\n",
       "      <td>Yes</td>\n",
       "    </tr>\n",
       "    <tr>\n",
       "      <th>5</th>\n",
       "      <td>D13</td>\n",
       "      <td>Overcast</td>\n",
       "      <td>Hot</td>\n",
       "      <td>Normal</td>\n",
       "      <td>Weak</td>\n",
       "      <td>Yes</td>\n",
       "    </tr>\n",
       "    <tr>\n",
       "      <th>6</th>\n",
       "      <td>D14</td>\n",
       "      <td>Rain</td>\n",
       "      <td>Mild</td>\n",
       "      <td>High</td>\n",
       "      <td>Strong</td>\n",
       "      <td>No</td>\n",
       "    </tr>\n",
       "  </tbody>\n",
       "</table>\n",
       "</div>"
      ],
      "text/plain": [
       "   Day   Outlook Temperature Humidity    Wind PlayTennis\n",
       "0   D8     Sunny        Mild     High    Weak         No\n",
       "1   D9     Sunny        Cool   Normal    Weak        Yes\n",
       "2  D10      Rain        Mild   Normal    Weak        Yes\n",
       "3  D11     Sunny        Mild   Normal  Strong        Yes\n",
       "4  D12  Overcast        Mild     High  Strong        Yes\n",
       "5  D13  Overcast         Hot   Normal    Weak        Yes\n",
       "6  D14      Rain        Mild     High  Strong         No"
      ]
     },
     "execution_count": 265,
     "metadata": {},
     "output_type": "execute_result"
    }
   ],
   "source": [
    "testdf = pd.DataFrame(columns=[\"Day\",\"Outlook\", \"Temperature\",\"Humidity\",\"Wind\",\"PlayTennis\"],\n",
    "                   data=[\n",
    "                         ['D8','Sunny','Mild','High','Weak','No'],\n",
    "                         ['D9','Sunny','Cool','Normal','Weak','Yes'],\n",
    "                         ['D10','Rain','Mild','Normal','Weak','Yes'],\n",
    "                         ['D11','Sunny','Mild','Normal','Strong','Yes'],\n",
    "                         ['D12','Overcast','Mild','High','Strong','Yes'],\n",
    "                         ['D13','Overcast','Hot','Normal','Weak','Yes'],\n",
    "                         ['D14','Rain','Mild','High','Strong','No']])\n",
    "testdf"
   ]
  },
  {
   "cell_type": "markdown",
   "metadata": {},
   "source": [
    "Correctly classified test examples are D8,D10,D12,D13,D14 so 5 out of 7.  \n",
    "\n",
    "The tree became way too general.We didn't have enough examples to learn different cases.For example,the fact that there were no examples in the test set with Outlook = Sunny and PlayTennis = Yes ,intuitively makes us think that the training set in small."
   ]
  },
  {
   "cell_type": "markdown",
   "metadata": {},
   "source": [
    "# Pruning Strategies"
   ]
  },
  {
   "cell_type": "markdown",
   "metadata": {},
   "source": [
    "**In this case, and others, there are only a few labelled examples available for training (that is, no additional data\n",
    "is available for testing or validation). Suggest a concrete pruning strategy, that can be readily embedded in the\n",
    "algorithm, to avoid over fitting. Explain why you think this strategy should work.**"
   ]
  },
  {
   "cell_type": "markdown",
   "metadata": {},
   "source": [
    "Since we don't have a lot of data,we wont mention pruning strategies like \"Minimum error\" since they require evaluation of the tree in a validation data set.  \n",
    "\n",
    "What we can use is **early-stopping**.  \n",
    "\n",
    "A method to prevent overfitting is to try and stop the tree-building process early, before it produces leaves with **very small samples**. This heuristic is known as early stopping but is also sometimes known as pre-pruning decision trees."
   ]
  },
  {
   "cell_type": "markdown",
   "metadata": {},
   "source": [
    "This method will work on a lot of cases because a leaf node with a small number of samples is very likely to be over-specific which is analogous to over-fitting."
   ]
  }
 ],
 "metadata": {
  "kernelspec": {
   "display_name": "Python 3",
   "language": "python",
   "name": "python3"
  },
  "language_info": {
   "codemirror_mode": {
    "name": "ipython",
    "version": 3
   },
   "file_extension": ".py",
   "mimetype": "text/x-python",
   "name": "python",
   "nbconvert_exporter": "python",
   "pygments_lexer": "ipython3",
   "version": "3.6.7"
  },
  "latex_envs": {
   "LaTeX_envs_menu_present": true,
   "autoclose": false,
   "autocomplete": true,
   "bibliofile": "biblio.bib",
   "cite_by": "apalike",
   "current_citInitial": 1,
   "eqLabelWithNumbers": true,
   "eqNumInitial": 1,
   "hotkeys": {
    "equation": "Ctrl-E",
    "itemize": "Ctrl-I"
   },
   "labels_anchors": false,
   "latex_user_defs": false,
   "report_style_numbering": false,
   "user_envs_cfg": false
  },
  "toc": {
   "base_numbering": 1,
   "nav_menu": {},
   "number_sections": true,
   "sideBar": true,
   "skip_h1_title": false,
   "title_cell": "Table of Contents",
   "title_sidebar": "Contents",
   "toc_cell": false,
   "toc_position": {
    "height": "calc(100% - 180px)",
    "left": "10px",
    "top": "150px",
    "width": "252.273px"
   },
   "toc_section_display": true,
   "toc_window_display": false
  },
  "varInspector": {
   "cols": {
    "lenName": 16,
    "lenType": 16,
    "lenVar": 40
   },
   "kernels_config": {
    "python": {
     "delete_cmd_postfix": "",
     "delete_cmd_prefix": "del ",
     "library": "var_list.py",
     "varRefreshCmd": "print(var_dic_list())"
    },
    "r": {
     "delete_cmd_postfix": ") ",
     "delete_cmd_prefix": "rm(",
     "library": "var_list.r",
     "varRefreshCmd": "cat(var_dic_list()) "
    }
   },
   "types_to_exclude": [
    "module",
    "function",
    "builtin_function_or_method",
    "instance",
    "_Feature"
   ],
   "window_display": false
  }
 },
 "nbformat": 4,
 "nbformat_minor": 2
}
